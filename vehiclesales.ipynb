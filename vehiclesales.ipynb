{
 "cells": [
  {
   "cell_type": "markdown",
   "metadata": {},
   "source": [
    "# Imports"
   ]
  },
  {
   "cell_type": "code",
   "execution_count": 1,
   "metadata": {},
   "outputs": [],
   "source": [
    "# For data manipulation\n",
    "import numpy as np\n",
    "import pandas as pd"
   ]
  },
  {
   "cell_type": "code",
   "execution_count": 2,
   "metadata": {},
   "outputs": [],
   "source": [
    "# For data visualization\n",
    "import matplotlib.pyplot as plt\n",
    "import seaborn as sns"
   ]
  },
  {
   "cell_type": "code",
   "execution_count": 3,
   "metadata": {},
   "outputs": [],
   "source": [
    "# For displaying all of the columns in dataframes\n",
    "pd.set_option('display.max_columns', None)"
   ]
  },
  {
   "cell_type": "markdown",
   "metadata": {},
   "source": [
    "**Load Dataset**"
   ]
  },
  {
   "cell_type": "code",
   "execution_count": 4,
   "metadata": {},
   "outputs": [
    {
     "data": {
      "text/html": [
       "<div>\n",
       "<style scoped>\n",
       "    .dataframe tbody tr th:only-of-type {\n",
       "        vertical-align: middle;\n",
       "    }\n",
       "\n",
       "    .dataframe tbody tr th {\n",
       "        vertical-align: top;\n",
       "    }\n",
       "\n",
       "    .dataframe thead th {\n",
       "        text-align: right;\n",
       "    }\n",
       "</style>\n",
       "<table border=\"1\" class=\"dataframe\">\n",
       "  <thead>\n",
       "    <tr style=\"text-align: right;\">\n",
       "      <th></th>\n",
       "      <th>year</th>\n",
       "      <th>make</th>\n",
       "      <th>model</th>\n",
       "      <th>trim</th>\n",
       "      <th>body</th>\n",
       "      <th>transmission</th>\n",
       "      <th>vin</th>\n",
       "      <th>state</th>\n",
       "      <th>condition</th>\n",
       "      <th>odometer</th>\n",
       "      <th>color</th>\n",
       "      <th>interior</th>\n",
       "      <th>seller</th>\n",
       "      <th>mmr</th>\n",
       "      <th>sellingprice</th>\n",
       "      <th>saledate</th>\n",
       "    </tr>\n",
       "  </thead>\n",
       "  <tbody>\n",
       "    <tr>\n",
       "      <th>0</th>\n",
       "      <td>2015</td>\n",
       "      <td>Kia</td>\n",
       "      <td>Sorento</td>\n",
       "      <td>LX</td>\n",
       "      <td>SUV</td>\n",
       "      <td>automatic</td>\n",
       "      <td>5xyktca69fg566472</td>\n",
       "      <td>ca</td>\n",
       "      <td>5.0</td>\n",
       "      <td>16639.0</td>\n",
       "      <td>white</td>\n",
       "      <td>black</td>\n",
       "      <td>kia motors america  inc</td>\n",
       "      <td>20500.0</td>\n",
       "      <td>21500.0</td>\n",
       "      <td>Tue Dec 16 2014 12:30:00 GMT-0800 (PST)</td>\n",
       "    </tr>\n",
       "    <tr>\n",
       "      <th>1</th>\n",
       "      <td>2015</td>\n",
       "      <td>Kia</td>\n",
       "      <td>Sorento</td>\n",
       "      <td>LX</td>\n",
       "      <td>SUV</td>\n",
       "      <td>automatic</td>\n",
       "      <td>5xyktca69fg561319</td>\n",
       "      <td>ca</td>\n",
       "      <td>5.0</td>\n",
       "      <td>9393.0</td>\n",
       "      <td>white</td>\n",
       "      <td>beige</td>\n",
       "      <td>kia motors america  inc</td>\n",
       "      <td>20800.0</td>\n",
       "      <td>21500.0</td>\n",
       "      <td>Tue Dec 16 2014 12:30:00 GMT-0800 (PST)</td>\n",
       "    </tr>\n",
       "    <tr>\n",
       "      <th>2</th>\n",
       "      <td>2014</td>\n",
       "      <td>BMW</td>\n",
       "      <td>3 Series</td>\n",
       "      <td>328i SULEV</td>\n",
       "      <td>Sedan</td>\n",
       "      <td>automatic</td>\n",
       "      <td>wba3c1c51ek116351</td>\n",
       "      <td>ca</td>\n",
       "      <td>45.0</td>\n",
       "      <td>1331.0</td>\n",
       "      <td>gray</td>\n",
       "      <td>black</td>\n",
       "      <td>financial services remarketing (lease)</td>\n",
       "      <td>31900.0</td>\n",
       "      <td>30000.0</td>\n",
       "      <td>Thu Jan 15 2015 04:30:00 GMT-0800 (PST)</td>\n",
       "    </tr>\n",
       "    <tr>\n",
       "      <th>3</th>\n",
       "      <td>2015</td>\n",
       "      <td>Volvo</td>\n",
       "      <td>S60</td>\n",
       "      <td>T5</td>\n",
       "      <td>Sedan</td>\n",
       "      <td>automatic</td>\n",
       "      <td>yv1612tb4f1310987</td>\n",
       "      <td>ca</td>\n",
       "      <td>41.0</td>\n",
       "      <td>14282.0</td>\n",
       "      <td>white</td>\n",
       "      <td>black</td>\n",
       "      <td>volvo na rep/world omni</td>\n",
       "      <td>27500.0</td>\n",
       "      <td>27750.0</td>\n",
       "      <td>Thu Jan 29 2015 04:30:00 GMT-0800 (PST)</td>\n",
       "    </tr>\n",
       "    <tr>\n",
       "      <th>4</th>\n",
       "      <td>2014</td>\n",
       "      <td>BMW</td>\n",
       "      <td>6 Series Gran Coupe</td>\n",
       "      <td>650i</td>\n",
       "      <td>Sedan</td>\n",
       "      <td>automatic</td>\n",
       "      <td>wba6b2c57ed129731</td>\n",
       "      <td>ca</td>\n",
       "      <td>43.0</td>\n",
       "      <td>2641.0</td>\n",
       "      <td>gray</td>\n",
       "      <td>black</td>\n",
       "      <td>financial services remarketing (lease)</td>\n",
       "      <td>66000.0</td>\n",
       "      <td>67000.0</td>\n",
       "      <td>Thu Dec 18 2014 12:30:00 GMT-0800 (PST)</td>\n",
       "    </tr>\n",
       "  </tbody>\n",
       "</table>\n",
       "</div>"
      ],
      "text/plain": [
       "   year   make                model        trim   body transmission  \\\n",
       "0  2015    Kia              Sorento          LX    SUV    automatic   \n",
       "1  2015    Kia              Sorento          LX    SUV    automatic   \n",
       "2  2014    BMW             3 Series  328i SULEV  Sedan    automatic   \n",
       "3  2015  Volvo                  S60          T5  Sedan    automatic   \n",
       "4  2014    BMW  6 Series Gran Coupe        650i  Sedan    automatic   \n",
       "\n",
       "                 vin state  condition  odometer  color interior  \\\n",
       "0  5xyktca69fg566472    ca        5.0   16639.0  white    black   \n",
       "1  5xyktca69fg561319    ca        5.0    9393.0  white    beige   \n",
       "2  wba3c1c51ek116351    ca       45.0    1331.0   gray    black   \n",
       "3  yv1612tb4f1310987    ca       41.0   14282.0  white    black   \n",
       "4  wba6b2c57ed129731    ca       43.0    2641.0   gray    black   \n",
       "\n",
       "                                   seller      mmr  sellingprice  \\\n",
       "0                 kia motors america  inc  20500.0       21500.0   \n",
       "1                 kia motors america  inc  20800.0       21500.0   \n",
       "2  financial services remarketing (lease)  31900.0       30000.0   \n",
       "3                 volvo na rep/world omni  27500.0       27750.0   \n",
       "4  financial services remarketing (lease)  66000.0       67000.0   \n",
       "\n",
       "                                  saledate  \n",
       "0  Tue Dec 16 2014 12:30:00 GMT-0800 (PST)  \n",
       "1  Tue Dec 16 2014 12:30:00 GMT-0800 (PST)  \n",
       "2  Thu Jan 15 2015 04:30:00 GMT-0800 (PST)  \n",
       "3  Thu Jan 29 2015 04:30:00 GMT-0800 (PST)  \n",
       "4  Thu Dec 18 2014 12:30:00 GMT-0800 (PST)  "
      ]
     },
     "execution_count": 4,
     "metadata": {},
     "output_type": "execute_result"
    }
   ],
   "source": [
    "# Load dataset into a dataframe\n",
    "df = pd.read_csv('data/car_prices.csv')\n",
    "\n",
    "# Display first few rows of the dataframe\n",
    "df.head()"
   ]
  },
  {
   "cell_type": "markdown",
   "metadata": {},
   "source": [
    "**Data Dictionary** "
   ]
  },
  {
   "cell_type": "markdown",
   "metadata": {},
   "source": [
    "Variable  |Description |\n",
    "-----|-----|\n",
    "Vehicle Details |Includes specific information about each vehicle, such as its make, model, trim, and manufacturing year.|\n",
    "Transaction Information | Provides insights into the sales transactions, including selling prices and sale dates.|\n",
    "Market Trends | MMR values offer an estimate of the market value of each vehicle, allowing for analysis of market trends and fluctuations.|\n",
    "Condition and Mileage | Contains data on the condition of the vehicles as well as their odometer readings, enabling analysis of how these factors influence selling prices.|"
   ]
  },
  {
   "cell_type": "markdown",
   "metadata": {},
   "source": [
    "# Data Discovery"
   ]
  },
  {
   "cell_type": "markdown",
   "metadata": {},
   "source": [
    "**Gather basic information about the data**"
   ]
  },
  {
   "cell_type": "code",
   "execution_count": 5,
   "metadata": {},
   "outputs": [
    {
     "name": "stdout",
     "output_type": "stream",
     "text": [
      "Size: 8941392\n",
      "<class 'pandas.core.frame.DataFrame'>\n",
      "RangeIndex: 558837 entries, 0 to 558836\n",
      "Data columns (total 16 columns):\n",
      " #   Column        Non-Null Count   Dtype  \n",
      "---  ------        --------------   -----  \n",
      " 0   year          558837 non-null  int64  \n",
      " 1   make          548536 non-null  object \n",
      " 2   model         548438 non-null  object \n",
      " 3   trim          548186 non-null  object \n",
      " 4   body          545642 non-null  object \n",
      " 5   transmission  493485 non-null  object \n",
      " 6   vin           558833 non-null  object \n",
      " 7   state         558837 non-null  object \n",
      " 8   condition     547017 non-null  float64\n",
      " 9   odometer      558743 non-null  float64\n",
      " 10  color         558088 non-null  object \n",
      " 11  interior      558088 non-null  object \n",
      " 12  seller        558837 non-null  object \n",
      " 13  mmr           558799 non-null  float64\n",
      " 14  sellingprice  558825 non-null  float64\n",
      " 15  saledate      558825 non-null  object \n",
      "dtypes: float64(4), int64(1), object(11)\n",
      "memory usage: 68.2+ MB\n"
     ]
    }
   ],
   "source": [
    "# How large the dataset is. Total values across the whole data\n",
    "print('Size:', df.size)\n",
    "\n",
    "# Basic info\n",
    "df.info()"
   ]
  },
  {
   "cell_type": "markdown",
   "metadata": {},
   "source": [
    "- dataset has 8.9M values (almost $9M!)\n",
    "- 558837 rows representing a unique car transaction \n",
    "- 16 features with information about the car and transaction\n",
    "- 11 Categorical Variables: make, model, trim, body, transmission, vin, state, color, interior,seller, saledate\n",
    "- 5 Numerical Variables: year, condition, odometer, mmr, sellingprice\n",
    "\n",
    "- Only the year, state, and seller columns do NOT have null values, the other 13 all contain null values "
   ]
  },
  {
   "cell_type": "markdown",
   "metadata": {},
   "source": [
    "**Statistics summary**"
   ]
  },
  {
   "cell_type": "code",
   "execution_count": 6,
   "metadata": {},
   "outputs": [
    {
     "data": {
      "text/html": [
       "<div>\n",
       "<style scoped>\n",
       "    .dataframe tbody tr th:only-of-type {\n",
       "        vertical-align: middle;\n",
       "    }\n",
       "\n",
       "    .dataframe tbody tr th {\n",
       "        vertical-align: top;\n",
       "    }\n",
       "\n",
       "    .dataframe thead th {\n",
       "        text-align: right;\n",
       "    }\n",
       "</style>\n",
       "<table border=\"1\" class=\"dataframe\">\n",
       "  <thead>\n",
       "    <tr style=\"text-align: right;\">\n",
       "      <th></th>\n",
       "      <th>year</th>\n",
       "      <th>condition</th>\n",
       "      <th>odometer</th>\n",
       "      <th>mmr</th>\n",
       "      <th>sellingprice</th>\n",
       "    </tr>\n",
       "  </thead>\n",
       "  <tbody>\n",
       "    <tr>\n",
       "      <th>count</th>\n",
       "      <td>558837.000000</td>\n",
       "      <td>547017.000000</td>\n",
       "      <td>558743.000000</td>\n",
       "      <td>558799.000000</td>\n",
       "      <td>558825.000000</td>\n",
       "    </tr>\n",
       "    <tr>\n",
       "      <th>mean</th>\n",
       "      <td>2010.038927</td>\n",
       "      <td>30.672365</td>\n",
       "      <td>68320.017767</td>\n",
       "      <td>13769.377495</td>\n",
       "      <td>13611.358810</td>\n",
       "    </tr>\n",
       "    <tr>\n",
       "      <th>std</th>\n",
       "      <td>3.966864</td>\n",
       "      <td>13.402832</td>\n",
       "      <td>53398.542821</td>\n",
       "      <td>9679.967174</td>\n",
       "      <td>9749.501628</td>\n",
       "    </tr>\n",
       "    <tr>\n",
       "      <th>min</th>\n",
       "      <td>1982.000000</td>\n",
       "      <td>1.000000</td>\n",
       "      <td>1.000000</td>\n",
       "      <td>25.000000</td>\n",
       "      <td>1.000000</td>\n",
       "    </tr>\n",
       "    <tr>\n",
       "      <th>25%</th>\n",
       "      <td>2007.000000</td>\n",
       "      <td>23.000000</td>\n",
       "      <td>28371.000000</td>\n",
       "      <td>7100.000000</td>\n",
       "      <td>6900.000000</td>\n",
       "    </tr>\n",
       "    <tr>\n",
       "      <th>50%</th>\n",
       "      <td>2012.000000</td>\n",
       "      <td>35.000000</td>\n",
       "      <td>52254.000000</td>\n",
       "      <td>12250.000000</td>\n",
       "      <td>12100.000000</td>\n",
       "    </tr>\n",
       "    <tr>\n",
       "      <th>75%</th>\n",
       "      <td>2013.000000</td>\n",
       "      <td>42.000000</td>\n",
       "      <td>99109.000000</td>\n",
       "      <td>18300.000000</td>\n",
       "      <td>18200.000000</td>\n",
       "    </tr>\n",
       "    <tr>\n",
       "      <th>max</th>\n",
       "      <td>2015.000000</td>\n",
       "      <td>49.000000</td>\n",
       "      <td>999999.000000</td>\n",
       "      <td>182000.000000</td>\n",
       "      <td>230000.000000</td>\n",
       "    </tr>\n",
       "  </tbody>\n",
       "</table>\n",
       "</div>"
      ],
      "text/plain": [
       "                year      condition       odometer            mmr  \\\n",
       "count  558837.000000  547017.000000  558743.000000  558799.000000   \n",
       "mean     2010.038927      30.672365   68320.017767   13769.377495   \n",
       "std         3.966864      13.402832   53398.542821    9679.967174   \n",
       "min      1982.000000       1.000000       1.000000      25.000000   \n",
       "25%      2007.000000      23.000000   28371.000000    7100.000000   \n",
       "50%      2012.000000      35.000000   52254.000000   12250.000000   \n",
       "75%      2013.000000      42.000000   99109.000000   18300.000000   \n",
       "max      2015.000000      49.000000  999999.000000  182000.000000   \n",
       "\n",
       "        sellingprice  \n",
       "count  558825.000000  \n",
       "mean    13611.358810  \n",
       "std      9749.501628  \n",
       "min         1.000000  \n",
       "25%      6900.000000  \n",
       "50%     12100.000000  \n",
       "75%     18200.000000  \n",
       "max    230000.000000  "
      ]
     },
     "execution_count": 6,
     "metadata": {},
     "output_type": "execute_result"
    }
   ],
   "source": [
    "df.describe()"
   ]
  },
  {
   "cell_type": "markdown",
   "metadata": {},
   "source": [
    "- the sales transaction dates from 1982 to 2015.\n",
    "- 50% of the transactions occured after 2012. In other words, 50% of transactions were for cars maded in 1982-2011 amd 50% were maded in the last 3 years (2012-2015). \n",
    "- vehicle conditions range from 1-49 with an average around ~30\n",
    "- odometer readings are from 1 to 999,999 with an average around \n",
    "- the mmr is relatively close to the selling price which suggests it is a good indicator of the vehicle selling price. \n",
    "- vehicles were sold at minimum for $1 and max for $230K. The mean car price is around $13.6K"
   ]
  },
  {
   "cell_type": "markdown",
   "metadata": {},
   "source": [
    "# Data Structuring"
   ]
  },
  {
   "cell_type": "markdown",
   "metadata": {},
   "source": [
    "## saledate"
   ]
  },
  {
   "cell_type": "code",
   "execution_count": 7,
   "metadata": {},
   "outputs": [
    {
     "data": {
      "text/plain": [
       "0    Tue Dec 16 2014 12:30:00 GMT-0800 (PST)\n",
       "1    Tue Dec 16 2014 12:30:00 GMT-0800 (PST)\n",
       "Name: saledate, dtype: object"
      ]
     },
     "execution_count": 7,
     "metadata": {},
     "output_type": "execute_result"
    }
   ],
   "source": [
    "# filter by saledate column to review the data \n",
    "df['saledate'].head(2)"
   ]
  },
  {
   "cell_type": "markdown",
   "metadata": {},
   "source": [
    "saledate column is a concatenation of various date information (weekday, month, year, etc.). Let's separate them into new columns"
   ]
  },
  {
   "cell_type": "code",
   "execution_count": 8,
   "metadata": {},
   "outputs": [
    {
     "data": {
      "text/html": [
       "<div>\n",
       "<style scoped>\n",
       "    .dataframe tbody tr th:only-of-type {\n",
       "        vertical-align: middle;\n",
       "    }\n",
       "\n",
       "    .dataframe tbody tr th {\n",
       "        vertical-align: top;\n",
       "    }\n",
       "\n",
       "    .dataframe thead th {\n",
       "        text-align: right;\n",
       "    }\n",
       "</style>\n",
       "<table border=\"1\" class=\"dataframe\">\n",
       "  <thead>\n",
       "    <tr style=\"text-align: right;\">\n",
       "      <th></th>\n",
       "      <th>year</th>\n",
       "      <th>make</th>\n",
       "      <th>model</th>\n",
       "      <th>trim</th>\n",
       "      <th>body</th>\n",
       "      <th>transmission</th>\n",
       "      <th>vin</th>\n",
       "      <th>state</th>\n",
       "      <th>condition</th>\n",
       "      <th>odometer</th>\n",
       "      <th>color</th>\n",
       "      <th>interior</th>\n",
       "      <th>seller</th>\n",
       "      <th>mmr</th>\n",
       "      <th>sellingprice</th>\n",
       "      <th>saledate</th>\n",
       "      <th>sale_weekday</th>\n",
       "      <th>sale_month</th>\n",
       "      <th>sale_day</th>\n",
       "      <th>sale_year</th>\n",
       "      <th>sale_time</th>\n",
       "      <th>sale_time_zone</th>\n",
       "      <th>sale_time_zone2</th>\n",
       "    </tr>\n",
       "  </thead>\n",
       "  <tbody>\n",
       "    <tr>\n",
       "      <th>0</th>\n",
       "      <td>2015</td>\n",
       "      <td>Kia</td>\n",
       "      <td>Sorento</td>\n",
       "      <td>LX</td>\n",
       "      <td>SUV</td>\n",
       "      <td>automatic</td>\n",
       "      <td>5xyktca69fg566472</td>\n",
       "      <td>ca</td>\n",
       "      <td>5.0</td>\n",
       "      <td>16639.0</td>\n",
       "      <td>white</td>\n",
       "      <td>black</td>\n",
       "      <td>kia motors america  inc</td>\n",
       "      <td>20500.0</td>\n",
       "      <td>21500.0</td>\n",
       "      <td>Tue Dec 16 2014 12:30:00 GMT-0800 (PST)</td>\n",
       "      <td>Tue</td>\n",
       "      <td>Dec</td>\n",
       "      <td>16</td>\n",
       "      <td>2014</td>\n",
       "      <td>12:30:00</td>\n",
       "      <td>GMT-0800</td>\n",
       "      <td>(PST)</td>\n",
       "    </tr>\n",
       "    <tr>\n",
       "      <th>1</th>\n",
       "      <td>2015</td>\n",
       "      <td>Kia</td>\n",
       "      <td>Sorento</td>\n",
       "      <td>LX</td>\n",
       "      <td>SUV</td>\n",
       "      <td>automatic</td>\n",
       "      <td>5xyktca69fg561319</td>\n",
       "      <td>ca</td>\n",
       "      <td>5.0</td>\n",
       "      <td>9393.0</td>\n",
       "      <td>white</td>\n",
       "      <td>beige</td>\n",
       "      <td>kia motors america  inc</td>\n",
       "      <td>20800.0</td>\n",
       "      <td>21500.0</td>\n",
       "      <td>Tue Dec 16 2014 12:30:00 GMT-0800 (PST)</td>\n",
       "      <td>Tue</td>\n",
       "      <td>Dec</td>\n",
       "      <td>16</td>\n",
       "      <td>2014</td>\n",
       "      <td>12:30:00</td>\n",
       "      <td>GMT-0800</td>\n",
       "      <td>(PST)</td>\n",
       "    </tr>\n",
       "  </tbody>\n",
       "</table>\n",
       "</div>"
      ],
      "text/plain": [
       "   year make    model trim body transmission                vin state  \\\n",
       "0  2015  Kia  Sorento   LX  SUV    automatic  5xyktca69fg566472    ca   \n",
       "1  2015  Kia  Sorento   LX  SUV    automatic  5xyktca69fg561319    ca   \n",
       "\n",
       "   condition  odometer  color interior                   seller      mmr  \\\n",
       "0        5.0   16639.0  white    black  kia motors america  inc  20500.0   \n",
       "1        5.0    9393.0  white    beige  kia motors america  inc  20800.0   \n",
       "\n",
       "   sellingprice                                 saledate sale_weekday  \\\n",
       "0       21500.0  Tue Dec 16 2014 12:30:00 GMT-0800 (PST)          Tue   \n",
       "1       21500.0  Tue Dec 16 2014 12:30:00 GMT-0800 (PST)          Tue   \n",
       "\n",
       "  sale_month sale_day sale_year sale_time sale_time_zone sale_time_zone2  \n",
       "0        Dec       16      2014  12:30:00       GMT-0800           (PST)  \n",
       "1        Dec       16      2014  12:30:00       GMT-0800           (PST)  "
      ]
     },
     "execution_count": 8,
     "metadata": {},
     "output_type": "execute_result"
    }
   ],
   "source": [
    "# create new columns to store split data from saledate\n",
    "df[['sale_weekday','sale_month','sale_day','sale_year','sale_time','sale_time_zone','sale_time_zone2']] = df['saledate'].str.split(' ',expand=True)\n",
    "df.head(2)"
   ]
  },
  {
   "cell_type": "markdown",
   "metadata": {},
   "source": [
    "Create a copy of the original dataframe and drop the original saledate column because its redundant."
   ]
  },
  {
   "cell_type": "code",
   "execution_count": 9,
   "metadata": {},
   "outputs": [],
   "source": [
    "df_new= df.copy()\n",
    "df_new = df.drop(columns=['saledate','sale_time','sale_time_zone','sale_time_zone2'])"
   ]
  },
  {
   "cell_type": "code",
   "execution_count": 10,
   "metadata": {},
   "outputs": [
    {
     "data": {
      "text/html": [
       "<div>\n",
       "<style scoped>\n",
       "    .dataframe tbody tr th:only-of-type {\n",
       "        vertical-align: middle;\n",
       "    }\n",
       "\n",
       "    .dataframe tbody tr th {\n",
       "        vertical-align: top;\n",
       "    }\n",
       "\n",
       "    .dataframe thead th {\n",
       "        text-align: right;\n",
       "    }\n",
       "</style>\n",
       "<table border=\"1\" class=\"dataframe\">\n",
       "  <thead>\n",
       "    <tr style=\"text-align: right;\">\n",
       "      <th></th>\n",
       "      <th>year</th>\n",
       "      <th>make</th>\n",
       "      <th>model</th>\n",
       "      <th>trim</th>\n",
       "      <th>body</th>\n",
       "      <th>transmission</th>\n",
       "      <th>vin</th>\n",
       "      <th>state</th>\n",
       "      <th>condition</th>\n",
       "      <th>odometer</th>\n",
       "      <th>color</th>\n",
       "      <th>interior</th>\n",
       "      <th>seller</th>\n",
       "      <th>mmr</th>\n",
       "      <th>sellingprice</th>\n",
       "      <th>sale_weekday</th>\n",
       "      <th>sale_month</th>\n",
       "      <th>sale_day</th>\n",
       "      <th>sale_year</th>\n",
       "    </tr>\n",
       "  </thead>\n",
       "  <tbody>\n",
       "    <tr>\n",
       "      <th>0</th>\n",
       "      <td>2015</td>\n",
       "      <td>Kia</td>\n",
       "      <td>Sorento</td>\n",
       "      <td>LX</td>\n",
       "      <td>SUV</td>\n",
       "      <td>automatic</td>\n",
       "      <td>5xyktca69fg566472</td>\n",
       "      <td>ca</td>\n",
       "      <td>5.0</td>\n",
       "      <td>16639.0</td>\n",
       "      <td>white</td>\n",
       "      <td>black</td>\n",
       "      <td>kia motors america  inc</td>\n",
       "      <td>20500.0</td>\n",
       "      <td>21500.0</td>\n",
       "      <td>Tue</td>\n",
       "      <td>Dec</td>\n",
       "      <td>16</td>\n",
       "      <td>2014</td>\n",
       "    </tr>\n",
       "    <tr>\n",
       "      <th>1</th>\n",
       "      <td>2015</td>\n",
       "      <td>Kia</td>\n",
       "      <td>Sorento</td>\n",
       "      <td>LX</td>\n",
       "      <td>SUV</td>\n",
       "      <td>automatic</td>\n",
       "      <td>5xyktca69fg561319</td>\n",
       "      <td>ca</td>\n",
       "      <td>5.0</td>\n",
       "      <td>9393.0</td>\n",
       "      <td>white</td>\n",
       "      <td>beige</td>\n",
       "      <td>kia motors america  inc</td>\n",
       "      <td>20800.0</td>\n",
       "      <td>21500.0</td>\n",
       "      <td>Tue</td>\n",
       "      <td>Dec</td>\n",
       "      <td>16</td>\n",
       "      <td>2014</td>\n",
       "    </tr>\n",
       "    <tr>\n",
       "      <th>2</th>\n",
       "      <td>2014</td>\n",
       "      <td>BMW</td>\n",
       "      <td>3 Series</td>\n",
       "      <td>328i SULEV</td>\n",
       "      <td>Sedan</td>\n",
       "      <td>automatic</td>\n",
       "      <td>wba3c1c51ek116351</td>\n",
       "      <td>ca</td>\n",
       "      <td>45.0</td>\n",
       "      <td>1331.0</td>\n",
       "      <td>gray</td>\n",
       "      <td>black</td>\n",
       "      <td>financial services remarketing (lease)</td>\n",
       "      <td>31900.0</td>\n",
       "      <td>30000.0</td>\n",
       "      <td>Thu</td>\n",
       "      <td>Jan</td>\n",
       "      <td>15</td>\n",
       "      <td>2015</td>\n",
       "    </tr>\n",
       "    <tr>\n",
       "      <th>3</th>\n",
       "      <td>2015</td>\n",
       "      <td>Volvo</td>\n",
       "      <td>S60</td>\n",
       "      <td>T5</td>\n",
       "      <td>Sedan</td>\n",
       "      <td>automatic</td>\n",
       "      <td>yv1612tb4f1310987</td>\n",
       "      <td>ca</td>\n",
       "      <td>41.0</td>\n",
       "      <td>14282.0</td>\n",
       "      <td>white</td>\n",
       "      <td>black</td>\n",
       "      <td>volvo na rep/world omni</td>\n",
       "      <td>27500.0</td>\n",
       "      <td>27750.0</td>\n",
       "      <td>Thu</td>\n",
       "      <td>Jan</td>\n",
       "      <td>29</td>\n",
       "      <td>2015</td>\n",
       "    </tr>\n",
       "    <tr>\n",
       "      <th>4</th>\n",
       "      <td>2014</td>\n",
       "      <td>BMW</td>\n",
       "      <td>6 Series Gran Coupe</td>\n",
       "      <td>650i</td>\n",
       "      <td>Sedan</td>\n",
       "      <td>automatic</td>\n",
       "      <td>wba6b2c57ed129731</td>\n",
       "      <td>ca</td>\n",
       "      <td>43.0</td>\n",
       "      <td>2641.0</td>\n",
       "      <td>gray</td>\n",
       "      <td>black</td>\n",
       "      <td>financial services remarketing (lease)</td>\n",
       "      <td>66000.0</td>\n",
       "      <td>67000.0</td>\n",
       "      <td>Thu</td>\n",
       "      <td>Dec</td>\n",
       "      <td>18</td>\n",
       "      <td>2014</td>\n",
       "    </tr>\n",
       "  </tbody>\n",
       "</table>\n",
       "</div>"
      ],
      "text/plain": [
       "   year   make                model        trim   body transmission  \\\n",
       "0  2015    Kia              Sorento          LX    SUV    automatic   \n",
       "1  2015    Kia              Sorento          LX    SUV    automatic   \n",
       "2  2014    BMW             3 Series  328i SULEV  Sedan    automatic   \n",
       "3  2015  Volvo                  S60          T5  Sedan    automatic   \n",
       "4  2014    BMW  6 Series Gran Coupe        650i  Sedan    automatic   \n",
       "\n",
       "                 vin state  condition  odometer  color interior  \\\n",
       "0  5xyktca69fg566472    ca        5.0   16639.0  white    black   \n",
       "1  5xyktca69fg561319    ca        5.0    9393.0  white    beige   \n",
       "2  wba3c1c51ek116351    ca       45.0    1331.0   gray    black   \n",
       "3  yv1612tb4f1310987    ca       41.0   14282.0  white    black   \n",
       "4  wba6b2c57ed129731    ca       43.0    2641.0   gray    black   \n",
       "\n",
       "                                   seller      mmr  sellingprice sale_weekday  \\\n",
       "0                 kia motors america  inc  20500.0       21500.0          Tue   \n",
       "1                 kia motors america  inc  20800.0       21500.0          Tue   \n",
       "2  financial services remarketing (lease)  31900.0       30000.0          Thu   \n",
       "3                 volvo na rep/world omni  27500.0       27750.0          Thu   \n",
       "4  financial services remarketing (lease)  66000.0       67000.0          Thu   \n",
       "\n",
       "  sale_month sale_day sale_year  \n",
       "0        Dec       16      2014  \n",
       "1        Dec       16      2014  \n",
       "2        Jan       15      2015  \n",
       "3        Jan       29      2015  \n",
       "4        Dec       18      2014  "
      ]
     },
     "execution_count": 10,
     "metadata": {},
     "output_type": "execute_result"
    }
   ],
   "source": [
    "df_new.head()"
   ]
  },
  {
   "cell_type": "markdown",
   "metadata": {},
   "source": [
    "**Next, check unique values for categorical variables**"
   ]
  },
  {
   "cell_type": "markdown",
   "metadata": {},
   "source": [
    "## make "
   ]
  },
  {
   "cell_type": "markdown",
   "metadata": {},
   "source": [
    "Check out the unique values of the make column since it's categorical"
   ]
  },
  {
   "cell_type": "code",
   "execution_count": 11,
   "metadata": {},
   "outputs": [
    {
     "name": "stdout",
     "output_type": "stream",
     "text": [
      "Number of unique values: 96\n"
     ]
    },
    {
     "data": {
      "text/plain": [
       "array(['Acura', 'Aston Martin', 'Audi', 'BMW', 'Bentley', 'Buick',\n",
       "       'Cadillac', 'Chevrolet', 'Chrysler', 'Daewoo', 'Dodge', 'FIAT',\n",
       "       'Ferrari', 'Fisker', 'Ford', 'GMC', 'Geo', 'HUMMER', 'Honda',\n",
       "       'Hyundai', 'Infiniti', 'Isuzu', 'Jaguar', 'Jeep', 'Kia',\n",
       "       'Lamborghini', 'Land Rover', 'Lexus', 'Lincoln', 'Lotus', 'MINI',\n",
       "       'Maserati', 'Mazda', 'Mercedes-Benz', 'Mercury', 'Mitsubishi',\n",
       "       'Nissan', 'Oldsmobile', 'Plymouth', 'Pontiac', 'Porsche', 'Ram',\n",
       "       'Rolls-Royce', 'Saab', 'Saturn', 'Scion', 'Subaru', 'Suzuki',\n",
       "       'Tesla', 'Toyota', 'Volkswagen', 'Volvo', 'acura', 'airstream',\n",
       "       'audi', 'bmw', 'buick', 'cadillac', 'chev truck', 'chevrolet',\n",
       "       'chrysler', 'dodge', 'dodge tk', 'dot', 'ford', 'ford tk',\n",
       "       'ford truck', 'gmc', 'gmc truck', 'honda', 'hyundai', 'hyundai tk',\n",
       "       'jeep', 'kia', 'land rover', 'landrover', 'lexus', 'lincoln',\n",
       "       'maserati', 'mazda', 'mazda tk', 'mercedes', 'mercedes-b',\n",
       "       'mercury', 'mitsubishi', 'nissan', 'oldsmobile', 'plymouth',\n",
       "       'pontiac', 'porsche', 'smart', 'subaru', 'suzuki', 'toyota',\n",
       "       'volkswagen', 'vw', nan], dtype=object)"
      ]
     },
     "execution_count": 11,
     "metadata": {},
     "output_type": "execute_result"
    }
   ],
   "source": [
    "# Count number of unique values \n",
    "num_unique_values = df_new['make'].nunique()\n",
    "print(f'Number of unique values: {num_unique_values}')\n",
    "\n",
    "# Find out how many types exists for categorical column\n",
    "df_new['make'].sort_values(ascending = True).unique()"
   ]
  },
  {
   "cell_type": "markdown",
   "metadata": {},
   "source": [
    "There are 96 unique values for car make but many are duplicates with different text cases or spelling\n",
    "\n",
    "for example\n",
    "- volkswagen vs. vw\n",
    "- Suzuki vs. suzuki\n",
    "- subaru vs.Subaru"
   ]
  },
  {
   "cell_type": "markdown",
   "metadata": {},
   "source": [
    "**Replace duplicates by converting all the variations of each make to a common format**"
   ]
  },
  {
   "cell_type": "code",
   "execution_count": 12,
   "metadata": {},
   "outputs": [
    {
     "data": {
      "text/plain": [
       "array(['acura', 'airstream', 'aston martin', 'audi', 'bentley', 'bmw',\n",
       "       'buick', 'cadillac', 'chevrolet', 'chrysler', 'daewoo', 'dodge',\n",
       "       'ferrari', 'fiat', 'fisker', 'ford', 'geo', 'gmc', 'honda',\n",
       "       'hummer', 'hyundai', 'infiniti', 'isuzu', 'jaguar', 'jeep', 'kia',\n",
       "       'lamborghini', 'land rover', 'lexus', 'lincoln', 'lotus',\n",
       "       'maserati', 'mazda', 'mercedes', 'mercury', 'mini', 'mitsubishi',\n",
       "       'nissan', 'oldsmobile', 'plymouth', 'pontiac', 'porsche', 'ram',\n",
       "       'rolls royce', 'saab', 'saturn', 'scion', 'smart', 'subaru',\n",
       "       'suzuki', 'tesla', 'toyota', 'volkswagen', 'volvo', nan],\n",
       "      dtype=object)"
      ]
     },
     "execution_count": 12,
     "metadata": {},
     "output_type": "execute_result"
    }
   ],
   "source": [
    "# create a dictionary of replacements\n",
    "make_replacements = {\n",
    "                    'Volvo': 'volvo',\n",
    "                    'vw': 'volkswagen',\n",
    "                    'Jaguar': 'jaguar',\n",
    "                    'Volkswagen': 'volkswagen',\n",
    "                    'Suzuki':'suzuki', \n",
    "                    'Subaru': 'subaru', \n",
    "                    'Porsche': 'porsche',\n",
    "                    'Pontiac': 'pontiac',\n",
    "                    'Plymouth':'plymouth',\n",
    "                    'Oldsmobile':'oldsmobile',\n",
    "                    'Mitsubishi':'mitsubishi', \n",
    "                    'Mercury':'mercury',\n",
    "                    'Maserati': 'maserati',\n",
    "                    'Hyundai': 'hyundai',\n",
    "                    'hyundai tk': 'hyundai',\n",
    "                    'Honda':'honda',\n",
    "                    'Ford':  'ford',\n",
    "                    'Acura': 'acura',\n",
    "                    'Audi':'audi',\n",
    "                    'BMW': 'bmw',\n",
    "                    'Buick': 'buick', \n",
    "                    'Lincoln': 'lincoln',\n",
    "                    'Lexus': 'lexus',\n",
    "                    'Toyota': 'toyota',\n",
    "                    'GMC': 'gmc',\n",
    "                    'gmc truck':'gmc',\n",
    "                    'Mercedes-Benz': 'mercedes',\n",
    "                    'mercedes-b': 'mercedes',\n",
    "                    'Mazda':'mazda',\n",
    "                    'mazda tk': 'mazda',\n",
    "                    'landrover':  'land rover',\n",
    "                    'Pontiac': 'pontiac',\n",
    "                    'ford tk': 'ford', \n",
    "                    'ford truck': 'ford', \n",
    "                    'Chevrolet': 'chevrolet',\n",
    "                    'chev truck': 'chevrolet',\n",
    "                    'Cadillac': 'cadillac',\n",
    "                    'Nissan':  'nissan', \n",
    "                    'Chrysler':'chrysler',\n",
    "                    'Dodge':'dodge', \n",
    "                    'dodge tk':'dodge',\n",
    "                    'Kia':'kia',\n",
    "                    'Jeep': 'jeep',\n",
    "                    'MINI':'mini',\n",
    "                    'FIAT':'fiat',\n",
    "                    'Ferrari': 'ferrari',\n",
    "                    'Ram': 'ram',\n",
    "                    'Bentley':'bentley',\n",
    "                    'Saturn':'saturn',\n",
    "                    'HUMMER': 'hummer',\n",
    "                    'Saab':'saab',\n",
    "                    'Rolls-Royce':'rolls royce',\n",
    "                    'Daewoo':'daewoo',\n",
    "                    'Isuzu': 'isuzu',\n",
    "                    'Geo': 'geo',\n",
    "                    'Tesla':'tesla',\n",
    "                    'Aston Martin': 'aston martin',\n",
    "                    'Fisker': 'fisker',\n",
    "                    'Lamborghini':'lamborghini',\n",
    "                    'Lotus':'lotus',\n",
    "                    'Infiniti':'infiniti',\n",
    "                    'Land Rover':'land rover',\n",
    "                    'Scion':'scion',\n",
    "                    'dot':'dodge'\n",
    "                     }\n",
    "\n",
    "# replace values using the .map() method\n",
    "df_new['make'] = df_new['make'].map(make_replacements).fillna(df_new['make'])\n",
    "\n",
    "# print the DataFrame\n",
    "df_new['make'].sort_values(ascending=True).unique()"
   ]
  },
  {
   "cell_type": "markdown",
   "metadata": {},
   "source": [
    "A quick glance shows the duplicates have been replaced. Let's check the count of unique values again"
   ]
  },
  {
   "cell_type": "code",
   "execution_count": 13,
   "metadata": {},
   "outputs": [
    {
     "name": "stdout",
     "output_type": "stream",
     "text": [
      "Number of unique values: 54\n"
     ]
    }
   ],
   "source": [
    "num_unique_values = df_new['make'].nunique()\n",
    "print(f'Number of unique values: {num_unique_values}')"
   ]
  },
  {
   "cell_type": "markdown",
   "metadata": {},
   "source": [
    "After removing the duplicates, the actual unique value count for car make has been reduced from 96 to 54."
   ]
  },
  {
   "cell_type": "markdown",
   "metadata": {},
   "source": [
    "## model"
   ]
  },
  {
   "cell_type": "code",
   "execution_count": 14,
   "metadata": {},
   "outputs": [
    {
     "name": "stdout",
     "output_type": "stream",
     "text": [
      "Number of unique values: 973\n"
     ]
    },
    {
     "data": {
      "text/plain": [
       "array(['1', '1 Series', '1500', '190-Class', '2 Series', '200', '200SX',\n",
       "       '2500', '3', '3 Series', '3 Series Gran Turismo', '300',\n",
       "       '300-Class', '3000GT', '300M', '300ZX', '300e', '320i', '323i',\n",
       "       '328i', '350', '3500', '350Z', '350z', '360', '370Z', '4 Series',\n",
       "       '4 Series Gran Coupe', '400-Class', '420-Class', '420sel', '42c',\n",
       "       '458 Italia', '4Runner', '5 Series', '5 Series Gran Turismo',\n",
       "       '500', '500-Class', '500L', '500e', '6', '6 Series',\n",
       "       '6 Series Gran Coupe', '626', '7', '7 Series', '750i', '750li',\n",
       "       '750lxi', '8 Series', '850', '9-2X', '9-3', '9-5', '9-7X', '911',\n",
       "       '940', '960', 'A3', 'A4', 'A5', 'A6', 'A7', 'A8', 'ATS', 'Acadia',\n",
       "       'Accent', 'Accord', 'Accord Crosstour', 'Accord Hybrid', 'Achieva',\n",
       "       'ActiveHybrid 5', 'ActiveHybrid 7', 'ActiveHybrid X6', 'Aerio',\n",
       "       'Alero', 'Altima', 'Altima Hybrid', 'Amanti', 'Amigo', 'Armada',\n",
       "       'Ascender', 'Aspen', 'Aspire', 'Astra', 'Astro', 'Astro Cargo',\n",
       "       'Aura', 'Aura Hybrid', 'Aurora', 'Avalanche', 'Avalon',\n",
       "       'Avalon Hybrid', 'Avenger', 'Aveo', 'Aviator', 'Axiom', 'Azera',\n",
       "       'Aztek', 'B-Class Electric Drive', 'B-Series', 'B-Series Pickup',\n",
       "       'B-Series Truck', 'B9 Tribeca', 'BRZ', 'Baja', 'Beetle',\n",
       "       'Beetle Convertible', 'Black Diamond Avalanche', 'Blackwood',\n",
       "       'Blazer', 'Bonneville', 'Borrego', 'Boxster', 'Bravada', 'Breeze',\n",
       "       'C-Class', 'C-Max Energi', 'C-Max Hybrid', 'C/K 1500 Series',\n",
       "       'C/K 2500 Series', 'C/K 3500 Series', 'C/V Cargo Van',\n",
       "       'C/V Tradesman', 'C30', 'C70', 'CC', 'CL', 'CL-Class', 'CLA-Class',\n",
       "       'CLK-Class', 'CLS-Class', 'CR-V', 'CR-Z', 'CT 200h', 'CTS',\n",
       "       'CTS Coupe', 'CTS Wagon', 'CTS-V', 'CTS-V Coupe', 'CTS-V Wagon',\n",
       "       'CV Tradesman', 'CX-5', 'CX-7', 'CX-9', 'Cabrio', 'Cabriolet',\n",
       "       'Cadenza', 'Caliber', 'California', 'Camaro', 'Camry',\n",
       "       'Camry Hybrid', 'Camry Solara', 'Canyon', 'Caprice',\n",
       "       'Captiva Sport', 'Caravan', 'Catera', 'Cavalier', 'Cayenne',\n",
       "       'Cayman', 'Cayman S', 'Celica', 'Century', 'Challenger', 'Charger',\n",
       "       'Cherokee', 'Cirrus', 'Civic', 'Civic del Sol', 'Classic',\n",
       "       'Cobalt', 'Colorado', 'Commander', 'Compass', 'Concorde',\n",
       "       'Continental', 'Continental Flying Spur',\n",
       "       'Continental Flying Spur Speed', 'Continental GT',\n",
       "       'Continental GT Speed', 'Continental GTC', 'Continental GTC Speed',\n",
       "       'Continental Supersports', 'Contour', 'Cooper', 'Cooper Clubman',\n",
       "       'Cooper Countryman', 'Cooper Coupe', 'Cooper Paceman',\n",
       "       'Cooper Roadster', 'Corolla', 'Corsica', 'Corvette',\n",
       "       'Corvette Stingray', 'Cougar', 'Coupe', 'Crossfire', 'Crosstour',\n",
       "       'Crown Victoria', 'Cruze', 'Cube', 'Cutlass', 'Cutlass Ciera',\n",
       "       'Cutlass Supreme', 'DB9', 'DTS', 'Dakota', 'Dart', 'DeVille',\n",
       "       'Diamante', 'Discovery', 'Discovery Series II', 'Durango', 'E-150',\n",
       "       'E-250', 'E-350', 'E-Class', 'E-Series Van', 'E-Series Wagon',\n",
       "       'ECHO', 'ELR', 'ES 300', 'ES 300h', 'ES 330', 'ES 350', 'EX',\n",
       "       'EX35', 'Eclipse', 'Eclipse Spyder', 'Econoline Cargo',\n",
       "       'Econoline Wagon', 'Edge', 'Eighty-Eight', 'Eighty-Eight Royale',\n",
       "       'Elantra', 'Elantra Coupe', 'Elantra GT', 'Elantra Touring',\n",
       "       'Eldorado', 'Element', 'Enclave', 'Encore', 'Endeavor',\n",
       "       'Entourage', 'Envoy', 'Envoy XL', 'Envoy XUV', 'Eos', 'Equator',\n",
       "       'Equinox', 'Equus', 'Escalade', 'Escalade ESV', 'Escalade EXT',\n",
       "       'Escalade Hybrid', 'Escape', 'Escape Hybrid', 'Escort', 'Esteem',\n",
       "       'EuroVan', 'Excursion', 'Exige', 'Expedition', 'Expedition EL',\n",
       "       'Explorer', 'Explorer Sport', 'Explorer Sport Trac', 'Express',\n",
       "       'Express Cargo', 'F-150', 'F-150 Heritage', 'F-150 SVT Lightning',\n",
       "       'F-250', 'F-250 Super Duty', 'F-350 Super Duty',\n",
       "       'F-450 Super Duty', 'F-TYPE', 'F430', 'FJ Cruiser', 'FR-S', 'FX',\n",
       "       'FX35', 'FX45', 'FX50', 'Fiesta', 'Firebird', 'Fit',\n",
       "       'Five Hundred', 'Fleetwood', 'Flex', 'Flying Spur', 'Focus',\n",
       "       'Focus ST', 'Forenza', 'Forester', 'Forte', 'Freelander',\n",
       "       'Freestar', 'Freestyle', 'Frontier', 'Fusion', 'Fusion Energi',\n",
       "       'Fusion Hybrid', 'G Convertible', 'G Coupe', 'G Sedan', 'G-Class',\n",
       "       'G20', 'G3', 'G35', 'G37', 'G37 Convertible', 'G37 Coupe', 'G5',\n",
       "       'G6', 'G8', 'GL-Class', 'GLA-Class', 'GLI', 'GLK-Class', 'GS 300',\n",
       "       'GS 350', 'GS 400', 'GS 430', 'GS 450h', 'GS 460', 'GT-R', 'GTI',\n",
       "       'GTO', 'GX 460', 'GX 470', 'Galant', 'Gallardo', 'Genesis',\n",
       "       'Genesis Coupe', 'Ghibli', 'Ghost', 'Golf', 'Golf GTI', 'Golf R',\n",
       "       'GranSport', 'GranTurismo', 'GranTurismo Convertible', 'Grand Am',\n",
       "       'Grand Caravan', 'Grand Cherokee', 'Grand Cherokee SRT',\n",
       "       'Grand Marquis', 'Grand Prix', 'Grand Vitara', 'H1', 'H2',\n",
       "       'H2 SUT', 'H3', 'H3T', 'HHR', 'HS 250h', 'Highlander',\n",
       "       'Highlander Hybrid', 'I30', 'I35', 'ILX', 'ION', 'IS 250',\n",
       "       'IS 250 C', 'IS 300', 'IS 350', 'IS 350 C', 'IS F', 'Impala',\n",
       "       'Impala Limited', 'Impreza', 'Impreza WRX', 'Insight', 'Integra',\n",
       "       'Intrepid', 'Intrigue', 'J30', 'JX', 'Jetta', 'Jetta GLI',\n",
       "       'Jetta Hybrid', 'Jetta SportWagen', 'Jimmy', 'Journey', 'Juke',\n",
       "       'K900', 'Karma', 'Kizashi', 'L-Series', 'L300', 'LHS', 'LR2',\n",
       "       'LR3', 'LR4', 'LS', 'LS 400', 'LS 430', 'LS 460', 'LS 600h L',\n",
       "       'LX 450', 'LX 470', 'LX 570', 'LaCrosse', 'Lancer',\n",
       "       'Lancer Evolution', 'Lancer Sportback', 'Land Cruiser', 'Le Baron',\n",
       "       'LeSabre', 'Leaf', 'Legacy', 'Leganza', 'Legend', 'Liberty',\n",
       "       'Lucerne', 'Lumina', 'M', 'M-Class', 'M3', 'M35', 'M37', 'M4',\n",
       "       'M45', 'M5', 'M56', 'M6', 'M6 Gran Coupe', 'MDX', 'MKC', 'MKS',\n",
       "       'MKT', 'MKX', 'MKZ', 'MKZ Hybrid', 'ML55 AMG', 'MPV', 'MR2 Spyder',\n",
       "       'MX-5 Miata', 'Macan', 'Magnum', 'Malibu', 'Malibu Classic',\n",
       "       'Malibu Hybrid', 'Malibu Maxx', 'Marauder', 'Mariner',\n",
       "       'Mariner Hybrid', 'Mark LT', 'Mark VIII', 'Matrix', 'Maxima',\n",
       "       'Mazda2', 'Mazda3', 'Mazda5', 'Mazda6', 'Mazdaspeed 3',\n",
       "       'Mazdaspeed MX-5 Miata', 'Mazdaspeed Mazda3', 'Mazdaspeed Mazda6',\n",
       "       'Mazdaspeed Protege', 'Mazdaspeed3', 'Metro', 'Milan',\n",
       "       'Milan Hybrid', 'Millenia', 'Mirage', 'Model S', 'Montana',\n",
       "       'Montana SV6', 'Monte Carlo', 'Montego', 'Monterey', 'Montero',\n",
       "       'Montero Sport', 'Mountaineer', 'Murano', 'Murano CrossCabriolet',\n",
       "       'Mustang', 'Mustang SVT Cobra', 'Mystique', 'NV', 'NV Cargo',\n",
       "       'NV Passenger', 'NV200', 'Navigator', 'Navigator L', 'Neon',\n",
       "       'New Beetle', 'Nitro', 'Nubira', 'Odyssey', 'Optima', 'Outback',\n",
       "       'Outlander', 'Outlander Sport', 'Outlook', 'PT Cruiser',\n",
       "       'Pacifica', 'Panamera', 'Park Avenue', 'Paseo', 'Passat',\n",
       "       'Passport', 'Pathfinder', 'Patriot', 'Phaeton', 'Pickup', 'Pilot',\n",
       "       'Prelude', 'Prius', 'Prius Plug-in', 'Prius c', 'Prius v', 'Prizm',\n",
       "       'Promaster Cargo Van', 'Protege', 'Protege5', 'Prowler', 'Q3',\n",
       "       'Q45', 'Q5', 'Q50', 'Q60 Convertible', 'Q60 Coupe', 'Q7', 'Q70',\n",
       "       'QX', 'QX4', 'QX50', 'QX56', 'QX60', 'QX70', 'QX80',\n",
       "       'Quattroporte', 'Quest', 'R-Class', 'R32', 'R8', 'RAV4', 'RC 350',\n",
       "       'RC F', 'RDX', 'RL', 'RLX', 'RS 4', 'RS 5', 'RS 6', 'RS 7', 'RSX',\n",
       "       'RX 300', 'RX 330', 'RX 350', 'RX 400h', 'RX 450h', 'RX-8',\n",
       "       'Rabbit', 'Raider', 'Rainier', 'Ram Cargo', 'Ram Pickup 1500',\n",
       "       'Ram Pickup 2500', 'Ram Pickup 3500', 'Ram Van', 'Range Rover',\n",
       "       'Range Rover Evoque', 'Range Rover Sport', 'Ranger', 'Rapide',\n",
       "       'Regal', 'Regency', 'Relay', 'Rendezvous', 'Reno', 'Ridgeline',\n",
       "       'Rio', 'Riviera', 'Roadmaster', 'Rodeo', 'Rodeo Sport', 'Rogue',\n",
       "       'Rogue Select', 'Rondo', 'Routan', 'S-10', 'S-10 Blazer',\n",
       "       'S-Class', 'S-Series', 'S-Type', 'S2000', 'S4', 'S40', 'S5', 'S6',\n",
       "       'S60', 'S7', 'S70', 'S8', 'S80', 'S90', 'SC 300', 'SC 400',\n",
       "       'SC 430', 'SL-Class', 'SLK-Class', 'SLS AMG', 'SLS AMG GT', 'SQ5',\n",
       "       'SRX', 'SS', 'SSR', 'STS', 'STS-V', 'SX4', 'Sable', 'Safari',\n",
       "       'Safari Cargo', 'Santa Fe', 'Santa Fe Sport', 'Savana',\n",
       "       'Savana Cargo', 'Sebring', 'Sedona', 'Sentra', 'Sephia', 'Sequoia',\n",
       "       'Seville', 'Shelby GT500', 'Sidekick', 'Sienna', 'Sierra 1500',\n",
       "       'Sierra 1500 Classic', 'Sierra 1500 Hybrid', 'Sierra 1500HD',\n",
       "       'Sierra 2500', 'Sierra 2500HD', 'Sierra 2500HD Classic',\n",
       "       'Sierra 3500', 'Sierra 3500HD', 'Silhouette', 'Silverado 1500',\n",
       "       'Silverado 1500 Classic', 'Silverado 1500 Hybrid',\n",
       "       'Silverado 1500HD', 'Silverado 2500', 'Silverado 2500HD',\n",
       "       'Silverado 2500HD Classic', 'Silverado 3500',\n",
       "       'Silverado 3500 Classic', 'Silverado 3500HD', 'Sky', 'Solstice',\n",
       "       'Sonata', 'Sonata Hybrid', 'Sonic', 'Sonoma', 'Sorento', 'Soul',\n",
       "       'Spark', 'Spark EV', 'Spectra', 'Spirit', 'Sportage', 'Sprinter',\n",
       "       'Sprinter Cargo', 'Spyder', 'Stratus', 'Suburban', 'Sunfire',\n",
       "       'T100', 'TL', 'TLX', 'TSX', 'TSX Sport Wagon', 'TT', 'TT RS',\n",
       "       'TTS', 'Tacoma', 'Tahoe', 'Tahoe Hybrid', 'Tahoe Limited/Z71',\n",
       "       'Taurus', 'Taurus X', 'Tempo', 'Tercel', 'Terrain', 'Terraza',\n",
       "       'Thunderbird', 'Tiburon', 'Tiguan', 'Titan', 'Torrent', 'Touareg',\n",
       "       'Touareg 2', 'Town Car', 'Town and Country', 'Tracer', 'Tracker',\n",
       "       'TrailBlazer', 'TrailBlazer EXT', 'Transit Connect', 'Transit Van',\n",
       "       'Transit Wagon', 'Traverse', 'Tribeca', 'Tribute',\n",
       "       'Tribute Hybrid', 'Trooper', 'Truck', 'Tucson', 'Tundra',\n",
       "       'Uplander', 'V40', 'V50', 'V60', 'V70', 'V8 Vantage', 'VUE',\n",
       "       'VUE Hybrid', 'Veloster', 'Venture', 'Venza', 'Veracruz', 'Verano',\n",
       "       'Verona', 'Versa', 'Versa Note', 'Vibe', 'Villager', 'Viper',\n",
       "       'Vitara', 'Volt', 'Voyager', 'WRX', 'Windstar', 'Windstar Cargo',\n",
       "       'Wrangler', 'X-Type', 'X1', 'X3', 'X4', 'X5', 'X5 M', 'X6', 'X6 M',\n",
       "       'XC', 'XC60', 'XC70', 'XC90', 'XF', 'XG300', 'XG350', 'XJ',\n",
       "       'XJ-Series', 'XK', 'XK-Series', 'XL-7', 'XL7', 'XLR', 'XTS',\n",
       "       'XV Crosstrek', 'Xterra', 'Yaris', 'Yukon', 'Yukon Denali',\n",
       "       'Yukon Hybrid', 'Yukon XL', 'Z3', 'Z4', 'Z4 M', 'ZDX', 'Zephyr',\n",
       "       'a4', 'a6', 'accord', 'alero', 'allroad', 'allroad quattro',\n",
       "       'allure', 'alp', 'astro', 'avalon', 'avenger', 'aveo', 'b1500',\n",
       "       'b200', 'b2300', 'beetle', 'borrego', 'breeze', 'bronco', 'c230',\n",
       "       'c230wz', 'c240s', 'c240w', 'camaro', 'camry', 'capt', 'caravan',\n",
       "       'carrera', 'cavalier', 'century', 'charger', 'cherokee', 'ciera',\n",
       "       'civic', 'cl55', 'cobalt', 'colorado', 'comm', 'compass',\n",
       "       'concorde', 'corolla', 'corsica', 'corvette', 'cougar',\n",
       "       'crossfire', 'crown', 'cruze', 'cx-7', 'dakota', 'discovery',\n",
       "       'dts', 'durango', 'e', 'e150', 'e250', 'e300dt', 'e350', 'el',\n",
       "       'elantra', 'endeavor', 'envoy', 'equinox', 'escalade', 'escape',\n",
       "       'eurovan', 'excurs', 'expedit', 'expedition', 'expeditn',\n",
       "       'explorer', 'f150', 'f250', 'f350', 'focus', 'forester', 'fortwo',\n",
       "       'freestyle', 'g1500', 'g2500', 'g3500', 'g5', 'g500', 'g55', 'g6',\n",
       "       'galant', 'golf', 'gr', 'grand', 'gx', 'hhr', 'i-MiEV', 'i-Series',\n",
       "       'i8', 'iQ', 'impala', 'interstate', 'intrepid', 'intrigue',\n",
       "       'jetta', 'journey', 'lacrosse', 'lancer', 'legacy', 'lr3',\n",
       "       'lumina', 'lx', 'magnum', 'malibu', 'matrix', 'mazda3', 'mazda5',\n",
       "       'mazda6', 'mdx', 'mkt', 'montana', 'mountaineer', 'mountnr', 'mpv',\n",
       "       'neon', 'odyssey', 'optima', 'optra', 'pacifica', 'passat',\n",
       "       'pathfind', 'pathfinder', 'patriot', 'pickup', 'pilot', 'police',\n",
       "       'previa', 'pt', 'pursuit', 'quattroporte', 'quest', 'rainier',\n",
       "       'ram', 'ram3500', 'range', 'ranger', 'rangerover', 'regal',\n",
       "       'ridgelin', 'rio', 'rl', 'routan', 'rr', 'rrs', 'rx8', 's10',\n",
       "       's55', 'safari', 'santa', 'savana', 'sebring', 'sienna', 'siera',\n",
       "       'silhouette', 'sl55', 'sonic', 'sonoma', 'sportage', 'sprinter',\n",
       "       'sr', 'srx', 'stratus', 'sts', 'subrbn', 'suburban', 'swift',\n",
       "       'sx4', 'tC', 'tahoe', 'taurus', 'thunderbird', 'town', 'tribute',\n",
       "       'tt', 'tucson', 'tundra', 'twn&country', 'twn/cntry', 'uplander',\n",
       "       'uplandr', 'venture', 'versa', 'vibe', 'villager', 'voyager',\n",
       "       'wave', 'windstar', 'wrangler', 'x-trail', 'x3', 'xA', 'xB', 'xD',\n",
       "       'yaris', 'yukon', nan], dtype=object)"
      ]
     },
     "execution_count": 14,
     "metadata": {},
     "output_type": "execute_result"
    }
   ],
   "source": [
    "# Count number of unique values \n",
    "num_unique_values = df_new['model'].nunique()\n",
    "print(f'Number of unique values: {num_unique_values}')\n",
    "\n",
    "# Find out how many types exists for categorical column\n",
    "df_new['model'].sort_values(ascending = True).unique()"
   ]
  },
  {
   "cell_type": "markdown",
   "metadata": {},
   "source": [
    "There are 973 unique values for car models but many are duplicates with different text cases or spelling\n",
    "\n",
    "for example\n",
    "- Accord vs. accord\n",
    "- Tundra vs. tundra \n",
    "- Yaris vs. yaris"
   ]
  },
  {
   "cell_type": "markdown",
   "metadata": {},
   "source": [
    "**Replace duplicates by converting all the variations of each model to a common format**"
   ]
  },
  {
   "cell_type": "code",
   "execution_count": 15,
   "metadata": {},
   "outputs": [
    {
     "data": {
      "text/plain": [
       "array(['1', '1 Series', '1500', '190-Class', '2 Series', '200', '200SX',\n",
       "       '2500', '3', '3 Series', '3 Series Gran Turismo', '300',\n",
       "       '300-Class', '3000GT', '300M', '300ZX', '300e', '320i', '323i',\n",
       "       '328i', '350', '3500', '350Z', '350z', '360', '370Z', '4 Series',\n",
       "       '4 Series Gran Coupe', '400-Class', '420-Class', '420sel', '42c',\n",
       "       '458 Italia', '4Runner', '5 Series', '5 Series Gran Turismo',\n",
       "       '500', '500-Class', '500L', '500e', '6', '6 Series',\n",
       "       '6 Series Gran Coupe', '626', '7', '7 Series', '750i', '750li',\n",
       "       '750lxi', '8 Series', '850', '9-2X', '9-3', '9-5', '9-7X', '911',\n",
       "       '940', '960', 'A3', 'A5', 'A7', 'A8', 'ATS', 'Acadia', 'Accent',\n",
       "       'Accord Crosstour', 'Accord Hybrid', 'Achieva', 'ActiveHybrid 5',\n",
       "       'ActiveHybrid 7', 'ActiveHybrid X6', 'Aerio', 'Altima',\n",
       "       'Altima Hybrid', 'Amanti', 'Amigo', 'Armada', 'Ascender', 'Aspen',\n",
       "       'Aspire', 'Astra', 'Astro Cargo', 'Aura', 'Aura Hybrid', 'Aurora',\n",
       "       'Avalanche', 'Avalon Hybrid', 'Aviator', 'Axiom', 'Azera', 'Aztek',\n",
       "       'B-Class Electric Drive', 'B-Series', 'B-Series Pickup',\n",
       "       'B-Series Truck', 'B9 Tribeca', 'BRZ', 'Baja',\n",
       "       'Beetle Convertible', 'Black Diamond Avalanche', 'Blackwood',\n",
       "       'Blazer', 'Bonneville', 'Boxster', 'Bravada', 'C-Class',\n",
       "       'C-Max Energi', 'C-Max Hybrid', 'C/K 1500 Series',\n",
       "       'C/K 2500 Series', 'C/K 3500 Series', 'C/V Cargo Van',\n",
       "       'C/V Tradesman', 'C30', 'C70', 'CC', 'CL', 'CL-Class', 'CLA-Class',\n",
       "       'CLK-Class', 'CLS-Class', 'CR-V', 'CR-Z', 'CT 200h', 'CTS',\n",
       "       'CTS Coupe', 'CTS Wagon', 'CTS-V', 'CTS-V Coupe', 'CTS-V Wagon',\n",
       "       'CV Tradesman', 'CX-5', 'CX-9', 'Cabrio', 'Cabriolet', 'Cadenza',\n",
       "       'Caliber', 'California', 'Camry Hybrid', 'Camry Solara', 'Canyon',\n",
       "       'Caprice', 'Captiva Sport', 'Catera', 'Cayenne', 'Cayman',\n",
       "       'Cayman S', 'Celica', 'Challenger', 'Cirrus', 'Cobalt', 'Colorado',\n",
       "       'Continental', 'Continental Flying Spur',\n",
       "       'Continental Flying Spur Speed', 'Continental GT',\n",
       "       'Continental GT Speed', 'Continental GTC', 'Continental GTC Speed',\n",
       "       'Continental Supersports', 'Contour', 'Cooper', 'Cooper Clubman',\n",
       "       'Cooper Countryman', 'Cooper Coupe', 'Cooper Paceman',\n",
       "       'Cooper Roadster', 'Corvette Stingray', 'Coupe', 'Crosstour',\n",
       "       'Cube', 'Cutlass', 'Cutlass Ciera', 'Cutlass Supreme', 'DB9',\n",
       "       'Dart', 'DeVille', 'Diamante', 'Discovery Series II', 'E-Class',\n",
       "       'E-Series Van', 'E-Series Wagon', 'ECHO', 'ELR', 'ES 300',\n",
       "       'ES 300h', 'ES 330', 'ES 350', 'EX', 'EX35', 'Eclipse',\n",
       "       'Eclipse Spyder', 'Econoline Cargo', 'Econoline Wagon', 'Edge',\n",
       "       'Eighty-Eight', 'Eighty-Eight Royale', 'Elantra Coupe',\n",
       "       'Elantra GT', 'Elantra Touring', 'Eldorado', 'Element', 'Enclave',\n",
       "       'Encore', 'Entourage', 'Envoy XL', 'Envoy XUV', 'Eos', 'Equator',\n",
       "       'Equus', 'Escalade ESV', 'Escalade EXT', 'Escalade Hybrid',\n",
       "       'Escape Hybrid', 'Escort', 'Esteem', 'Exige', 'Expedition EL',\n",
       "       'Explorer Sport', 'Explorer Sport Trac', 'Express',\n",
       "       'Express Cargo', 'F-150 Heritage', 'F-150 SVT Lightning',\n",
       "       'F-250 Super Duty', 'F-450 Super Duty', 'F-TYPE', 'F430',\n",
       "       'FJ Cruiser', 'FR-S', 'FX', 'FX35', 'FX45', 'FX50', 'Fiesta',\n",
       "       'Firebird', 'Fit', 'Five Hundred', 'Fleetwood', 'Flex',\n",
       "       'Flying Spur', 'Focus ST', 'Forenza', 'Forte', 'Freelander',\n",
       "       'Freestar', 'Frontier', 'Fusion', 'Fusion Energi', 'Fusion Hybrid',\n",
       "       'G Convertible', 'G Coupe', 'G Sedan', 'G-Class', 'G20', 'G3',\n",
       "       'G35', 'G37', 'G37 Convertible', 'G37 Coupe', 'G8', 'GL-Class',\n",
       "       'GLA-Class', 'GLI', 'GLK-Class', 'GS 300', 'GS 350', 'GS 400',\n",
       "       'GS 430', 'GS 450h', 'GS 460', 'GT-R', 'GTI', 'GTO', 'GX 460',\n",
       "       'GX 470', 'Gallardo', 'Genesis', 'Genesis Coupe', 'Ghibli',\n",
       "       'Ghost', 'Golf GTI', 'Golf R', 'GranTurismo Convertible',\n",
       "       'Grand Am', 'Grand Caravan', 'Grand Cherokee',\n",
       "       'Grand Cherokee SRT', 'Grand Marquis', 'Grand Prix',\n",
       "       'Grand Vitara', 'H1', 'H2', 'H2 SUT', 'H3', 'H3T', 'HHR',\n",
       "       'HS 250h', 'Highlander', 'Highlander Hybrid', 'I30', 'I35', 'ILX',\n",
       "       'ION', 'IS 250', 'IS 250 C', 'IS 300', 'IS 350', 'IS 350 C',\n",
       "       'IS F', 'Impala Limited', 'Impreza', 'Impreza WRX', 'Insight',\n",
       "       'Integra', 'J30', 'JX', 'Jetta GLI', 'Jetta Hybrid',\n",
       "       'Jetta SportWagen', 'Jimmy', 'Juke', 'K900', 'Karma', 'Kizashi',\n",
       "       'L-Series', 'L300', 'LHS', 'LR2', 'LR4', 'LS', 'LS 400', 'LS 430',\n",
       "       'LS 460', 'LS 600h L', 'LX 450', 'LX 470', 'LX 570',\n",
       "       'Lancer Evolution', 'Lancer Sportback', 'Land Cruiser', 'Le Baron',\n",
       "       'LeSabre', 'Leaf', 'Leganza', 'Liberty', 'Lucerne', 'Lumina', 'M',\n",
       "       'M-Class', 'M3', 'M35', 'M37', 'M4', 'M45', 'M5', 'M56', 'M6',\n",
       "       'M6 Gran Coupe', 'MDX', 'MKC', 'MKS', 'MKT', 'MKX', 'MKZ',\n",
       "       'MKZ Hybrid', 'ML55 AMG', 'MPV', 'MR2 Spyder', 'MX-5 Miata',\n",
       "       'Macan', 'Malibu Classic', 'Malibu Hybrid', 'Malibu Maxx',\n",
       "       'Marauder', 'Mariner', 'Mariner Hybrid', 'Mark LT', 'Mark VIII',\n",
       "       'Maxima', 'Mazda2', 'Mazdaspeed 3', 'Mazdaspeed MX-5 Miata',\n",
       "       'Mazdaspeed Mazda3', 'Mazdaspeed Mazda6', 'Mazdaspeed Protege',\n",
       "       'Mazdaspeed3', 'Metro', 'Milan', 'Milan Hybrid', 'Millenia',\n",
       "       'Mirage', 'Model S', 'Montana SV6', 'Monte Carlo', 'Montego',\n",
       "       'Monterey', 'Montero', 'Montero Sport', 'Murano',\n",
       "       'Murano CrossCabriolet', 'Mustang', 'Mustang SVT Cobra',\n",
       "       'Mystique', 'NV', 'NV Cargo', 'NV Passenger', 'NV200', 'Navigator',\n",
       "       'Navigator L', 'New Beetle', 'Nitro', 'Nubira', 'Outback',\n",
       "       'Outlander', 'Outlander Sport', 'Outlook', 'PT Cruiser',\n",
       "       'Panamera', 'Park Avenue', 'Paseo', 'Passport', 'Phaeton',\n",
       "       'Prelude', 'Prius', 'Prius Plug-in', 'Prius c', 'Prius v', 'Prizm',\n",
       "       'Promaster Cargo Van', 'Protege', 'Protege5', 'Prowler', 'Q3',\n",
       "       'Q45', 'Q5', 'Q50', 'Q60 Convertible', 'Q60 Coupe', 'Q7', 'Q70',\n",
       "       'QX', 'QX4', 'QX50', 'QX56', 'QX60', 'QX70', 'QX80', 'R-Class',\n",
       "       'R32', 'R8', 'RAV4', 'RC 350', 'RC F', 'RDX', 'RLX', 'RS 4',\n",
       "       'RS 5', 'RS 6', 'RSX', 'RX 300', 'RX 330', 'RX 350', 'RX 400h',\n",
       "       'RX 450h', 'Rabbit', 'Raider', 'Ram Pickup 1500',\n",
       "       'Ram Pickup 2500', 'Ram Van', 'Range Rover Evoque', 'Ranger',\n",
       "       'Rapide', 'Regency', 'Relay', 'Rendezvous', 'Reno', 'Riviera',\n",
       "       'Roadmaster', 'Rodeo', 'Rodeo Sport', 'Rogue', 'Rogue Select',\n",
       "       'Rondo', 'S-10 Blazer', 'S-Class', 'S-Series', 'S-Type', 'S2000',\n",
       "       'S4', 'S40', 'S5', 'S6', 'S60', 'S7', 'S70', 'S8', 'S80', 'S90',\n",
       "       'SC 300', 'SC 400', 'SC 430', 'SL-Class', 'SLK-Class', 'SLS AMG',\n",
       "       'SLS AMG GT', 'SQ5', 'SS', 'SSR', 'STS-V', 'Sable', 'Safari Cargo',\n",
       "       'Santa Fe Sport', 'Savana Cargo', 'Sedona', 'Sentra', 'Sephia',\n",
       "       'Sequoia', 'Seville', 'Shelby GT500', 'Sidekick',\n",
       "       'Sierra 1500 Classic', 'Sierra 1500 Hybrid', 'Sierra 1500HD',\n",
       "       'Sierra 2500', 'Sierra 2500HD', 'Sierra 2500HD Classic',\n",
       "       'Sierra 3500', 'Sierra 3500HD', 'Silverado 1500',\n",
       "       'Silverado 1500 Classic', 'Silverado 1500 Hybrid',\n",
       "       'Silverado 1500HD', 'Silverado 2500', 'Silverado 2500HD',\n",
       "       'Silverado 2500HD Classic', 'Silverado 3500',\n",
       "       'Silverado 3500 Classic', 'Silverado 3500HD', 'Sky', 'Solstice',\n",
       "       'Sonata', 'Sonata Hybrid', 'Sorento', 'Soul', 'Spark', 'Spark EV',\n",
       "       'Spectra', 'Spirit', 'Sprinter Cargo', 'Spyder', 'Sunfire', 'T100',\n",
       "       'TL', 'TLX', 'TSX', 'TSX Sport Wagon', 'TT', 'TT RS', 'TTS',\n",
       "       'Tacoma', 'Tahoe Hybrid', 'Tahoe Limited/Z71', 'Taurus X', 'Tempo',\n",
       "       'Tercel', 'Terrain', 'Terraza', 'Tiburon', 'Tiguan', 'Titan',\n",
       "       'Torrent', 'Touareg', 'Touareg 2', 'Tracer', 'Tracker',\n",
       "       'TrailBlazer', 'TrailBlazer EXT', 'Transit Connect', 'Transit Van',\n",
       "       'Transit Wagon', 'Traverse', 'Tribeca', 'Tribute Hybrid',\n",
       "       'Trooper', 'Truck', 'V40', 'V50', 'V60', 'V70', 'V8 Vantage',\n",
       "       'VUE', 'VUE Hybrid', 'Veloster', 'Venza', 'Veracruz', 'Verano',\n",
       "       'Verona', 'Versa Note', 'Viper', 'Vitara', 'Volt', 'WRX',\n",
       "       'Windstar Cargo', 'X-Type', 'X1', 'X4', 'X5', 'X5 M', 'X6', 'X6 M',\n",
       "       'XC', 'XC60', 'XC70', 'XC90', 'XF', 'XG300', 'XG350', 'XJ',\n",
       "       'XJ-Series', 'XK', 'XK-Series', 'XL-7', 'XL7', 'XLR', 'XTS',\n",
       "       'XV Crosstrek', 'Xterra', 'Yukon Denali', 'Yukon Hybrid',\n",
       "       'Yukon XL', 'Z3', 'Z4', 'Z4 M', 'ZDX', 'Zephyr', 'a4', 'a6',\n",
       "       'accord', 'alero', 'allroad', 'allroad quattro', 'allure', 'alp',\n",
       "       'astro', 'avalon', 'avenger', 'aveo', 'b1500', 'b200', 'b2300',\n",
       "       'beetle', 'borrego', 'breeze', 'bronco', 'c230', 'c230wz', 'c240s',\n",
       "       'c240w', 'camaro', 'camry', 'capt', 'caravan', 'carrera',\n",
       "       'cavalier', 'century', 'charger', 'cherokee', 'ciera', 'civic',\n",
       "       'cl55', 'cobalt', 'colorado', 'comm', 'compass', 'concorde',\n",
       "       'corolla', 'corsica', 'corvette', 'cougar', 'crossfire', 'crown',\n",
       "       'cruze', 'cx-7', 'dakota', 'discovery', 'dts', 'durango', 'e',\n",
       "       'e150', 'e250', 'e300dt', 'e350', 'el', 'elantra', 'endeavor',\n",
       "       'envoy', 'equinox', 'escalade', 'escape', 'eurovan', 'excurs',\n",
       "       'expedition', 'explorer', 'f150', 'f250', 'f350', 'focus',\n",
       "       'forester', 'fortwo', 'freestyle', 'g1500', 'g2500', 'g3500', 'g5',\n",
       "       'g500', 'g55', 'g6', 'galant', 'golf', 'gr', 'grand', 'gx', 'hhr',\n",
       "       'i-MiEV', 'i-Series', 'i8', 'iQ', 'impala', 'interstate',\n",
       "       'intrepid', 'intrigue', 'jetta', 'journey', 'lacrosse', 'lancer',\n",
       "       'legacy', 'lr3', 'lumina', 'lx', 'magnum', 'malibu', 'matrix',\n",
       "       'mazda3', 'mazda5', 'mazda6', 'mdx', 'mkt', 'montana',\n",
       "       'mountaineer', 'mpv', 'neon', 'odyssey', 'optima', 'optra',\n",
       "       'pacifica', 'passat', 'pathfinder', 'patriot', 'pickup', 'pilot',\n",
       "       'police', 'previa', 'pt', 'pursuit', 'quattroporte', 'quest',\n",
       "       'rainier', 'ram', 'ram3500', 'rangerover', 'regal', 'ridgelin',\n",
       "       'rio', 'rl', 'routan', 'rr', 'rrs', 'rx8', 's10', 's55', 'safari',\n",
       "       'santa', 'savana', 'sebring', 'sienna', 'siera', 'silhouette',\n",
       "       'sl55', 'sonic', 'sonoma', 'sportage', 'sprinter', 'sr', 'srx',\n",
       "       'stratus', 'sts', 'suburban', 'swift', 'sx4', 'tC', 'tahoe',\n",
       "       'taurus', 'thunderbird', 'town', 'tribute', 'tt', 'tucson',\n",
       "       'tundra', 'twn&country', 'uplander', 'venture', 'versa', 'vibe',\n",
       "       'villager', 'voyager', 'wave', 'windstar', 'wrangler', 'x-trail',\n",
       "       'x3', 'xA', 'xB', 'xD', 'yaris', 'yukon', nan], dtype=object)"
      ]
     },
     "execution_count": 15,
     "metadata": {},
     "output_type": "execute_result"
    }
   ],
   "source": [
    "# create a dictionary of replacements\n",
    "model_replacements = { \n",
    "                     'A4':'a4',\n",
    "                     'A6': 'a6',\n",
    "                     'Accord': 'accord',\n",
    "                     'Alero': 'alero',\n",
    "                     'Astro': 'astro',\n",
    "                     'Avalon': 'avalon',\n",
    "                     'Avenger': 'avenger',\n",
    "                     'Aveo': 'aveo',\n",
    "                     'Beetle': 'beetle',\n",
    "                     'Borrego': 'borrego',\n",
    "                     'Breeze': 'breeze',\n",
    "                     'CX-7': 'cx-7',\n",
    "                     'Camaro': 'camaro',\n",
    "                     'Camry': 'camry',\n",
    "                     'Caravan': 'caravan',\n",
    "                     'Cavalier': 'cavalier',\n",
    "                     'Century': 'century',\n",
    "                     'Charger': 'charger',\n",
    "                     'Cherokee': 'cherokee',\n",
    "                     'Civic': 'civic',\n",
    "                     'Civic del Sol': 'cobalt',\n",
    "                     'Classic': 'colorado',\n",
    "                     'Commander': 'comm',\n",
    "                     'Compass': 'compass',\n",
    "                     'Concorde': 'concorde',\n",
    "                     'Corolla': 'corolla',\n",
    "                     'Corsica': 'corsica',\n",
    "                     'Corvette': 'corvette',\n",
    "                     'Cougar': 'cougar',\n",
    "                     'Crossfire': 'crossfire',\n",
    "                     'Crown Victoria': 'crown',\n",
    "                     'Cruze': 'cruze',\n",
    "                     'DTS': 'dts',\n",
    "                     'Dakota': 'dakota',\n",
    "                     'Discovery': 'discovery',\n",
    "                     'Durango': 'durango',\n",
    "                     'E-150': 'e150',\n",
    "                     'E-250': 'e250',\n",
    "                     'E-350': 'e350',\n",
    "                     'Elantra': 'elantra',\n",
    "                     'Endeavor': 'endeavor',\n",
    "                     'Envoy': 'envoy',\n",
    "                     'Equinox': 'equinox',\n",
    "                     'Escalade': 'escalade',\n",
    "                     'Escape': 'escape',\n",
    "                     'EuroVan': 'eurovan',\n",
    "                     'Excursion': 'excurs',\n",
    "                     'Expedition': 'expedition',\n",
    "                     'expedit': 'expedition',\n",
    "                     'expeditn': 'expedition',\n",
    "                     'Explorer': 'explorer',\n",
    "                     'F-150': 'f150',\n",
    "                     'F-250': 'f250',\n",
    "                     'F-350 Super Duty': 'f350',\n",
    "                     'Focus': 'focus',\n",
    "                     'Forester': 'forester',\n",
    "                     'Freestyle': 'freestyle',\n",
    "                     'G5': 'g5',\n",
    "                     'G6': 'g6',\n",
    "                     'Galant': 'galant',\n",
    "                     'Golf': 'golf',\n",
    "                     'GranSport': 'grand',\n",
    "                     'GranTurismo': 'gx',\n",
    "                     'Impala': 'impala',\n",
    "                     'Intrepid': 'intrepid',\n",
    "                     'Intrigue': 'intrigue',\n",
    "                     'Jetta': 'jetta',\n",
    "                     'Journey': 'journey',\n",
    "                     'LR3': 'lr3',\n",
    "                     'LaCrosse': 'lacrosse',\n",
    "                     'Lancer': 'lancer',\n",
    "                     'Legacy': 'legacy',\n",
    "                     'Legend': 'lumina',\n",
    "                     'Magnum': 'magnum',\n",
    "                     'Malibu': 'malibu',\n",
    "                     'Matrix': 'matrix',\n",
    "                     'Mazda3': 'mazda3',\n",
    "                     'Mazda5': 'mazda5',\n",
    "                     'Mazda6': 'mazda6',\n",
    "                     'Montana': 'montana',\n",
    "                     'Mountaineer': 'mountaineer',\n",
    "                     'mountnr': 'mountaineer',\n",
    "                     'Neon': 'neon',\n",
    "                     'Odyssey': 'odyssey',\n",
    "                     'Optima': 'optima',\n",
    "                     'Pacifica': 'pacifica',\n",
    "                     'Passat': 'passat',\n",
    "                     'Pathfinder': 'pathfinder',\n",
    "                     'pathfind': 'pathfinder',\n",
    "                     'Patriot': 'patriot',\n",
    "                     'Pickup': 'pickup',\n",
    "                     'Pilot': 'pilot',\n",
    "                     'Quattroporte': 'quattroporte',\n",
    "                     'Quest': 'quest',\n",
    "                     'RL': 'rl',\n",
    "                     'RS 7': 'rr',\n",
    "                     'RX-8': 'rx8',\n",
    "                     'Rainier': 'rainier',\n",
    "                     'Ram Cargo': 'ram',\n",
    "                     'Ram Pickup 3500': 'ram3500',\n",
    "                     'Range Rover': 'rangerover',\n",
    "                     'range': 'rangerover',\n",
    "                     'ranger': 'rangerover',\n",
    "                     'Range Rover Sport': 'rrs',\n",
    "                     'Regal': 'regal',\n",
    "                     'Ridgeline': 'ridgelin',\n",
    "                     'Rio': 'rio',\n",
    "                     'Routan': 'routan',\n",
    "                     'S-10': 's10',\n",
    "                     'SRX': 'srx',\n",
    "                     'STS': 'sts',\n",
    "                     'SX4': 'sx4',\n",
    "                     'Safari': 'safari',\n",
    "                     'Santa Fe': 'santa',\n",
    "                     'Savana': 'savana',\n",
    "                     'Sebring': 'sebring',\n",
    "                     'Sienna': 'sienna',\n",
    "                     'Sierra 1500': 'siera',\n",
    "                     'Silhouette': 'silhouette',\n",
    "                     'Sonic': 'sonic',\n",
    "                     'Sonoma': 'sonoma',\n",
    "                     'Sportage': 'sportage',\n",
    "                     'Sprinter': 'sprinter',\n",
    "                     'Stratus': 'stratus',\n",
    "                     'Suburban': 'suburban',\n",
    "                     'subrbn': 'suburban',\n",
    "                     'Tahoe': 'tahoe',\n",
    "                     'Taurus': 'taurus',\n",
    "                     'Thunderbird': 'thunderbird',\n",
    "                     'Town Car': 'town',\n",
    "                     'Town and Country': 'twn&country',\n",
    "                     'twn/cntry': 'twn&country',\n",
    "                     'Tribute': 'tribute',\n",
    "                     'Tucson': 'tucson',\n",
    "                     'Tundra': 'tundra',\n",
    "                     'Uplander': 'uplander',\n",
    "                     'uplandr': 'uplander',\n",
    "                     'Venture': 'venture',\n",
    "                     'Versa': 'versa',\n",
    "                     'Vibe': 'vibe',\n",
    "                     'Villager': 'villager',\n",
    "                     'Voyager': 'voyager',\n",
    "                     'Windstar': 'windstar',\n",
    "                     'Wrangler': 'wrangler',\n",
    "                     'X3': 'x3',\n",
    "                     'Yaris': 'yaris',\n",
    "                     'Yukon': 'yukon'\n",
    "\n",
    "                     }\n",
    "\n",
    "# replace values using the .map() method\n",
    "df_new['model'] = df_new['model'].map(model_replacements).fillna(df_new['model'])\n",
    "\n",
    "# print the DataFrame\n",
    "df_new['model'].sort_values(ascending=True).unique()"
   ]
  },
  {
   "cell_type": "code",
   "execution_count": 16,
   "metadata": {},
   "outputs": [
    {
     "name": "stdout",
     "output_type": "stream",
     "text": [
      "Number of unique values: 826\n"
     ]
    }
   ],
   "source": [
    "num_unique_values = df_new['model'].nunique()\n",
    "print(f'Number of unique values: {num_unique_values}')"
   ]
  },
  {
   "cell_type": "markdown",
   "metadata": {},
   "source": [
    "After removing the duplicates, the actual unique value count for car model has been reduced from 973 to 826"
   ]
  },
  {
   "cell_type": "markdown",
   "metadata": {},
   "source": [
    "## body\n"
   ]
  },
  {
   "cell_type": "code",
   "execution_count": 17,
   "metadata": {},
   "outputs": [
    {
     "name": "stdout",
     "output_type": "stream",
     "text": [
      "Number of unique values: 87\n"
     ]
    },
    {
     "data": {
      "text/plain": [
       "array(['Access Cab', 'Beetle Convertible', 'CTS Coupe', 'CTS Wagon',\n",
       "       'CTS-V Coupe', 'CTS-V Wagon', 'Cab Plus', 'Cab Plus 4', 'Club Cab',\n",
       "       'Convertible', 'Coupe', 'Crew Cab', 'CrewMax Cab', 'Double Cab',\n",
       "       'E-Series Van', 'Elantra Coupe', 'Extended Cab', 'G Convertible',\n",
       "       'G Coupe', 'G Sedan', 'G37 Convertible', 'G37 Coupe',\n",
       "       'Genesis Coupe', 'GranTurismo Convertible', 'Hatchback',\n",
       "       'King Cab', 'Koup', 'Mega Cab', 'Minivan', 'Navitgation',\n",
       "       'Promaster Cargo Van', 'Q60 Convertible', 'Q60 Coupe', 'Quad Cab',\n",
       "       'Ram Van', 'Regular Cab', 'SUV', 'Sedan', 'SuperCab', 'SuperCrew',\n",
       "       'TSX Sport Wagon', 'Transit Van', 'Van', 'Wagon', 'Xtracab',\n",
       "       'access cab', 'beetle convertible', 'cab plus 4', 'club cab',\n",
       "       'convertible', 'coupe', 'crew cab', 'crewmax cab', 'cts coupe',\n",
       "       'cts wagon', 'cts-v coupe', 'double cab', 'e-series van',\n",
       "       'elantra coupe', 'extended cab', 'g convertible', 'g coupe',\n",
       "       'g sedan', 'g37 convertible', 'g37 coupe', 'genesis coupe',\n",
       "       'granturismo convertible', 'hatchback', 'king cab', 'koup',\n",
       "       'mega cab', 'minivan', 'promaster cargo van', 'q60 convertible',\n",
       "       'q60 coupe', 'quad cab', 'regular cab', 'regular-cab', 'sedan',\n",
       "       'supercab', 'supercrew', 'suv', 'transit van', 'tsx sport wagon',\n",
       "       'van', 'wagon', 'xtracab', nan], dtype=object)"
      ]
     },
     "execution_count": 17,
     "metadata": {},
     "output_type": "execute_result"
    }
   ],
   "source": [
    "# Count number of unique values \n",
    "num_unique_values = df_new['body'].nunique()\n",
    "print(f'Number of unique values: {num_unique_values}')\n",
    "\n",
    "# Find out how many types exists for categorical column\n",
    "df_new['body'].sort_values(ascending = True).unique()"
   ]
  },
  {
   "cell_type": "markdown",
   "metadata": {},
   "source": [
    "There are 87 unique values for car body but many are duplicates with different text cases or spelling\n",
    "\n",
    "For example\n",
    "- Access Cab vs. access cab\n",
    "- Beetle Convertible vs. beetle convertible\n",
    "- CTS Coupe vs. cts coupe\n",
    "\n",
    "**Replace duplicates by converting all the variations of each body to a common format**"
   ]
  },
  {
   "cell_type": "code",
   "execution_count": 18,
   "metadata": {},
   "outputs": [
    {
     "data": {
      "text/plain": [
       "array(['access cab', 'beetle convertible', 'cab plus', 'cab plus 4',\n",
       "       'club cab', 'convertible', 'coupe', 'crew cab', 'crewmax cab',\n",
       "       'cts coupe', 'cts wagon', 'cts-v coupe', 'cts-v wagon',\n",
       "       'double cab', 'e-series van', 'elantra coupe', 'extended cab',\n",
       "       'g convertible', 'g coupe', 'g sedan', 'g37 convertible',\n",
       "       'g37 coupe', 'genesis coupe', 'granturismo convertible',\n",
       "       'hatchback', 'king cab', 'koup', 'mega cab', 'minivan',\n",
       "       'navitgation', 'promaster cargo van', 'q60 convertible',\n",
       "       'q60 coupe', 'quad cab', 'ram van', 'regular cab', 'sedan',\n",
       "       'supercab', 'supercrew', 'suv', 'transit van', 'tsx sport wagon',\n",
       "       'van', 'wagon', 'xtracab', nan], dtype=object)"
      ]
     },
     "execution_count": 18,
     "metadata": {},
     "output_type": "execute_result"
    }
   ],
   "source": [
    "# create a dictionary of replacements\n",
    "body_replacements = {'Access Cab':  'access cab',\n",
    "                    'CTS Coupe': 'cts coupe',\n",
    "                    'Beetle Convertible': 'beetle convertible', \n",
    "                    'CTS Wagon':'cts wagon',\n",
    "                    'CTS-V Coupe':'cts-v coupe',\n",
    "                    'CTS-V Wagon': 'cts-v wagon',\n",
    "                    'Cab Plus 4': 'cab plus 4',\n",
    "                    'Club Cab': 'club cab',\n",
    "                    'Convertible': 'convertible', \n",
    "                    'Coupe': 'coupe',\n",
    "                    'Crew Cab': 'crew cab',\n",
    "                    'CrewMax Cab': 'crewmax cab',\n",
    "                    'Double Cab':'double cab',\n",
    "                    'E-Series Van':  'e-series van',\n",
    "                    'Elantra Coupe': 'elantra coupe', \n",
    "                    'Extended Cab': 'extended cab', \n",
    "                    'G Convertible': 'g convertible',\n",
    "                    'G Coupe': 'g coupe',\n",
    "                    'G Sedan': 'g sedan', \n",
    "                    'G37 Convertible':'g37 convertible',\n",
    "                    'G37 Coupe':'g37 coupe',\n",
    "                    'Genesis Coupe': 'genesis coupe',\n",
    "                    'GranTurismo Convertible': 'granturismo convertible',\n",
    "                    'Hatchback':'hatchback',\n",
    "                    'King Cab': 'king cab',\n",
    "                    'Koup':  'koup',\n",
    "                    'Mega Cab':  'mega cab',\n",
    "                    'Minivan':  'minivan',\n",
    "                    'Promaster Cargo Van': 'promaster cargo van', \n",
    "                    'Q60 Convertible': 'q60 convertible',\n",
    "                    'Q60 Coupe':  'q60 coupe',\n",
    "                    'Quad Cab':'quad cab',\n",
    "                    'Regular Cab': 'regular cab', \n",
    "                    'regular-cab': 'regular cab',\n",
    "                    'SUV': 'suv',\n",
    "                    'Sedan': 'sedan',\n",
    "                    'SuperCab':  'supercab',\n",
    "                    'SuperCrew':'supercrew', \n",
    "                    'TSX Sport Wagon': 'tsx sport wagon',\n",
    "                    'Transit Van': 'transit van',\n",
    "                    'Van':  'van',\n",
    "                    'Wagon': 'wagon',\n",
    "                    'Xtracab': 'xtracab',\n",
    "                    'Cab Plus':'cab plus',\n",
    "                    'Navitgation':'navitgation',\n",
    "                    'Ram Van':'ram van'\n",
    "                     }\n",
    "\n",
    "# replace values using the .map() method\n",
    "df_new['body'] = df_new['body'].map(body_replacements).fillna(df_new['body'])\n",
    "\n",
    "# print the DataFrame\n",
    "df_new['body'].sort_values(ascending=True).unique()"
   ]
  },
  {
   "cell_type": "markdown",
   "metadata": {},
   "source": [
    "## transmission"
   ]
  },
  {
   "cell_type": "code",
   "execution_count": 19,
   "metadata": {},
   "outputs": [
    {
     "name": "stdout",
     "output_type": "stream",
     "text": [
      "Number of unique values: 4\n"
     ]
    },
    {
     "data": {
      "text/plain": [
       "array(['Sedan', 'automatic', 'manual', 'sedan', nan], dtype=object)"
      ]
     },
     "execution_count": 19,
     "metadata": {},
     "output_type": "execute_result"
    }
   ],
   "source": [
    "# Count number of unique values \n",
    "num_unique_values = df_new['transmission'].nunique()\n",
    "print(f'Number of unique values: {num_unique_values}')\n",
    "\n",
    "#Find out how many types exists for categorical column\n",
    "df_new['transmission'].sort_values(ascending = True).unique()"
   ]
  },
  {
   "cell_type": "markdown",
   "metadata": {},
   "source": [
    "- Transmission has 4 unique values but 'sedan' is not transmission type. \n",
    "- sedan is also duplicated with different text cases\n",
    "    - Sedan/sedan"
   ]
  },
  {
   "cell_type": "markdown",
   "metadata": {},
   "source": [
    "First, fix the duplication by converting *Sedan* to *sedan*"
   ]
  },
  {
   "cell_type": "code",
   "execution_count": 20,
   "metadata": {},
   "outputs": [
    {
     "data": {
      "text/plain": [
       "array(['automatic', 'manual', 'sedan', nan], dtype=object)"
      ]
     },
     "execution_count": 20,
     "metadata": {},
     "output_type": "execute_result"
    }
   ],
   "source": [
    "# create a dictionary of replacements\n",
    "transmission_replacements = {'Sedan':  'sedan'}\n",
    "\n",
    "# replace values using the .map() method\n",
    "df_new['transmission'] = df_new['transmission'].map(transmission_replacements).fillna(df_new['transmission'])\n",
    "\n",
    "# print the DataFrame\n",
    "df_new['transmission'].sort_values(ascending=True).unique()"
   ]
  },
  {
   "cell_type": "markdown",
   "metadata": {},
   "source": [
    "Review rows where transmission equals *sedan* to discover insights on this error"
   ]
  },
  {
   "cell_type": "code",
   "execution_count": 21,
   "metadata": {},
   "outputs": [
    {
     "data": {
      "text/html": [
       "<div>\n",
       "<style scoped>\n",
       "    .dataframe tbody tr th:only-of-type {\n",
       "        vertical-align: middle;\n",
       "    }\n",
       "\n",
       "    .dataframe tbody tr th {\n",
       "        vertical-align: top;\n",
       "    }\n",
       "\n",
       "    .dataframe thead th {\n",
       "        text-align: right;\n",
       "    }\n",
       "</style>\n",
       "<table border=\"1\" class=\"dataframe\">\n",
       "  <thead>\n",
       "    <tr style=\"text-align: right;\">\n",
       "      <th></th>\n",
       "      <th>year</th>\n",
       "      <th>make</th>\n",
       "      <th>model</th>\n",
       "      <th>trim</th>\n",
       "      <th>body</th>\n",
       "      <th>transmission</th>\n",
       "      <th>vin</th>\n",
       "      <th>state</th>\n",
       "      <th>condition</th>\n",
       "      <th>odometer</th>\n",
       "      <th>color</th>\n",
       "      <th>interior</th>\n",
       "      <th>seller</th>\n",
       "      <th>mmr</th>\n",
       "      <th>sellingprice</th>\n",
       "      <th>sale_weekday</th>\n",
       "      <th>sale_month</th>\n",
       "      <th>sale_day</th>\n",
       "      <th>sale_year</th>\n",
       "    </tr>\n",
       "  </thead>\n",
       "  <tbody>\n",
       "    <tr>\n",
       "      <th>408161</th>\n",
       "      <td>2015</td>\n",
       "      <td>volkswagen</td>\n",
       "      <td>jetta</td>\n",
       "      <td>SE PZEV w/Connectivity</td>\n",
       "      <td>navitgation</td>\n",
       "      <td>sedan</td>\n",
       "      <td>automatic</td>\n",
       "      <td>3vwd17aj4fm201708</td>\n",
       "      <td>NaN</td>\n",
       "      <td>46.0</td>\n",
       "      <td>4802</td>\n",
       "      <td>silver</td>\n",
       "      <td>gray</td>\n",
       "      <td>NaN</td>\n",
       "      <td>13200.0</td>\n",
       "      <td>16500</td>\n",
       "      <td>None</td>\n",
       "      <td>None</td>\n",
       "      <td>None</td>\n",
       "    </tr>\n",
       "    <tr>\n",
       "      <th>417835</th>\n",
       "      <td>2015</td>\n",
       "      <td>volkswagen</td>\n",
       "      <td>jetta</td>\n",
       "      <td>SE PZEV w/Connectivity</td>\n",
       "      <td>navitgation</td>\n",
       "      <td>sedan</td>\n",
       "      <td>automatic</td>\n",
       "      <td>3vwd17aj2fm258506</td>\n",
       "      <td>NaN</td>\n",
       "      <td>1.0</td>\n",
       "      <td>9410</td>\n",
       "      <td>white</td>\n",
       "      <td>gray</td>\n",
       "      <td>NaN</td>\n",
       "      <td>13300.0</td>\n",
       "      <td>10500</td>\n",
       "      <td>None</td>\n",
       "      <td>None</td>\n",
       "      <td>None</td>\n",
       "    </tr>\n",
       "    <tr>\n",
       "      <th>421289</th>\n",
       "      <td>2015</td>\n",
       "      <td>volkswagen</td>\n",
       "      <td>jetta</td>\n",
       "      <td>SE PZEV w/Connectivity</td>\n",
       "      <td>navitgation</td>\n",
       "      <td>sedan</td>\n",
       "      <td>automatic</td>\n",
       "      <td>3vwd17aj3fm276741</td>\n",
       "      <td>NaN</td>\n",
       "      <td>46.0</td>\n",
       "      <td>1167</td>\n",
       "      <td>blue</td>\n",
       "      <td>black</td>\n",
       "      <td>NaN</td>\n",
       "      <td>13200.0</td>\n",
       "      <td>12700</td>\n",
       "      <td>None</td>\n",
       "      <td>None</td>\n",
       "      <td>None</td>\n",
       "    </tr>\n",
       "    <tr>\n",
       "      <th>424161</th>\n",
       "      <td>2015</td>\n",
       "      <td>volkswagen</td>\n",
       "      <td>jetta</td>\n",
       "      <td>SE PZEV w/Connectivity</td>\n",
       "      <td>navitgation</td>\n",
       "      <td>sedan</td>\n",
       "      <td>automatic</td>\n",
       "      <td>3vwd17aj2fm285365</td>\n",
       "      <td>NaN</td>\n",
       "      <td>1.0</td>\n",
       "      <td>2172</td>\n",
       "      <td>gray</td>\n",
       "      <td>black</td>\n",
       "      <td>NaN</td>\n",
       "      <td>14050.0</td>\n",
       "      <td>8250</td>\n",
       "      <td>None</td>\n",
       "      <td>None</td>\n",
       "      <td>None</td>\n",
       "    </tr>\n",
       "    <tr>\n",
       "      <th>427040</th>\n",
       "      <td>2015</td>\n",
       "      <td>volkswagen</td>\n",
       "      <td>jetta</td>\n",
       "      <td>SE PZEV w/Connectivity</td>\n",
       "      <td>navitgation</td>\n",
       "      <td>sedan</td>\n",
       "      <td>automatic</td>\n",
       "      <td>3vwd17aj0fm227318</td>\n",
       "      <td>NaN</td>\n",
       "      <td>41.0</td>\n",
       "      <td>14872</td>\n",
       "      <td>gray</td>\n",
       "      <td>black</td>\n",
       "      <td>NaN</td>\n",
       "      <td>13700.0</td>\n",
       "      <td>14300</td>\n",
       "      <td>None</td>\n",
       "      <td>None</td>\n",
       "      <td>None</td>\n",
       "    </tr>\n",
       "  </tbody>\n",
       "</table>\n",
       "</div>"
      ],
      "text/plain": [
       "        year        make  model                    trim         body  \\\n",
       "408161  2015  volkswagen  jetta  SE PZEV w/Connectivity  navitgation   \n",
       "417835  2015  volkswagen  jetta  SE PZEV w/Connectivity  navitgation   \n",
       "421289  2015  volkswagen  jetta  SE PZEV w/Connectivity  navitgation   \n",
       "424161  2015  volkswagen  jetta  SE PZEV w/Connectivity  navitgation   \n",
       "427040  2015  volkswagen  jetta  SE PZEV w/Connectivity  navitgation   \n",
       "\n",
       "       transmission        vin              state  condition  odometer  color  \\\n",
       "408161        sedan  automatic  3vwd17aj4fm201708        NaN      46.0   4802   \n",
       "417835        sedan  automatic  3vwd17aj2fm258506        NaN       1.0   9410   \n",
       "421289        sedan  automatic  3vwd17aj3fm276741        NaN      46.0   1167   \n",
       "424161        sedan  automatic  3vwd17aj2fm285365        NaN       1.0   2172   \n",
       "427040        sedan  automatic  3vwd17aj0fm227318        NaN      41.0  14872   \n",
       "\n",
       "       interior seller  mmr  sellingprice sale_weekday sale_month sale_day  \\\n",
       "408161   silver   gray  NaN       13200.0        16500       None     None   \n",
       "417835    white   gray  NaN       13300.0        10500       None     None   \n",
       "421289     blue  black  NaN       13200.0        12700       None     None   \n",
       "424161     gray  black  NaN       14050.0         8250       None     None   \n",
       "427040     gray  black  NaN       13700.0        14300       None     None   \n",
       "\n",
       "       sale_year  \n",
       "408161      None  \n",
       "417835      None  \n",
       "421289      None  \n",
       "424161      None  \n",
       "427040      None  "
      ]
     },
     "execution_count": 21,
     "metadata": {},
     "output_type": "execute_result"
    }
   ],
   "source": [
    "# Create a Boolean mask to separate rows where transmission equals sedan \n",
    "mask_trans = (df_new['transmission'] == 'sedan')\n",
    "\n",
    "# save subset of rows as new dataframe\n",
    "df_subset = df_new[mask_trans]\n",
    "\n",
    "# view subset \n",
    "df_subset.head()"
   ]
  },
  {
   "cell_type": "markdown",
   "metadata": {},
   "source": [
    "- Data entry error is likely the cause of this error.\n",
    "- The year, make, model column values looks correct. \n",
    "- However, the data for all the columns to the right (trim, body, etc.) are incorrect. "
   ]
  },
  {
   "cell_type": "markdown",
   "metadata": {},
   "source": [
    "These values in these columns should be shifted one column over to the left. \n",
    "\n",
    "1. Drop the subset rows where transmission = sedan from the df_new. It will be added back after the values are shifted to the correct column"
   ]
  },
  {
   "cell_type": "code",
   "execution_count": 22,
   "metadata": {},
   "outputs": [
    {
     "name": "stdout",
     "output_type": "stream",
     "text": [
      "original row count:                       558837\n",
      "row count after dropping rows with errors 558811\n"
     ]
    }
   ],
   "source": [
    "# create variable to store rows where transmission = sedan\n",
    "drop_rows = df_new[df_new['transmission'] == 'sedan'].index\n",
    "\n",
    "# drop all rows with transimision = sedan from df2\n",
    "df_new.drop(drop_rows, inplace=True)\n",
    "\n",
    "# compare shape of both original df and new df to confirm rows have been droped\n",
    "print('original row count:                      ',df.shape[0])\n",
    "print('row count after dropping rows with errors', df_new.shape[0])"
   ]
  },
  {
   "cell_type": "markdown",
   "metadata": {},
   "source": [
    "2. split  df_subset into 2 sections: left and right\n",
    "\n",
    "- The left section contains the first 3 columns (year, make, model) which are correct and does not need to be shifted\n",
    "\n",
    "- The right section are all columns with data errors and needs to be shifted to the left"
   ]
  },
  {
   "cell_type": "code",
   "execution_count": 23,
   "metadata": {},
   "outputs": [
    {
     "data": {
      "text/html": [
       "<div>\n",
       "<style scoped>\n",
       "    .dataframe tbody tr th:only-of-type {\n",
       "        vertical-align: middle;\n",
       "    }\n",
       "\n",
       "    .dataframe tbody tr th {\n",
       "        vertical-align: top;\n",
       "    }\n",
       "\n",
       "    .dataframe thead th {\n",
       "        text-align: right;\n",
       "    }\n",
       "</style>\n",
       "<table border=\"1\" class=\"dataframe\">\n",
       "  <thead>\n",
       "    <tr style=\"text-align: right;\">\n",
       "      <th></th>\n",
       "      <th>year</th>\n",
       "      <th>make</th>\n",
       "      <th>model</th>\n",
       "    </tr>\n",
       "  </thead>\n",
       "  <tbody>\n",
       "    <tr>\n",
       "      <th>408161</th>\n",
       "      <td>2015</td>\n",
       "      <td>volkswagen</td>\n",
       "      <td>jetta</td>\n",
       "    </tr>\n",
       "    <tr>\n",
       "      <th>417835</th>\n",
       "      <td>2015</td>\n",
       "      <td>volkswagen</td>\n",
       "      <td>jetta</td>\n",
       "    </tr>\n",
       "    <tr>\n",
       "      <th>421289</th>\n",
       "      <td>2015</td>\n",
       "      <td>volkswagen</td>\n",
       "      <td>jetta</td>\n",
       "    </tr>\n",
       "    <tr>\n",
       "      <th>424161</th>\n",
       "      <td>2015</td>\n",
       "      <td>volkswagen</td>\n",
       "      <td>jetta</td>\n",
       "    </tr>\n",
       "    <tr>\n",
       "      <th>427040</th>\n",
       "      <td>2015</td>\n",
       "      <td>volkswagen</td>\n",
       "      <td>jetta</td>\n",
       "    </tr>\n",
       "  </tbody>\n",
       "</table>\n",
       "</div>"
      ],
      "text/plain": [
       "        year        make  model\n",
       "408161  2015  volkswagen  jetta\n",
       "417835  2015  volkswagen  jetta\n",
       "421289  2015  volkswagen  jetta\n",
       "424161  2015  volkswagen  jetta\n",
       "427040  2015  volkswagen  jetta"
      ]
     },
     "execution_count": 23,
     "metadata": {},
     "output_type": "execute_result"
    }
   ],
   "source": [
    "# separate 'year','make','model' columns from subet because they are correct.\n",
    "left = df_subset[['year','make','model']]\n",
    "left.head()"
   ]
  },
  {
   "cell_type": "code",
   "execution_count": 24,
   "metadata": {},
   "outputs": [
    {
     "data": {
      "text/html": [
       "<div>\n",
       "<style scoped>\n",
       "    .dataframe tbody tr th:only-of-type {\n",
       "        vertical-align: middle;\n",
       "    }\n",
       "\n",
       "    .dataframe tbody tr th {\n",
       "        vertical-align: top;\n",
       "    }\n",
       "\n",
       "    .dataframe thead th {\n",
       "        text-align: right;\n",
       "    }\n",
       "</style>\n",
       "<table border=\"1\" class=\"dataframe\">\n",
       "  <thead>\n",
       "    <tr style=\"text-align: right;\">\n",
       "      <th></th>\n",
       "      <th>trim</th>\n",
       "      <th>body</th>\n",
       "      <th>transmission</th>\n",
       "      <th>vin</th>\n",
       "      <th>state</th>\n",
       "      <th>condition</th>\n",
       "      <th>odometer</th>\n",
       "      <th>color</th>\n",
       "      <th>interior</th>\n",
       "      <th>seller</th>\n",
       "      <th>mmr</th>\n",
       "      <th>sellingprice</th>\n",
       "      <th>sale_weekday</th>\n",
       "      <th>sale_month</th>\n",
       "      <th>sale_day</th>\n",
       "      <th>sale_year</th>\n",
       "    </tr>\n",
       "  </thead>\n",
       "  <tbody>\n",
       "    <tr>\n",
       "      <th>408161</th>\n",
       "      <td>SE PZEV w/Connectivity</td>\n",
       "      <td>navitgation</td>\n",
       "      <td>sedan</td>\n",
       "      <td>automatic</td>\n",
       "      <td>3vwd17aj4fm201708</td>\n",
       "      <td>NaN</td>\n",
       "      <td>46.0</td>\n",
       "      <td>4802</td>\n",
       "      <td>silver</td>\n",
       "      <td>gray</td>\n",
       "      <td>NaN</td>\n",
       "      <td>13200.0</td>\n",
       "      <td>16500</td>\n",
       "      <td>None</td>\n",
       "      <td>None</td>\n",
       "      <td>None</td>\n",
       "    </tr>\n",
       "    <tr>\n",
       "      <th>417835</th>\n",
       "      <td>SE PZEV w/Connectivity</td>\n",
       "      <td>navitgation</td>\n",
       "      <td>sedan</td>\n",
       "      <td>automatic</td>\n",
       "      <td>3vwd17aj2fm258506</td>\n",
       "      <td>NaN</td>\n",
       "      <td>1.0</td>\n",
       "      <td>9410</td>\n",
       "      <td>white</td>\n",
       "      <td>gray</td>\n",
       "      <td>NaN</td>\n",
       "      <td>13300.0</td>\n",
       "      <td>10500</td>\n",
       "      <td>None</td>\n",
       "      <td>None</td>\n",
       "      <td>None</td>\n",
       "    </tr>\n",
       "    <tr>\n",
       "      <th>421289</th>\n",
       "      <td>SE PZEV w/Connectivity</td>\n",
       "      <td>navitgation</td>\n",
       "      <td>sedan</td>\n",
       "      <td>automatic</td>\n",
       "      <td>3vwd17aj3fm276741</td>\n",
       "      <td>NaN</td>\n",
       "      <td>46.0</td>\n",
       "      <td>1167</td>\n",
       "      <td>blue</td>\n",
       "      <td>black</td>\n",
       "      <td>NaN</td>\n",
       "      <td>13200.0</td>\n",
       "      <td>12700</td>\n",
       "      <td>None</td>\n",
       "      <td>None</td>\n",
       "      <td>None</td>\n",
       "    </tr>\n",
       "    <tr>\n",
       "      <th>424161</th>\n",
       "      <td>SE PZEV w/Connectivity</td>\n",
       "      <td>navitgation</td>\n",
       "      <td>sedan</td>\n",
       "      <td>automatic</td>\n",
       "      <td>3vwd17aj2fm285365</td>\n",
       "      <td>NaN</td>\n",
       "      <td>1.0</td>\n",
       "      <td>2172</td>\n",
       "      <td>gray</td>\n",
       "      <td>black</td>\n",
       "      <td>NaN</td>\n",
       "      <td>14050.0</td>\n",
       "      <td>8250</td>\n",
       "      <td>None</td>\n",
       "      <td>None</td>\n",
       "      <td>None</td>\n",
       "    </tr>\n",
       "    <tr>\n",
       "      <th>427040</th>\n",
       "      <td>SE PZEV w/Connectivity</td>\n",
       "      <td>navitgation</td>\n",
       "      <td>sedan</td>\n",
       "      <td>automatic</td>\n",
       "      <td>3vwd17aj0fm227318</td>\n",
       "      <td>NaN</td>\n",
       "      <td>41.0</td>\n",
       "      <td>14872</td>\n",
       "      <td>gray</td>\n",
       "      <td>black</td>\n",
       "      <td>NaN</td>\n",
       "      <td>13700.0</td>\n",
       "      <td>14300</td>\n",
       "      <td>None</td>\n",
       "      <td>None</td>\n",
       "      <td>None</td>\n",
       "    </tr>\n",
       "  </tbody>\n",
       "</table>\n",
       "</div>"
      ],
      "text/plain": [
       "                          trim         body transmission        vin  \\\n",
       "408161  SE PZEV w/Connectivity  navitgation        sedan  automatic   \n",
       "417835  SE PZEV w/Connectivity  navitgation        sedan  automatic   \n",
       "421289  SE PZEV w/Connectivity  navitgation        sedan  automatic   \n",
       "424161  SE PZEV w/Connectivity  navitgation        sedan  automatic   \n",
       "427040  SE PZEV w/Connectivity  navitgation        sedan  automatic   \n",
       "\n",
       "                    state  condition  odometer  color interior seller  mmr  \\\n",
       "408161  3vwd17aj4fm201708        NaN      46.0   4802   silver   gray  NaN   \n",
       "417835  3vwd17aj2fm258506        NaN       1.0   9410    white   gray  NaN   \n",
       "421289  3vwd17aj3fm276741        NaN      46.0   1167     blue  black  NaN   \n",
       "424161  3vwd17aj2fm285365        NaN       1.0   2172     gray  black  NaN   \n",
       "427040  3vwd17aj0fm227318        NaN      41.0  14872     gray  black  NaN   \n",
       "\n",
       "        sellingprice sale_weekday sale_month sale_day sale_year  \n",
       "408161       13200.0        16500       None     None      None  \n",
       "417835       13300.0        10500       None     None      None  \n",
       "421289       13200.0        12700       None     None      None  \n",
       "424161       14050.0         8250       None     None      None  \n",
       "427040       13700.0        14300       None     None      None  "
      ]
     },
     "execution_count": 24,
     "metadata": {},
     "output_type": "execute_result"
    }
   ],
   "source": [
    "# create df for right side columns where data is incorrect and\n",
    "right = df_subset.drop(columns=['year','make','model'])\n",
    "right.head()"
   ]
  },
  {
   "cell_type": "markdown",
   "metadata": {},
   "source": [
    "3. for the right side, shift columns to the left"
   ]
  },
  {
   "cell_type": "code",
   "execution_count": 25,
   "metadata": {},
   "outputs": [
    {
     "data": {
      "text/html": [
       "<div>\n",
       "<style scoped>\n",
       "    .dataframe tbody tr th:only-of-type {\n",
       "        vertical-align: middle;\n",
       "    }\n",
       "\n",
       "    .dataframe tbody tr th {\n",
       "        vertical-align: top;\n",
       "    }\n",
       "\n",
       "    .dataframe thead th {\n",
       "        text-align: right;\n",
       "    }\n",
       "</style>\n",
       "<table border=\"1\" class=\"dataframe\">\n",
       "  <thead>\n",
       "    <tr style=\"text-align: right;\">\n",
       "      <th></th>\n",
       "      <th>trim</th>\n",
       "      <th>body</th>\n",
       "      <th>transmission</th>\n",
       "      <th>vin</th>\n",
       "      <th>state</th>\n",
       "      <th>condition</th>\n",
       "      <th>odometer</th>\n",
       "      <th>color</th>\n",
       "      <th>interior</th>\n",
       "      <th>seller</th>\n",
       "      <th>mmr</th>\n",
       "      <th>sellingprice</th>\n",
       "      <th>sale_weekday</th>\n",
       "      <th>sale_month</th>\n",
       "      <th>sale_day</th>\n",
       "      <th>sale_year</th>\n",
       "    </tr>\n",
       "  </thead>\n",
       "  <tbody>\n",
       "    <tr>\n",
       "      <th>408161</th>\n",
       "      <td>navitgation</td>\n",
       "      <td>sedan</td>\n",
       "      <td>automatic</td>\n",
       "      <td>3vwd17aj4fm201708</td>\n",
       "      <td>NaN</td>\n",
       "      <td>46.0</td>\n",
       "      <td>4802</td>\n",
       "      <td>silver</td>\n",
       "      <td>gray</td>\n",
       "      <td>NaN</td>\n",
       "      <td>13200.0</td>\n",
       "      <td>16500</td>\n",
       "      <td>None</td>\n",
       "      <td>None</td>\n",
       "      <td>None</td>\n",
       "      <td>None</td>\n",
       "    </tr>\n",
       "    <tr>\n",
       "      <th>417835</th>\n",
       "      <td>navitgation</td>\n",
       "      <td>sedan</td>\n",
       "      <td>automatic</td>\n",
       "      <td>3vwd17aj2fm258506</td>\n",
       "      <td>NaN</td>\n",
       "      <td>1.0</td>\n",
       "      <td>9410</td>\n",
       "      <td>white</td>\n",
       "      <td>gray</td>\n",
       "      <td>NaN</td>\n",
       "      <td>13300.0</td>\n",
       "      <td>10500</td>\n",
       "      <td>None</td>\n",
       "      <td>None</td>\n",
       "      <td>None</td>\n",
       "      <td>None</td>\n",
       "    </tr>\n",
       "    <tr>\n",
       "      <th>421289</th>\n",
       "      <td>navitgation</td>\n",
       "      <td>sedan</td>\n",
       "      <td>automatic</td>\n",
       "      <td>3vwd17aj3fm276741</td>\n",
       "      <td>NaN</td>\n",
       "      <td>46.0</td>\n",
       "      <td>1167</td>\n",
       "      <td>blue</td>\n",
       "      <td>black</td>\n",
       "      <td>NaN</td>\n",
       "      <td>13200.0</td>\n",
       "      <td>12700</td>\n",
       "      <td>None</td>\n",
       "      <td>None</td>\n",
       "      <td>None</td>\n",
       "      <td>None</td>\n",
       "    </tr>\n",
       "    <tr>\n",
       "      <th>424161</th>\n",
       "      <td>navitgation</td>\n",
       "      <td>sedan</td>\n",
       "      <td>automatic</td>\n",
       "      <td>3vwd17aj2fm285365</td>\n",
       "      <td>NaN</td>\n",
       "      <td>1.0</td>\n",
       "      <td>2172</td>\n",
       "      <td>gray</td>\n",
       "      <td>black</td>\n",
       "      <td>NaN</td>\n",
       "      <td>14050.0</td>\n",
       "      <td>8250</td>\n",
       "      <td>None</td>\n",
       "      <td>None</td>\n",
       "      <td>None</td>\n",
       "      <td>None</td>\n",
       "    </tr>\n",
       "    <tr>\n",
       "      <th>427040</th>\n",
       "      <td>navitgation</td>\n",
       "      <td>sedan</td>\n",
       "      <td>automatic</td>\n",
       "      <td>3vwd17aj0fm227318</td>\n",
       "      <td>NaN</td>\n",
       "      <td>41.0</td>\n",
       "      <td>14872</td>\n",
       "      <td>gray</td>\n",
       "      <td>black</td>\n",
       "      <td>NaN</td>\n",
       "      <td>13700.0</td>\n",
       "      <td>14300</td>\n",
       "      <td>None</td>\n",
       "      <td>None</td>\n",
       "      <td>None</td>\n",
       "      <td>None</td>\n",
       "    </tr>\n",
       "  </tbody>\n",
       "</table>\n",
       "</div>"
      ],
      "text/plain": [
       "               trim   body transmission                vin  state  condition  \\\n",
       "408161  navitgation  sedan    automatic  3vwd17aj4fm201708    NaN       46.0   \n",
       "417835  navitgation  sedan    automatic  3vwd17aj2fm258506    NaN        1.0   \n",
       "421289  navitgation  sedan    automatic  3vwd17aj3fm276741    NaN       46.0   \n",
       "424161  navitgation  sedan    automatic  3vwd17aj2fm285365    NaN        1.0   \n",
       "427040  navitgation  sedan    automatic  3vwd17aj0fm227318    NaN       41.0   \n",
       "\n",
       "       odometer   color interior  seller      mmr sellingprice sale_weekday  \\\n",
       "408161     4802  silver     gray     NaN  13200.0        16500         None   \n",
       "417835     9410   white     gray     NaN  13300.0        10500         None   \n",
       "421289     1167    blue    black     NaN  13200.0        12700         None   \n",
       "424161     2172    gray    black     NaN  14050.0         8250         None   \n",
       "427040    14872    gray    black     NaN  13700.0        14300         None   \n",
       "\n",
       "       sale_month sale_day sale_year  \n",
       "408161       None     None      None  \n",
       "417835       None     None      None  \n",
       "421289       None     None      None  \n",
       "424161       None     None      None  \n",
       "427040       None     None      None  "
      ]
     },
     "execution_count": 25,
     "metadata": {},
     "output_type": "execute_result"
    }
   ],
   "source": [
    "right = right.shift(-1, axis=1)\n",
    "right.head()"
   ]
  },
  {
   "cell_type": "markdown",
   "metadata": {},
   "source": [
    "4. merge both left and right sections back together"
   ]
  },
  {
   "cell_type": "code",
   "execution_count": 26,
   "metadata": {},
   "outputs": [
    {
     "data": {
      "text/html": [
       "<div>\n",
       "<style scoped>\n",
       "    .dataframe tbody tr th:only-of-type {\n",
       "        vertical-align: middle;\n",
       "    }\n",
       "\n",
       "    .dataframe tbody tr th {\n",
       "        vertical-align: top;\n",
       "    }\n",
       "\n",
       "    .dataframe thead th {\n",
       "        text-align: right;\n",
       "    }\n",
       "</style>\n",
       "<table border=\"1\" class=\"dataframe\">\n",
       "  <thead>\n",
       "    <tr style=\"text-align: right;\">\n",
       "      <th></th>\n",
       "      <th>year</th>\n",
       "      <th>make</th>\n",
       "      <th>model</th>\n",
       "      <th>trim</th>\n",
       "      <th>body</th>\n",
       "      <th>transmission</th>\n",
       "      <th>vin</th>\n",
       "      <th>state</th>\n",
       "      <th>condition</th>\n",
       "      <th>odometer</th>\n",
       "      <th>color</th>\n",
       "      <th>interior</th>\n",
       "      <th>seller</th>\n",
       "      <th>mmr</th>\n",
       "      <th>sellingprice</th>\n",
       "      <th>sale_weekday</th>\n",
       "      <th>sale_month</th>\n",
       "      <th>sale_day</th>\n",
       "      <th>sale_year</th>\n",
       "    </tr>\n",
       "  </thead>\n",
       "  <tbody>\n",
       "    <tr>\n",
       "      <th>408161</th>\n",
       "      <td>2015</td>\n",
       "      <td>volkswagen</td>\n",
       "      <td>jetta</td>\n",
       "      <td>navitgation</td>\n",
       "      <td>sedan</td>\n",
       "      <td>automatic</td>\n",
       "      <td>3vwd17aj4fm201708</td>\n",
       "      <td>NaN</td>\n",
       "      <td>46.0</td>\n",
       "      <td>4802</td>\n",
       "      <td>silver</td>\n",
       "      <td>gray</td>\n",
       "      <td>NaN</td>\n",
       "      <td>13200.0</td>\n",
       "      <td>16500</td>\n",
       "      <td>None</td>\n",
       "      <td>None</td>\n",
       "      <td>None</td>\n",
       "      <td>None</td>\n",
       "    </tr>\n",
       "    <tr>\n",
       "      <th>417835</th>\n",
       "      <td>2015</td>\n",
       "      <td>volkswagen</td>\n",
       "      <td>jetta</td>\n",
       "      <td>navitgation</td>\n",
       "      <td>sedan</td>\n",
       "      <td>automatic</td>\n",
       "      <td>3vwd17aj2fm258506</td>\n",
       "      <td>NaN</td>\n",
       "      <td>1.0</td>\n",
       "      <td>9410</td>\n",
       "      <td>white</td>\n",
       "      <td>gray</td>\n",
       "      <td>NaN</td>\n",
       "      <td>13300.0</td>\n",
       "      <td>10500</td>\n",
       "      <td>None</td>\n",
       "      <td>None</td>\n",
       "      <td>None</td>\n",
       "      <td>None</td>\n",
       "    </tr>\n",
       "    <tr>\n",
       "      <th>421289</th>\n",
       "      <td>2015</td>\n",
       "      <td>volkswagen</td>\n",
       "      <td>jetta</td>\n",
       "      <td>navitgation</td>\n",
       "      <td>sedan</td>\n",
       "      <td>automatic</td>\n",
       "      <td>3vwd17aj3fm276741</td>\n",
       "      <td>NaN</td>\n",
       "      <td>46.0</td>\n",
       "      <td>1167</td>\n",
       "      <td>blue</td>\n",
       "      <td>black</td>\n",
       "      <td>NaN</td>\n",
       "      <td>13200.0</td>\n",
       "      <td>12700</td>\n",
       "      <td>None</td>\n",
       "      <td>None</td>\n",
       "      <td>None</td>\n",
       "      <td>None</td>\n",
       "    </tr>\n",
       "    <tr>\n",
       "      <th>424161</th>\n",
       "      <td>2015</td>\n",
       "      <td>volkswagen</td>\n",
       "      <td>jetta</td>\n",
       "      <td>navitgation</td>\n",
       "      <td>sedan</td>\n",
       "      <td>automatic</td>\n",
       "      <td>3vwd17aj2fm285365</td>\n",
       "      <td>NaN</td>\n",
       "      <td>1.0</td>\n",
       "      <td>2172</td>\n",
       "      <td>gray</td>\n",
       "      <td>black</td>\n",
       "      <td>NaN</td>\n",
       "      <td>14050.0</td>\n",
       "      <td>8250</td>\n",
       "      <td>None</td>\n",
       "      <td>None</td>\n",
       "      <td>None</td>\n",
       "      <td>None</td>\n",
       "    </tr>\n",
       "    <tr>\n",
       "      <th>427040</th>\n",
       "      <td>2015</td>\n",
       "      <td>volkswagen</td>\n",
       "      <td>jetta</td>\n",
       "      <td>navitgation</td>\n",
       "      <td>sedan</td>\n",
       "      <td>automatic</td>\n",
       "      <td>3vwd17aj0fm227318</td>\n",
       "      <td>NaN</td>\n",
       "      <td>41.0</td>\n",
       "      <td>14872</td>\n",
       "      <td>gray</td>\n",
       "      <td>black</td>\n",
       "      <td>NaN</td>\n",
       "      <td>13700.0</td>\n",
       "      <td>14300</td>\n",
       "      <td>None</td>\n",
       "      <td>None</td>\n",
       "      <td>None</td>\n",
       "      <td>None</td>\n",
       "    </tr>\n",
       "  </tbody>\n",
       "</table>\n",
       "</div>"
      ],
      "text/plain": [
       "        year        make  model         trim   body transmission  \\\n",
       "408161  2015  volkswagen  jetta  navitgation  sedan    automatic   \n",
       "417835  2015  volkswagen  jetta  navitgation  sedan    automatic   \n",
       "421289  2015  volkswagen  jetta  navitgation  sedan    automatic   \n",
       "424161  2015  volkswagen  jetta  navitgation  sedan    automatic   \n",
       "427040  2015  volkswagen  jetta  navitgation  sedan    automatic   \n",
       "\n",
       "                      vin  state  condition odometer   color interior  seller  \\\n",
       "408161  3vwd17aj4fm201708    NaN       46.0     4802  silver     gray     NaN   \n",
       "417835  3vwd17aj2fm258506    NaN        1.0     9410   white     gray     NaN   \n",
       "421289  3vwd17aj3fm276741    NaN       46.0     1167    blue    black     NaN   \n",
       "424161  3vwd17aj2fm285365    NaN        1.0     2172    gray    black     NaN   \n",
       "427040  3vwd17aj0fm227318    NaN       41.0    14872    gray    black     NaN   \n",
       "\n",
       "            mmr sellingprice sale_weekday sale_month sale_day sale_year  \n",
       "408161  13200.0        16500         None       None     None      None  \n",
       "417835  13300.0        10500         None       None     None      None  \n",
       "421289  13200.0        12700         None       None     None      None  \n",
       "424161  14050.0         8250         None       None     None      None  \n",
       "427040  13700.0        14300         None       None     None      None  "
      ]
     },
     "execution_count": 26,
     "metadata": {},
     "output_type": "execute_result"
    }
   ],
   "source": [
    "df_subset = left.merge(right, right_index=True, left_index=True)\n",
    "df_subset.head()            "
   ]
  },
  {
   "cell_type": "markdown",
   "metadata": {},
   "source": [
    "5. Add subset back to main dataframe (df_new)"
   ]
  },
  {
   "cell_type": "code",
   "execution_count": 27,
   "metadata": {},
   "outputs": [
    {
     "data": {
      "text/plain": [
       "(558837, 19)"
      ]
     },
     "execution_count": 27,
     "metadata": {},
     "output_type": "execute_result"
    }
   ],
   "source": [
    "# concat masked df to main df\n",
    "df_new = pd.concat([df_new, df_subset], axis=0)\n",
    "df_new.shape"
   ]
  },
  {
   "cell_type": "markdown",
   "metadata": {},
   "source": [
    "the shape is now same as original. "
   ]
  },
  {
   "cell_type": "code",
   "execution_count": 28,
   "metadata": {},
   "outputs": [
    {
     "data": {
      "text/plain": [
       "array(['automatic', 'manual', nan], dtype=object)"
      ]
     },
     "execution_count": 28,
     "metadata": {},
     "output_type": "execute_result"
    }
   ],
   "source": [
    "# Find out how many types exists for categorical column\n",
    "df_new['transmission'].sort_values(ascending = True).unique()"
   ]
  },
  {
   "cell_type": "markdown",
   "metadata": {},
   "source": [
    "Quickly check a row # 408161that previously had an error"
   ]
  },
  {
   "cell_type": "code",
   "execution_count": 29,
   "metadata": {},
   "outputs": [
    {
     "data": {
      "text/plain": [
       "year                             2012\n",
       "make                          hyundai\n",
       "model                          Sonata\n",
       "trim                          Limited\n",
       "body                            sedan\n",
       "transmission                automatic\n",
       "vin                 5npec4ac6ch440292\n",
       "state                              ca\n",
       "condition                        47.0\n",
       "odometer                      22584.0\n",
       "color                            gray\n",
       "interior                        beige\n",
       "seller          hyundai motor finance\n",
       "mmr                           16250.0\n",
       "sellingprice                  17200.0\n",
       "sale_weekday                      Tue\n",
       "sale_month                        May\n",
       "sale_day                           19\n",
       "sale_year                        2015\n",
       "Name: 408162, dtype: object"
      ]
     },
     "execution_count": 29,
     "metadata": {},
     "output_type": "execute_result"
    }
   ],
   "source": [
    "df_new.iloc[408161]"
   ]
  },
  {
   "cell_type": "markdown",
   "metadata": {},
   "source": [
    "Now, the transmission column only shows 3 unique values and row #408161 also confirms the cell data has been corrected"
   ]
  },
  {
   "cell_type": "markdown",
   "metadata": {},
   "source": [
    "## state\n"
   ]
  },
  {
   "cell_type": "code",
   "execution_count": 30,
   "metadata": {},
   "outputs": [
    {
     "name": "stdout",
     "output_type": "stream",
     "text": [
      "Number of unique values: 38\n"
     ]
    },
    {
     "data": {
      "text/plain": [
       "array(['ab', 'al', 'az', 'ca', 'co', 'fl', 'ga', 'hi', 'il', 'in', 'la',\n",
       "       'ma', 'md', 'mi', 'mn', 'mo', 'ms', 'nc', 'ne', 'nj', 'nm', 'ns',\n",
       "       'nv', 'ny', 'oh', 'ok', 'on', 'or', 'pa', 'pr', 'qc', 'sc', 'tn',\n",
       "       'tx', 'ut', 'va', 'wa', 'wi', nan], dtype=object)"
      ]
     },
     "execution_count": 30,
     "metadata": {},
     "output_type": "execute_result"
    }
   ],
   "source": [
    "# Count number of unique values \n",
    "num_unique_values = df_new['state'].nunique()\n",
    "print(f'Number of unique values: {num_unique_values}')\n",
    "\n",
    "# Find out how many types exists for categorical column\n",
    "df_new['state'].sort_values(ascending = True).unique()"
   ]
  },
  {
   "cell_type": "markdown",
   "metadata": {},
   "source": [
    "no errors found with unique values in the state column"
   ]
  },
  {
   "cell_type": "markdown",
   "metadata": {},
   "source": [
    "## color\n"
   ]
  },
  {
   "cell_type": "code",
   "execution_count": 31,
   "metadata": {},
   "outputs": [
    {
     "name": "stdout",
     "output_type": "stream",
     "text": [
      "Number of unique values: 20\n"
     ]
    },
    {
     "data": {
      "text/plain": [
       "array(['white', 'gray', 'black', 'red', 'silver', 'blue', 'brown',\n",
       "       'beige', 'purple', 'burgundy', '—', 'gold', 'yellow', 'green',\n",
       "       'charcoal', nan, 'orange', 'off-white', 'turquoise', 'pink',\n",
       "       'lime'], dtype=object)"
      ]
     },
     "execution_count": 31,
     "metadata": {},
     "output_type": "execute_result"
    }
   ],
   "source": [
    "# Count number of unique values \n",
    "num_unique_values = df_new['color'].nunique()\n",
    "print(f'Number of unique values: {num_unique_values}')\n",
    "\n",
    "# Find out how many types exists for categorical column\n",
    "df_new['color'].unique()"
   ]
  },
  {
   "cell_type": "markdown",
   "metadata": {},
   "source": [
    "'-' and nan are equivalent, should convert it to nan"
   ]
  },
  {
   "cell_type": "markdown",
   "metadata": {},
   "source": [
    "## interior\n"
   ]
  },
  {
   "cell_type": "code",
   "execution_count": 32,
   "metadata": {},
   "outputs": [
    {
     "name": "stdout",
     "output_type": "stream",
     "text": [
      "Number of unique values: 17\n"
     ]
    },
    {
     "data": {
      "text/plain": [
       "array(['black', 'beige', 'tan', '—', 'gray', 'brown', 'burgundy', 'white',\n",
       "       nan, 'silver', 'off-white', 'blue', 'red', 'yellow', 'green',\n",
       "       'purple', 'orange', 'gold'], dtype=object)"
      ]
     },
     "execution_count": 32,
     "metadata": {},
     "output_type": "execute_result"
    }
   ],
   "source": [
    "# Count number of unique values \n",
    "num_unique_values = df_new['interior'].nunique()\n",
    "print(f'Number of unique values: {num_unique_values}')\n",
    "\n",
    "# Find out how many types exists for categorical column\n",
    "df_new['interior'].unique()"
   ]
  },
  {
   "cell_type": "markdown",
   "metadata": {},
   "source": [
    "interior has the '-' value which can be converted to Nan"
   ]
  },
  {
   "cell_type": "markdown",
   "metadata": {},
   "source": [
    "Convert `-` to Nan for color and interior columns "
   ]
  },
  {
   "cell_type": "code",
   "execution_count": 33,
   "metadata": {},
   "outputs": [
    {
     "name": "stderr",
     "output_type": "stream",
     "text": [
      "C:\\Users\\tunhi\\AppData\\Local\\Temp\\ipykernel_22780\\1186024981.py:2: FutureWarning: A value is trying to be set on a copy of a DataFrame or Series through chained assignment using an inplace method.\n",
      "The behavior will change in pandas 3.0. This inplace method will never work because the intermediate object on which we are setting values always behaves as a copy.\n",
      "\n",
      "For example, when doing 'df[col].method(value, inplace=True)', try using 'df.method({col: value}, inplace=True)' or df[col] = df[col].method(value) instead, to perform the operation inplace on the original object.\n",
      "\n",
      "\n",
      "  df_new['color'].replace('—', np.nan,inplace=True)\n",
      "C:\\Users\\tunhi\\AppData\\Local\\Temp\\ipykernel_22780\\1186024981.py:3: FutureWarning: A value is trying to be set on a copy of a DataFrame or Series through chained assignment using an inplace method.\n",
      "The behavior will change in pandas 3.0. This inplace method will never work because the intermediate object on which we are setting values always behaves as a copy.\n",
      "\n",
      "For example, when doing 'df[col].method(value, inplace=True)', try using 'df.method({col: value}, inplace=True)' or df[col] = df[col].method(value) instead, to perform the operation inplace on the original object.\n",
      "\n",
      "\n",
      "  df_new['interior'].replace('—', np.nan,inplace=True)\n"
     ]
    }
   ],
   "source": [
    "# change `-` to NaN \n",
    "df_new['color'].replace('—', np.nan,inplace=True)\n",
    "df_new['interior'].replace('—', np.nan,inplace=True)"
   ]
  },
  {
   "cell_type": "code",
   "execution_count": 34,
   "metadata": {},
   "outputs": [
    {
     "data": {
      "text/plain": [
       "array(['beige', 'black', 'blue', 'brown', 'burgundy', 'charcoal', 'gold',\n",
       "       'gray', 'green', 'lime', 'off-white', 'orange', 'pink', 'purple',\n",
       "       'red', 'silver', 'turquoise', 'white', 'yellow', nan], dtype=object)"
      ]
     },
     "execution_count": 34,
     "metadata": {},
     "output_type": "execute_result"
    }
   ],
   "source": [
    "# check if `-` is removed in color\n",
    "df_new['color'].sort_values(ascending=True).unique()"
   ]
  },
  {
   "cell_type": "markdown",
   "metadata": {},
   "source": [
    "`-` is longer listed"
   ]
  },
  {
   "cell_type": "code",
   "execution_count": 35,
   "metadata": {},
   "outputs": [
    {
     "data": {
      "text/plain": [
       "array(['beige', 'black', 'blue', 'brown', 'burgundy', 'gold', 'gray',\n",
       "       'green', 'off-white', 'orange', 'purple', 'red', 'silver', 'tan',\n",
       "       'white', 'yellow', nan], dtype=object)"
      ]
     },
     "execution_count": 35,
     "metadata": {},
     "output_type": "execute_result"
    }
   ],
   "source": [
    "# check if `-` is removed in interior\n",
    "df_new['interior'].sort_values(ascending=True).unique()"
   ]
  },
  {
   "cell_type": "markdown",
   "metadata": {},
   "source": [
    "`-` is longer listed"
   ]
  },
  {
   "cell_type": "markdown",
   "metadata": {},
   "source": [
    "## trim\n"
   ]
  },
  {
   "cell_type": "code",
   "execution_count": 36,
   "metadata": {},
   "outputs": [
    {
     "name": "stdout",
     "output_type": "stream",
     "text": [
      "Number of unique values: 1963\n"
     ]
    },
    {
     "data": {
      "text/plain": [
       "['!',\n",
       " '& coun fwd',\n",
       " '& coun fwd limited',\n",
       " '& coun fwd lx',\n",
       " '& country lx',\n",
       " '(1999.5) XE',\n",
       " '+',\n",
       " '1',\n",
       " '1.6',\n",
       " '1.6 Base',\n",
       " '1.6 S',\n",
       " '1.6 S Plus',\n",
       " '1.6 SL',\n",
       " '1.6 SV',\n",
       " '1.8',\n",
       " '1.8 Base',\n",
       " '1.8 Krom',\n",
       " '1.8 S',\n",
       " '1.8 S Krom Edition',\n",
       " '1.8 SL',\n",
       " '1.8 TFSI Premium',\n",
       " '1.8 TFSI Premium Plus',\n",
       " '1.8T',\n",
       " '1.8T Avant quattro',\n",
       " '1.8T Classic',\n",
       " '1.8T quattro',\n",
       " '1.9',\n",
       " '10th Anniversary',\n",
       " '128i',\n",
       " '128i SULEV',\n",
       " '135i',\n",
       " '135is',\n",
       " '150 Low Roof',\n",
       " '1500',\n",
       " '1500 4x2',\n",
       " '1500 4x2 cr sle',\n",
       " '1500 4x2 cr sle1',\n",
       " '1500 4x2 ex sle',\n",
       " '1500 4x2 slt',\n",
       " '1500 4x4 cr slt',\n",
       " '1500 4x4 ex sle',\n",
       " '1500 4x4 v8 slt',\n",
       " '1500 High Roof',\n",
       " '1500 LS',\n",
       " '1500 LT',\n",
       " '1500 LT1',\n",
       " '1500 LTZ',\n",
       " '1500 Low Roof',\n",
       " '1500 Maxi',\n",
       " '1500 S',\n",
       " '1500 SLE',\n",
       " '1500 SLT',\n",
       " '1500 SV',\n",
       " '1500 awd cr denali',\n",
       " '1500 base',\n",
       " '1500 lramie slt',\n",
       " '1794',\n",
       " '1794 FFV',\n",
       " '180hp',\n",
       " '180hp quattro',\n",
       " '190E 2.3',\n",
       " '1LS Fleet',\n",
       " '1LT',\n",
       " '1LT Fleet',\n",
       " '1SS',\n",
       " '2',\n",
       " '2+2',\n",
       " '2.0 S',\n",
       " '2.0 SL',\n",
       " '2.0 SR',\n",
       " '2.0 TDI Premium',\n",
       " '2.0 TDI Premium Plus',\n",
       " '2.0 TFSI Premium Plus quattro',\n",
       " '2.0 TFSI Premium quattro',\n",
       " '2.0 TFSI Prestige quattro',\n",
       " '2.0L TDI',\n",
       " '2.0T',\n",
       " '2.0T Avant Premium quattro',\n",
       " '2.0T Avant quattro',\n",
       " '2.0T PZEV',\n",
       " '2.0T PZEV Premium',\n",
       " '2.0T Premium',\n",
       " '2.0T Premium Avant quattro',\n",
       " '2.0T Premium Plus',\n",
       " '2.0T Premium Plus quattro',\n",
       " '2.0T Premium quattro',\n",
       " '2.0T Prestige',\n",
       " '2.0T Prestige quattro',\n",
       " '2.0T R-Spec',\n",
       " '2.0T SportCombi',\n",
       " '2.0T Turbo',\n",
       " '2.0T Turbo PZEV',\n",
       " '2.0T White Turbo Launch Edition',\n",
       " '2.0T White Turbo Launch Edition PZEV',\n",
       " '2.0T quattro',\n",
       " '2.0XT Premium',\n",
       " '2.0XT Touring',\n",
       " '2.0i',\n",
       " '2.0i Limited PZEV',\n",
       " '2.0i PZEV',\n",
       " '2.0i Premium PZEV',\n",
       " '2.0i Sport Limited PZEV',\n",
       " '2.0i Sport Premium PZEV',\n",
       " '2.2',\n",
       " '2.2 Premium',\n",
       " '2.3',\n",
       " '2.3 Premium',\n",
       " '2.3t',\n",
       " '2.4',\n",
       " '2.4M',\n",
       " '2.4T',\n",
       " '2.4i',\n",
       " '2.5',\n",
       " '2.5 GT',\n",
       " '2.5 GT Limited',\n",
       " '2.5 I',\n",
       " '2.5 I Limited',\n",
       " '2.5 PZEV',\n",
       " '2.5 Premium',\n",
       " '2.5 RS',\n",
       " '2.5 S',\n",
       " '2.5 SL',\n",
       " '2.5 SV',\n",
       " '2.5 TS',\n",
       " '2.5 X',\n",
       " '2.5 X L.L.Bean Edition',\n",
       " '2.5 X Premium Package',\n",
       " '2.5 XT',\n",
       " '2.5 XT Limited',\n",
       " '2.5 i',\n",
       " '2.5GT Limited',\n",
       " '2.5I',\n",
       " '2.5I Limited',\n",
       " '2.5L',\n",
       " '2.5L Blush Edition',\n",
       " '2.5L Blush Edition PZEV',\n",
       " '2.5L Final Edition',\n",
       " '2.5L Final Edition PZEV',\n",
       " '2.5L PZEV',\n",
       " '2.5L Red Rock Edition',\n",
       " '2.5L Red Rock Edition PZEV',\n",
       " '2.5T',\n",
       " '2.5T SE',\n",
       " '2.5X',\n",
       " '2.5X Limited',\n",
       " '2.5X Limited PZEV',\n",
       " '2.5X PZEV',\n",
       " '2.5X Premium',\n",
       " '2.5X Premium PZEV',\n",
       " '2.5X Touring',\n",
       " '2.5X Touring PZEV',\n",
       " '2.5XT',\n",
       " '2.5XT Limited',\n",
       " '2.5XT Premium',\n",
       " '2.5XT Touring',\n",
       " '2.5i',\n",
       " '2.5i Limited',\n",
       " '2.5i Limited PZEV',\n",
       " '2.5i PZEV',\n",
       " '2.5i Premium',\n",
       " '2.5i Premium PZEV',\n",
       " '2.5i Special Edition',\n",
       " '2.5i Sport',\n",
       " '2.5i Sport PZEV',\n",
       " '2.5i Touring PZEV',\n",
       " '2.5l',\n",
       " '2.7T S-Line quattro',\n",
       " '2.7T quattro',\n",
       " '2.8',\n",
       " '2.8 Avant quattro',\n",
       " '2.8 quattro',\n",
       " '2.9',\n",
       " '20th Anniversary Edition',\n",
       " '225hp quattro',\n",
       " '228i',\n",
       " '25 4x4 cr sle',\n",
       " '250 High Roof',\n",
       " '250 Low Roof',\n",
       " '250 Medium Roof',\n",
       " '2500',\n",
       " '2500 118 WB',\n",
       " '2500 140 WB',\n",
       " '2500 144 WB',\n",
       " '2500 144 WB Cargo',\n",
       " '2500 144 WB Crew',\n",
       " '2500 144 WB Passenger',\n",
       " '2500 170 WB',\n",
       " '2500 170 WB Cargo',\n",
       " '2500 170 WB Passenger',\n",
       " '2500 4x4',\n",
       " '2500 High Ceiling 118 WB',\n",
       " '2500 High Roof',\n",
       " '2500 High Roof 140 WB',\n",
       " '2500 High Roof 158 WB',\n",
       " '2500 LS',\n",
       " '2500 LT',\n",
       " '2500 S',\n",
       " '2500 SH Ceiling 140 WB',\n",
       " '2500 SLE',\n",
       " '2500 SV',\n",
       " '2500 lramie slt',\n",
       " '2500k lt',\n",
       " '250hp quattro',\n",
       " '25th Anniversary',\n",
       " '2LS Fleet',\n",
       " '2LT',\n",
       " '2SS',\n",
       " '2wd ext',\n",
       " '2wd ext base',\n",
       " '2wd ext ls',\n",
       " '3',\n",
       " '3.0 Avant quattro',\n",
       " '3.0 Premium',\n",
       " '3.0 R',\n",
       " '3.0 R L.L.Bean Edition',\n",
       " '3.0 R Limited',\n",
       " '3.0 R VDC Limited',\n",
       " '3.0 quattro',\n",
       " '3.0L',\n",
       " '3.0L Sportwagon',\n",
       " '3.0R Limited',\n",
       " '3.0T Premium Plus quattro',\n",
       " '3.0T Premium quattro',\n",
       " '3.0T Prestige quattro',\n",
       " '3.0T S line Prestige quattro',\n",
       " '3.0T quattro',\n",
       " '3.0i',\n",
       " '3.0si',\n",
       " '3.2',\n",
       " '3.2 Avant quattro',\n",
       " '3.2 Premier Plus',\n",
       " '3.2 Premium',\n",
       " '3.2 Premium Plus quattro',\n",
       " '3.2 Premium quattro',\n",
       " '3.2 R-Design',\n",
       " '3.2 Special Edition',\n",
       " '3.2 Type-S',\n",
       " '3.2 quattro',\n",
       " '3.2L',\n",
       " '3.5',\n",
       " '3.5 Premium',\n",
       " '3.5 S',\n",
       " '3.5 SE',\n",
       " '3.5 SE-R',\n",
       " '3.5 SL',\n",
       " '3.5 SR',\n",
       " '3.5 SV',\n",
       " '3.5 Special Edition',\n",
       " '3.5L',\n",
       " '3.5XS',\n",
       " '3.6',\n",
       " '3.6 4Motion',\n",
       " '3.6 Premium quattro',\n",
       " '3.6 quattro',\n",
       " '3.6R Limited',\n",
       " '3.6R Premium',\n",
       " '3.6R Touring',\n",
       " '3.6l se se',\n",
       " '3.8',\n",
       " '3.8 Grand Touring',\n",
       " '3.8 R-Spec',\n",
       " '3.8 Track',\n",
       " '3.8 Ultimate',\n",
       " '300E',\n",
       " '300E 2.8',\n",
       " '300SE',\n",
       " '300SL',\n",
       " '318i',\n",
       " '318ti',\n",
       " '320i',\n",
       " '320i xDrive',\n",
       " '323Ci',\n",
       " '323i',\n",
       " '323iT',\n",
       " '323is',\n",
       " '325Ci',\n",
       " '325i',\n",
       " '325is',\n",
       " '325xi',\n",
       " '328Ci',\n",
       " '328d',\n",
       " '328d xDrive',\n",
       " '328i',\n",
       " '328i SULEV',\n",
       " '328i xDrive',\n",
       " '328i xDrive SULEV',\n",
       " '328is',\n",
       " '328xi',\n",
       " '330Ci',\n",
       " '330i',\n",
       " '330xi',\n",
       " '335d',\n",
       " '335i',\n",
       " '335i xDrive',\n",
       " '335is',\n",
       " '335xi',\n",
       " '350 XL High Roof',\n",
       " '350 XL Low Roof',\n",
       " '350 XL Medium Roof',\n",
       " '3500',\n",
       " '3500 170 WB',\n",
       " '3500 170 WB Cargo',\n",
       " '3500 High Roof 140 WB',\n",
       " '3500 High Roof 158 WB',\n",
       " '3500 S',\n",
       " '3500 SH Ceiling 158 WB',\n",
       " '3500 SV',\n",
       " '3500 sport',\n",
       " '4',\n",
       " '4.0 S',\n",
       " '4.0 SE',\n",
       " '4.0T quattro',\n",
       " '4.2',\n",
       " '4.2 Premium quattro',\n",
       " '4.2 Prestige quattro',\n",
       " '4.2 quattro',\n",
       " '4.2 quattro Spyder',\n",
       " '4.2i',\n",
       " '4.4i',\n",
       " '4.6',\n",
       " '4.6 HSE',\n",
       " '4.6 SE',\n",
       " '4.6 Vitesse',\n",
       " '4.6is',\n",
       " '4.8i',\n",
       " '4.8is',\n",
       " '400SEL',\n",
       " '420SEL',\n",
       " '427',\n",
       " '428i',\n",
       " '428i SULEV',\n",
       " '428i xDrive',\n",
       " '428i xDrive SULEV',\n",
       " '435i',\n",
       " '435i xDrive',\n",
       " '454SS',\n",
       " '470',\n",
       " '4S',\n",
       " '4c',\n",
       " '4c 1.8t',\n",
       " '4c base',\n",
       " '4c comfort',\n",
       " '4c le',\n",
       " '4c ls w/1fl',\n",
       " '4c ls w/1ls',\n",
       " '4c lt w/2lt',\n",
       " '4c ltz',\n",
       " '4c se',\n",
       " '4wd i',\n",
       " '4wd s',\n",
       " '4x2',\n",
       " '4x2 6c carrera',\n",
       " '4x2 6c carrera s',\n",
       " '4x2 6c cxl',\n",
       " '4x2 carrera',\n",
       " '4x2 cr limited',\n",
       " '4x2 crew xlt',\n",
       " '4x2 ed bauer',\n",
       " '4x2 ex lt w/1lt',\n",
       " '4x2 ex xl',\n",
       " '4x2 ext',\n",
       " '4x2 ext base',\n",
       " '4x2 ext classic ls',\n",
       " '4x2 ext lariat',\n",
       " '4x2 ext ls',\n",
       " '4x2 ext silverado',\n",
       " '4x2 ext xl',\n",
       " '4x2 ext xlt',\n",
       " '4x2 qd slt',\n",
       " '4x2 reg',\n",
       " '4x2 reg base',\n",
       " '4x2 reg ls',\n",
       " '4x2 reg silver ls',\n",
       " '4x2 reg silverado',\n",
       " '4x2 reg xl',\n",
       " '4x2 reg xlt',\n",
       " '4x2 rg work truck',\n",
       " '4x2 rg xl',\n",
       " '4x2 sls',\n",
       " '4x2 suv',\n",
       " '4x2 v10 xlt',\n",
       " '4x2 v6',\n",
       " '4x2 v6 limited',\n",
       " '4x2 v6 rwd',\n",
       " '4x2 v6 se',\n",
       " '4x2 v6 sr5',\n",
       " '4x2 v6 sxt',\n",
       " '4x2 v6 xl',\n",
       " '4x2 v6 xls',\n",
       " '4x2 v6 xls sport',\n",
       " '4x2 v6 xlt',\n",
       " '4x2 v8',\n",
       " '4x2 v8 300c srt8',\n",
       " '4x2 v8 c srt8',\n",
       " '4x2 v8 ed bauer',\n",
       " '4x2 v8 limited',\n",
       " '4x2 v8 lt',\n",
       " '4x2 v8 slt',\n",
       " '4x2 v8 sr5',\n",
       " '4x2 v8 x-sp',\n",
       " '4x2 v8 xlt',\n",
       " '4x2 v8 xlt prm',\n",
       " '4x2 xlt',\n",
       " '4x4',\n",
       " '4x4 4c',\n",
       " '4x4 4c hybrid',\n",
       " '4x4 4c limited',\n",
       " '4x4 4c north',\n",
       " '4x4 4c s',\n",
       " '4x4 4c se',\n",
       " '4x4 4c sport',\n",
       " '4x4 6c sahara',\n",
       " '4x4 6c se',\n",
       " '4x4 6c sport',\n",
       " '4x4 base',\n",
       " '4x4 cr',\n",
       " '4x4 cr king ranch',\n",
       " '4x4 cr lariat',\n",
       " '4x4 cr rt',\n",
       " '4x4 cr rtl',\n",
       " '4x4 cr rts',\n",
       " '4x4 cr srw xlt',\n",
       " '4x4 cr xlt',\n",
       " '4x4 crew lariat',\n",
       " '4x4 crew xlt',\n",
       " '4x4 dx',\n",
       " '4x4 ed bauer',\n",
       " '4x4 ex',\n",
       " '4x4 ex fx4',\n",
       " '4x4 ex stx',\n",
       " '4x4 ex xl',\n",
       " '4x4 ex xlt',\n",
       " '4x4 ex-l',\n",
       " '4x4 ext',\n",
       " '4x4 ext classic ls',\n",
       " '4x4 ext lariat',\n",
       " '4x4 ext lariat o/r',\n",
       " '4x4 ext silver z71',\n",
       " '4x4 ext silverado',\n",
       " '4x4 ext slt',\n",
       " '4x4 ext sport',\n",
       " '4x4 ext xlt',\n",
       " '4x4 ext xlt off/rd',\n",
       " '4x4 le',\n",
       " '4x4 lx',\n",
       " '4x4 mg slt',\n",
       " '4x4 reg silver ls',\n",
       " '4x4 reg silverado',\n",
       " '4x4 reg xlt',\n",
       " '4x4 rg xl',\n",
       " '4x4 se',\n",
       " '4x4 slt',\n",
       " '4x4 sport',\n",
       " '4x4 v6',\n",
       " '4x4 v6 ed bauer',\n",
       " '4x4 v6 ex',\n",
       " '4x4 v6 limited',\n",
       " '4x4 v6 nbx',\n",
       " '4x4 v6 xls',\n",
       " '4x4 v6 xlt',\n",
       " '4x4 v6 xlt pop 2',\n",
       " '4x4 v6 xlt sport',\n",
       " '4x4 v8 limited',\n",
       " '4x4 v8 sle',\n",
       " '4x4 v8 slt',\n",
       " '4x4 v8 sr5',\n",
       " '4x4 xlt',\n",
       " '5',\n",
       " '5 lt',\n",
       " '5-Passenger',\n",
       " '5.0 R-Spec',\n",
       " '5.2 quattro',\n",
       " '5.2 quattro Spyder',\n",
       " '5.3i',\n",
       " '500SL',\n",
       " '50th Anniversary',\n",
       " '525i',\n",
       " '525xi',\n",
       " '528i',\n",
       " '528i xDrive',\n",
       " '528xi',\n",
       " '530i',\n",
       " '530xi',\n",
       " '535d',\n",
       " '535d xDrive',\n",
       " '535i',\n",
       " '535i xDrive',\n",
       " '535xi',\n",
       " '540i',\n",
       " '545i',\n",
       " '550i',\n",
       " '550i xDrive',\n",
       " '5c 2.5l',\n",
       " '60',\n",
       " '60th Anniversary',\n",
       " '640i',\n",
       " '640i xDrive',\n",
       " '645Ci',\n",
       " '650i',\n",
       " '650i xDrive',\n",
       " '6c rubicon',\n",
       " '6c rubicon ul',\n",
       " '6c se',\n",
       " '6c sport',\n",
       " '6c unlimited',\n",
       " '6c x',\n",
       " '7-Passenger',\n",
       " '70th Anniversary',\n",
       " '740Ld xDrive',\n",
       " '740Li',\n",
       " '740Li xDrive',\n",
       " '740i',\n",
       " '740iL',\n",
       " '745Li',\n",
       " '745i',\n",
       " '750Li',\n",
       " '750Li xDrive',\n",
       " '750i',\n",
       " '750i xDrive',\n",
       " '750iL',\n",
       " '750li',\n",
       " '750li xdr',\n",
       " '760Li',\n",
       " '85',\n",
       " '850i',\n",
       " 'Abarth',\n",
       " 'ActiveHybrid 3',\n",
       " 'ActiveHybrid 5',\n",
       " 'Adrenalin',\n",
       " 'Advance Package',\n",
       " 'Advance and Entertainment Packages',\n",
       " 'Advanced',\n",
       " 'Aero',\n",
       " 'Aero SportCombi',\n",
       " 'Alpha',\n",
       " 'Altitude',\n",
       " 'Altitude Edition',\n",
       " 'American Value Package',\n",
       " 'Arc',\n",
       " 'Arc 2.3T',\n",
       " 'Arc 3.0t',\n",
       " 'Autobahn',\n",
       " 'Autobahn PZEV',\n",
       " 'Autobiography',\n",
       " 'Autobiography LWB',\n",
       " 'Avant quattro',\n",
       " 'Aveo5 1LT',\n",
       " 'Aveo5 2LT',\n",
       " 'Aveo5 LS',\n",
       " 'Aveo5 Special Value',\n",
       " 'B2300',\n",
       " 'B2500 SE',\n",
       " 'B3000',\n",
       " 'B3000 Dual Sport',\n",
       " 'B3000 SE',\n",
       " 'B4000',\n",
       " 'B4000 SE',\n",
       " 'BEV',\n",
       " 'BRABUS cabriolet',\n",
       " 'BRABUS coupe',\n",
       " 'Base',\n",
       " 'Base (1999.5)',\n",
       " 'Base 7-Passenger',\n",
       " 'Base PZEV',\n",
       " 'Bi-Color Edition',\n",
       " 'Big Horn',\n",
       " 'BigHorn',\n",
       " 'Black Edition',\n",
       " 'Black Tie Edition',\n",
       " 'Blue',\n",
       " 'Boss 302',\n",
       " 'Bullitt',\n",
       " 'C',\n",
       " 'C Abarth',\n",
       " 'C HEMI',\n",
       " 'C John Varvatos',\n",
       " 'C John Varvatos Luxury',\n",
       " 'C Lounge',\n",
       " 'C Luxury Series',\n",
       " 'C Pop',\n",
       " 'C/V',\n",
       " 'C220',\n",
       " 'C230',\n",
       " 'C230 Kompressor',\n",
       " 'C230 Sport',\n",
       " 'C240',\n",
       " 'C240 4MATIC',\n",
       " 'C240 Luxury',\n",
       " 'C240 Luxury 4MATIC',\n",
       " 'C250',\n",
       " 'C250 Sport',\n",
       " 'C280',\n",
       " 'C280 Luxury',\n",
       " 'C280 Luxury 4MATIC',\n",
       " 'C300',\n",
       " 'C300 Luxury',\n",
       " 'C300 Luxury 4MATIC',\n",
       " 'C300 Sport',\n",
       " 'C300 Sport 4MATIC',\n",
       " 'C32 AMG',\n",
       " 'C320',\n",
       " 'C320 4MATIC',\n",
       " 'C320 Luxury 4MATIC',\n",
       " 'C320 Sport',\n",
       " 'C350',\n",
       " 'C350 4MATIC',\n",
       " 'C350 Luxury',\n",
       " 'C350 Luxury 4MATIC',\n",
       " 'C350 Sport',\n",
       " 'C400 Sport 4MATIC',\n",
       " 'C55 AMG',\n",
       " 'C63 AMG',\n",
       " 'CDX',\n",
       " 'CE',\n",
       " 'CE 7-Passenger',\n",
       " 'CL500',\n",
       " 'CL55 AMG',\n",
       " 'CL550',\n",
       " 'CL550 4MATIC',\n",
       " 'CL600',\n",
       " 'CL63 AMG',\n",
       " 'CL65 AMG',\n",
       " 'CLA250',\n",
       " 'CLA250 4MATIC',\n",
       " 'CLA45 AMG',\n",
       " 'CLK320',\n",
       " 'CLK350',\n",
       " 'CLK430',\n",
       " 'CLK500',\n",
       " 'CLK55 AMG',\n",
       " 'CLK550',\n",
       " 'CLK63 AMG',\n",
       " 'CLS500',\n",
       " 'CLS55 AMG',\n",
       " 'CLS550',\n",
       " 'CLS550 4MATIC',\n",
       " 'CLS63 AMG',\n",
       " 'CLS63 AMG 4MATIC S-Model',\n",
       " 'CX',\n",
       " 'CXL',\n",
       " 'CXL Plus',\n",
       " 'CXL Premium',\n",
       " 'CXL Turbo',\n",
       " 'CXL1',\n",
       " 'CXL2',\n",
       " 'CXS',\n",
       " 'Cambiocorsa',\n",
       " 'Cargo',\n",
       " 'Cargo Van XL',\n",
       " 'Cargo Van XL LWB',\n",
       " 'Cargo Van XLT',\n",
       " 'Cargo Van XLT LWB',\n",
       " 'Carrera',\n",
       " 'Carrera 4',\n",
       " 'Carrera 4 GTS',\n",
       " 'Carrera 4S',\n",
       " 'Carrera Black Edition',\n",
       " 'Carrera S',\n",
       " 'Carrera S (Midyear Redesign)',\n",
       " 'Cartier',\n",
       " 'Cheyenne',\n",
       " 'Choice',\n",
       " 'Cinco',\n",
       " 'Citadel',\n",
       " 'Classic',\n",
       " 'Cloth',\n",
       " 'Club',\n",
       " 'Comfort',\n",
       " 'Concours',\n",
       " 'Convenience',\n",
       " 'Convenience Group',\n",
       " 'Convenience Group 2',\n",
       " 'Country',\n",
       " 'Crew',\n",
       " 'Crossover',\n",
       " 'Crossroad',\n",
       " 'Custom',\n",
       " \"D'elegance\",\n",
       " 'DE',\n",
       " 'DHS',\n",
       " 'DTS',\n",
       " 'DX',\n",
       " 'DX V6',\n",
       " 'DX-V6',\n",
       " 'DX-VP',\n",
       " 'Dark Flint Edition',\n",
       " 'Deluxe',\n",
       " 'Denali',\n",
       " 'Detonator',\n",
       " 'Diamond Edition',\n",
       " 'Diesel',\n",
       " \"Driver's Edition PZEV\",\n",
       " 'Duro Cross V6',\n",
       " 'Duro Cross V8',\n",
       " 'Dynamic Premium',\n",
       " 'E-150',\n",
       " 'E-150 XL',\n",
       " 'E-150 XLT',\n",
       " 'E-250',\n",
       " 'E-350 Super Duty',\n",
       " 'E-350 Super Duty Chateau',\n",
       " 'E-350 Super Duty XL',\n",
       " 'E-350 Super Duty XLT',\n",
       " 'E250 Luxury BlueTEC 4MATIC',\n",
       " 'E250 Sport BlueTEC',\n",
       " 'E300D',\n",
       " 'E320',\n",
       " 'E320 4MATIC',\n",
       " 'E320 BLUETEC',\n",
       " 'E320 BlueTEC',\n",
       " 'E320 CDI',\n",
       " 'E350',\n",
       " 'E350 4MATIC',\n",
       " 'E350 BlueTEC',\n",
       " 'E350 Luxury',\n",
       " 'E350 Luxury 4MATIC',\n",
       " 'E350 Sport',\n",
       " 'E350 Sport 4MATIC',\n",
       " 'E350 Sport BlueTEC',\n",
       " 'E400 Hybrid',\n",
       " 'E400 Sport Hybrid',\n",
       " 'E420',\n",
       " 'E430',\n",
       " 'E430 4MATIC',\n",
       " 'E500',\n",
       " 'E500 4MATIC',\n",
       " 'E55 AMG',\n",
       " 'E550',\n",
       " 'E550 4MATIC',\n",
       " 'E550 Sport 4MATIC',\n",
       " 'E63 AMG',\n",
       " 'E63 AMG 4MATIC',\n",
       " 'E63 AMG 4MATIC S-Model',\n",
       " 'EDGE',\n",
       " 'EL King Ranch',\n",
       " 'EL Limited',\n",
       " 'EL SSV Fleet',\n",
       " 'EL XL',\n",
       " 'EL XLT',\n",
       " 'ES',\n",
       " 'ES V6',\n",
       " 'ES-Sport',\n",
       " 'ES-V6',\n",
       " 'ESC',\n",
       " 'ETC',\n",
       " 'EWB',\n",
       " 'EX',\n",
       " 'EX Hybrid',\n",
       " 'EX PZEV',\n",
       " 'EX Special Edition',\n",
       " 'EX Turbo',\n",
       " 'EX V-6',\n",
       " 'EX V6',\n",
       " 'EX-L',\n",
       " 'EX-L V-6',\n",
       " 'EX-L V-6 w/Navigation',\n",
       " 'EX-L w/Navigation',\n",
       " 'EX-L w/Rear Entertainment',\n",
       " 'EX-P',\n",
       " 'EX35',\n",
       " 'EX35 Journey',\n",
       " 'EX37',\n",
       " 'EXT LT',\n",
       " 'Easy',\n",
       " 'Ebony Edition',\n",
       " 'Eco',\n",
       " 'Eco-Sport',\n",
       " 'EcoBoost',\n",
       " 'Econoline',\n",
       " 'Eddie Bauer',\n",
       " 'Edge',\n",
       " 'Edge Plus',\n",
       " 'Edition 30 PZEV',\n",
       " 'Electric',\n",
       " 'Enthusiast',\n",
       " 'Estate',\n",
       " 'Executive',\n",
       " 'Executive GT DuoSelect',\n",
       " 'Executive L Fleet',\n",
       " 'Executive PZEV',\n",
       " 'Executive SULEV',\n",
       " 'Express',\n",
       " 'Expresso',\n",
       " 'F Sport',\n",
       " 'FE+ S',\n",
       " 'FE+ SV',\n",
       " 'FX2',\n",
       " 'FX35',\n",
       " 'FX37',\n",
       " 'FX4',\n",
       " 'FX4 Level II',\n",
       " 'FX4 Off-Road',\n",
       " 'FX50',\n",
       " 'Family Value',\n",
       " 'Five',\n",
       " 'Fleet',\n",
       " 'Formula',\n",
       " 'Forte5 EX',\n",
       " 'Freedom Edition',\n",
       " 'G',\n",
       " 'G1500',\n",
       " 'G25',\n",
       " 'G25 Journey',\n",
       " 'G25x',\n",
       " 'G3500',\n",
       " 'G37',\n",
       " 'G37 Journey',\n",
       " 'G37 Sport',\n",
       " 'G37x',\n",
       " 'G500',\n",
       " 'G55 AMG',\n",
       " 'G550',\n",
       " 'G63 AMG',\n",
       " 'GL',\n",
       " 'GL (1999.5)',\n",
       " 'GL 1.8T',\n",
       " 'GL PZEV',\n",
       " 'GL TDI',\n",
       " 'GL V6',\n",
       " 'GL1',\n",
       " 'GL2',\n",
       " 'GL320 BlueTEC',\n",
       " 'GL320 CDI',\n",
       " 'GL350 BlueTEC',\n",
       " 'GL350 BlueTEC 4MATIC',\n",
       " 'GL4',\n",
       " 'GL450',\n",
       " 'GL450 4MATIC',\n",
       " 'GL550',\n",
       " 'GL550 4MATIC',\n",
       " 'GL63 AMG',\n",
       " 'GLA250 4MATIC',\n",
       " 'GLE',\n",
       " 'GLI',\n",
       " 'GLI 1.8T',\n",
       " 'GLI VR6',\n",
       " 'GLK250 BlueTEC 4MATIC',\n",
       " 'GLK350',\n",
       " 'GLK350 4MATIC',\n",
       " 'GLS',\n",
       " 'GLS (1999.5)',\n",
       " 'GLS 1.8T',\n",
       " 'GLS 1.8T 4Motion',\n",
       " 'GLS PZEV',\n",
       " 'GLS Special Value',\n",
       " 'GLS TDI',\n",
       " 'GLS V6',\n",
       " 'GLS V6 4Motion',\n",
       " 'GLS VR6',\n",
       " 'GLS VR6 (1999.5)',\n",
       " 'GLS Wolfsburg Edition 1.8T',\n",
       " 'GLT',\n",
       " 'GLT SE',\n",
       " 'GLTS',\n",
       " 'GLX',\n",
       " 'GLX 1.8T',\n",
       " 'GLX 4Motion',\n",
       " 'GLX Sport',\n",
       " 'GLX V6',\n",
       " 'GLX V6 4Motion',\n",
       " 'GLX VR6',\n",
       " 'GLX VR6 (1999.5)',\n",
       " 'GS',\n",
       " 'GS Convenience',\n",
       " 'GS PZEV',\n",
       " 'GS Plus',\n",
       " 'GS-R',\n",
       " 'GS-Sport',\n",
       " 'GSR',\n",
       " 'GSX',\n",
       " 'GT',\n",
       " 'GT Deluxe',\n",
       " 'GT Limited',\n",
       " 'GT Limited Edition',\n",
       " 'GT Premium',\n",
       " 'GT SULEV',\n",
       " 'GT-S',\n",
       " 'GT1',\n",
       " 'GT2',\n",
       " 'GTC',\n",
       " 'GTP',\n",
       " 'GTS',\n",
       " 'GTS V6',\n",
       " 'GTZ',\n",
       " 'GTZ V6',\n",
       " 'GX',\n",
       " 'GXE',\n",
       " 'GXP',\n",
       " 'Gran Sport',\n",
       " 'Grand Sport',\n",
       " 'Grand Touring',\n",
       " 'Green Line',\n",
       " 'H6-3.0 35th Anniversary Edition',\n",
       " 'H6-3.0 L.L. Bean Edition',\n",
       " 'H6-3.0 VDC',\n",
       " 'HD',\n",
       " 'HD LS',\n",
       " 'HD SLT',\n",
       " 'HD XLT',\n",
       " 'HEV',\n",
       " 'HF',\n",
       " 'HPT',\n",
       " 'HSE',\n",
       " 'HSE LUX',\n",
       " 'HT',\n",
       " 'HX',\n",
       " 'Hardtop',\n",
       " 'Harley-Davidson',\n",
       " 'Heat',\n",
       " 'Hero',\n",
       " 'High Altitude Edition',\n",
       " 'High Country',\n",
       " 'Highline',\n",
       " 'Hybrid',\n",
       " 'Hybrid PZEV',\n",
       " 'Hybrid PZEV w/Leather and Navigation',\n",
       " 'Hybrid Premium',\n",
       " 'Hybrid Sport',\n",
       " 'Hybrid Touring',\n",
       " 'Hybrid w/Leather',\n",
       " 'Hybrid w/Technology Package',\n",
       " 'I',\n",
       " 'I4',\n",
       " 'II',\n",
       " 'III',\n",
       " 'IPL',\n",
       " 'IV',\n",
       " 'IX',\n",
       " 'JLS',\n",
       " 'JLX',\n",
       " 'JX',\n",
       " 'JX35',\n",
       " 'JXi',\n",
       " 'John Cooper Works',\n",
       " 'John Cooper Works ALL4',\n",
       " 'Journey',\n",
       " 'King Ranch',\n",
       " 'Komfort',\n",
       " 'Komfort PZEV',\n",
       " 'Komfort SULEV',\n",
       " 'Koup EX',\n",
       " 'Koup SX',\n",
       " 'L',\n",
       " 'L 3.0T quattro',\n",
       " 'L 35th Anniversary Edition',\n",
       " 'L 4.0T quattro',\n",
       " 'L 4.2 quattro',\n",
       " 'L 7-Passenger',\n",
       " 'L TDI quattro',\n",
       " 'L W12 6.3 quattro',\n",
       " 'L quattro',\n",
       " 'L.L. Bean Edition',\n",
       " 'L100',\n",
       " 'L200',\n",
       " 'L300',\n",
       " 'LE',\n",
       " 'LE 7-Passenger',\n",
       " 'LE 7-Passenger Mobility Auto Access',\n",
       " 'LE 8-Passenger',\n",
       " 'LE Eco',\n",
       " 'LE Plus',\n",
       " 'LE Popular Package',\n",
       " 'LE V6',\n",
       " 'LE V8',\n",
       " 'LPT',\n",
       " 'LS',\n",
       " 'LS 1500',\n",
       " 'LS 2500',\n",
       " 'LS 3500',\n",
       " 'LS 5 Passenger',\n",
       " 'LS 7 Passenger',\n",
       " 'LS Fleet',\n",
       " 'LS Premium',\n",
       " 'LS Sport',\n",
       " 'LS Ultimate',\n",
       " 'LS V6',\n",
       " 'LS1',\n",
       " 'LS2',\n",
       " 'LSC',\n",
       " 'LSE',\n",
       " 'LSi',\n",
       " 'LT',\n",
       " 'LT 1500',\n",
       " 'LT 2500',\n",
       " 'LT 3500',\n",
       " 'LT Eco',\n",
       " 'LT Entertainer',\n",
       " 'LT Fleet',\n",
       " 'LT1',\n",
       " 'LT2',\n",
       " 'LT2 XFE',\n",
       " 'LT3',\n",
       " 'LTZ',\n",
       " 'LTZ 1500',\n",
       " 'LTZ Fleet',\n",
       " 'LW2',\n",
       " 'LW200',\n",
       " 'LW300',\n",
       " 'LX',\n",
       " 'LX Family Value',\n",
       " ...]"
      ]
     },
     "execution_count": 36,
     "metadata": {},
     "output_type": "execute_result"
    }
   ],
   "source": [
    "# Count number of unique values \n",
    "num_unique_values = df_new['trim'].nunique()\n",
    "print(f'Number of unique values: {num_unique_values}')\n",
    "\n",
    "# Find out how many types exists for categorical column\n",
    "list(df_new['trim'].sort_values(ascending = True).unique())"
   ]
  },
  {
   "cell_type": "markdown",
   "metadata": {},
   "source": [
    "is `!` really a type of trim? Filter out those rows for additional insight"
   ]
  },
  {
   "cell_type": "code",
   "execution_count": 37,
   "metadata": {},
   "outputs": [
    {
     "data": {
      "text/html": [
       "<div>\n",
       "<style scoped>\n",
       "    .dataframe tbody tr th:only-of-type {\n",
       "        vertical-align: middle;\n",
       "    }\n",
       "\n",
       "    .dataframe tbody tr th {\n",
       "        vertical-align: top;\n",
       "    }\n",
       "\n",
       "    .dataframe thead th {\n",
       "        text-align: right;\n",
       "    }\n",
       "</style>\n",
       "<table border=\"1\" class=\"dataframe\">\n",
       "  <thead>\n",
       "    <tr style=\"text-align: right;\">\n",
       "      <th></th>\n",
       "      <th>year</th>\n",
       "      <th>make</th>\n",
       "      <th>model</th>\n",
       "      <th>trim</th>\n",
       "      <th>body</th>\n",
       "      <th>transmission</th>\n",
       "      <th>vin</th>\n",
       "      <th>state</th>\n",
       "      <th>condition</th>\n",
       "      <th>odometer</th>\n",
       "      <th>color</th>\n",
       "      <th>interior</th>\n",
       "      <th>seller</th>\n",
       "      <th>mmr</th>\n",
       "      <th>sellingprice</th>\n",
       "      <th>sale_weekday</th>\n",
       "      <th>sale_month</th>\n",
       "      <th>sale_day</th>\n",
       "      <th>sale_year</th>\n",
       "    </tr>\n",
       "  </thead>\n",
       "  <tbody>\n",
       "    <tr>\n",
       "      <th>2261</th>\n",
       "      <td>2011</td>\n",
       "      <td>kia</td>\n",
       "      <td>Soul</td>\n",
       "      <td>!</td>\n",
       "      <td>wagon</td>\n",
       "      <td>automatic</td>\n",
       "      <td>kndjt2a20b7339570</td>\n",
       "      <td>ca</td>\n",
       "      <td>42.0</td>\n",
       "      <td>52846.0</td>\n",
       "      <td>green</td>\n",
       "      <td>black</td>\n",
       "      <td>kia motors finance</td>\n",
       "      <td>9275.0</td>\n",
       "      <td>11000.0</td>\n",
       "      <td>Tue</td>\n",
       "      <td>Dec</td>\n",
       "      <td>16</td>\n",
       "      <td>2014</td>\n",
       "    </tr>\n",
       "    <tr>\n",
       "      <th>2342</th>\n",
       "      <td>2011</td>\n",
       "      <td>kia</td>\n",
       "      <td>Soul</td>\n",
       "      <td>!</td>\n",
       "      <td>wagon</td>\n",
       "      <td>automatic</td>\n",
       "      <td>kndjt2a23b7344049</td>\n",
       "      <td>ca</td>\n",
       "      <td>33.0</td>\n",
       "      <td>59460.0</td>\n",
       "      <td>gray</td>\n",
       "      <td>black</td>\n",
       "      <td>santander consumer</td>\n",
       "      <td>9375.0</td>\n",
       "      <td>10000.0</td>\n",
       "      <td>Thu</td>\n",
       "      <td>Jan</td>\n",
       "      <td>08</td>\n",
       "      <td>2015</td>\n",
       "    </tr>\n",
       "    <tr>\n",
       "      <th>2746</th>\n",
       "      <td>2010</td>\n",
       "      <td>kia</td>\n",
       "      <td>Soul</td>\n",
       "      <td>!</td>\n",
       "      <td>wagon</td>\n",
       "      <td>NaN</td>\n",
       "      <td>kndjt2a20a7188597</td>\n",
       "      <td>ca</td>\n",
       "      <td>27.0</td>\n",
       "      <td>81113.0</td>\n",
       "      <td>green</td>\n",
       "      <td>black</td>\n",
       "      <td>primeritus remarketing/bank of hawaii</td>\n",
       "      <td>7750.0</td>\n",
       "      <td>7600.0</td>\n",
       "      <td>Wed</td>\n",
       "      <td>Dec</td>\n",
       "      <td>17</td>\n",
       "      <td>2014</td>\n",
       "    </tr>\n",
       "    <tr>\n",
       "      <th>2780</th>\n",
       "      <td>2010</td>\n",
       "      <td>kia</td>\n",
       "      <td>Soul</td>\n",
       "      <td>!</td>\n",
       "      <td>wagon</td>\n",
       "      <td>automatic</td>\n",
       "      <td>kndjt2a20a7702464</td>\n",
       "      <td>ca</td>\n",
       "      <td>21.0</td>\n",
       "      <td>99273.0</td>\n",
       "      <td>white</td>\n",
       "      <td>black</td>\n",
       "      <td>first investors servicing corp</td>\n",
       "      <td>6800.0</td>\n",
       "      <td>7300.0</td>\n",
       "      <td>Tue</td>\n",
       "      <td>Dec</td>\n",
       "      <td>16</td>\n",
       "      <td>2014</td>\n",
       "    </tr>\n",
       "    <tr>\n",
       "      <th>6696</th>\n",
       "      <td>2011</td>\n",
       "      <td>kia</td>\n",
       "      <td>Soul</td>\n",
       "      <td>!</td>\n",
       "      <td>wagon</td>\n",
       "      <td>automatic</td>\n",
       "      <td>kndjt2a27b7246206</td>\n",
       "      <td>ca</td>\n",
       "      <td>34.0</td>\n",
       "      <td>58744.0</td>\n",
       "      <td>orange</td>\n",
       "      <td>black</td>\n",
       "      <td>dtg operations inc</td>\n",
       "      <td>9125.0</td>\n",
       "      <td>8900.0</td>\n",
       "      <td>Thu</td>\n",
       "      <td>Dec</td>\n",
       "      <td>18</td>\n",
       "      <td>2014</td>\n",
       "    </tr>\n",
       "  </tbody>\n",
       "</table>\n",
       "</div>"
      ],
      "text/plain": [
       "      year make model trim   body transmission                vin state  \\\n",
       "2261  2011  kia  Soul    !  wagon    automatic  kndjt2a20b7339570    ca   \n",
       "2342  2011  kia  Soul    !  wagon    automatic  kndjt2a23b7344049    ca   \n",
       "2746  2010  kia  Soul    !  wagon          NaN  kndjt2a20a7188597    ca   \n",
       "2780  2010  kia  Soul    !  wagon    automatic  kndjt2a20a7702464    ca   \n",
       "6696  2011  kia  Soul    !  wagon    automatic  kndjt2a27b7246206    ca   \n",
       "\n",
       "      condition odometer   color interior  \\\n",
       "2261       42.0  52846.0   green    black   \n",
       "2342       33.0  59460.0    gray    black   \n",
       "2746       27.0  81113.0   green    black   \n",
       "2780       21.0  99273.0   white    black   \n",
       "6696       34.0  58744.0  orange    black   \n",
       "\n",
       "                                     seller     mmr sellingprice sale_weekday  \\\n",
       "2261                     kia motors finance  9275.0      11000.0          Tue   \n",
       "2342                     santander consumer  9375.0      10000.0          Thu   \n",
       "2746  primeritus remarketing/bank of hawaii  7750.0       7600.0          Wed   \n",
       "2780         first investors servicing corp  6800.0       7300.0          Tue   \n",
       "6696                     dtg operations inc  9125.0       8900.0          Thu   \n",
       "\n",
       "     sale_month sale_day sale_year  \n",
       "2261        Dec       16      2014  \n",
       "2342        Jan       08      2015  \n",
       "2746        Dec       17      2014  \n",
       "2780        Dec       16      2014  \n",
       "6696        Dec       18      2014  "
      ]
     },
     "execution_count": 37,
     "metadata": {},
     "output_type": "execute_result"
    }
   ],
   "source": [
    "mask_trim = df_new.loc[df_new['trim'] == '!']\n",
    "mask_trim.head()"
   ]
  },
  {
   "cell_type": "markdown",
   "metadata": {},
   "source": [
    "looks like all of these rows are Kia Soul cars, let's confirm"
   ]
  },
  {
   "cell_type": "code",
   "execution_count": 38,
   "metadata": {},
   "outputs": [
    {
     "data": {
      "text/plain": [
       "(463, 19)"
      ]
     },
     "execution_count": 38,
     "metadata": {},
     "output_type": "execute_result"
    }
   ],
   "source": [
    "mask_trim.shape"
   ]
  },
  {
   "cell_type": "code",
   "execution_count": 39,
   "metadata": {},
   "outputs": [
    {
     "data": {
      "text/plain": [
       "(463, 19)"
      ]
     },
     "execution_count": 39,
     "metadata": {},
     "output_type": "execute_result"
    }
   ],
   "source": [
    "# filter mask_trim to get a count of all rows that have trim = ! and model = Soul \n",
    "df_new.loc[(df_new['trim'] == '!') & (df_new['model'] == 'Soul')].shape"
   ]
  },
  {
   "cell_type": "markdown",
   "metadata": {},
   "source": [
    "Since the number of rows matches, all rows where trim equals ! are for Kia Soul.\n",
    "\n",
    "A goole search shows this is a possible trim description for the Kia Soul. Therefore, it is correct and not an error"
   ]
  },
  {
   "cell_type": "markdown",
   "metadata": {},
   "source": [
    "# Data Cleaning"
   ]
  },
  {
   "cell_type": "markdown",
   "metadata": {},
   "source": [
    "### Missing Values"
   ]
  },
  {
   "cell_type": "code",
   "execution_count": 40,
   "metadata": {},
   "outputs": [
    {
     "name": "stdout",
     "output_type": "stream",
     "text": [
      "Total count of missing values: 165278\n",
      "Total % of missing values: 1.29%\n",
      "Missing values per column:\n"
     ]
    },
    {
     "data": {
      "text/plain": [
       "year                0\n",
       "make            10301\n",
       "model           10399\n",
       "trim            10651\n",
       "body            13195\n",
       "transmission    65356\n",
       "vin                 0\n",
       "state              26\n",
       "condition       11794\n",
       "odometer           94\n",
       "color           25435\n",
       "interior        17825\n",
       "seller             26\n",
       "mmr                12\n",
       "sellingprice       12\n",
       "sale_weekday       38\n",
       "sale_month         38\n",
       "sale_day           38\n",
       "sale_year          38\n",
       "dtype: int64"
      ]
     },
     "execution_count": 40,
     "metadata": {},
     "output_type": "execute_result"
    }
   ],
   "source": [
    "# Get a count of  missing values in dataframe\n",
    "sum_missing = df_new.isna().sum().sum()\n",
    "print('Total count of missing values:', sum_missing)\n",
    "\n",
    "percent_missing = 100*(df_new.isna().sum().sum())/df.size\n",
    "print(f'Total % of missing values: {percent_missing:.2f}%')\n",
    "\n",
    "# Display missing values per column in dataframe\n",
    "print('Missing values per column:')\n",
    "df_new.isna().sum()"
   ]
  },
  {
   "cell_type": "markdown",
   "metadata": {},
   "source": [
    "- transmission has the most NaN cells, most likely due to the date columns\n",
    "- 1.29% of cells are missing values.\n",
    "- make/models/trim can be inferred if we have 2 out of 3 values"
   ]
  },
  {
   "cell_type": "markdown",
   "metadata": {},
   "source": [
    "Fill in missing values for make/model/trim"
   ]
  },
  {
   "cell_type": "code",
   "execution_count": 41,
   "metadata": {},
   "outputs": [
    {
     "data": {
      "text/html": [
       "<div>\n",
       "<style scoped>\n",
       "    .dataframe tbody tr th:only-of-type {\n",
       "        vertical-align: middle;\n",
       "    }\n",
       "\n",
       "    .dataframe tbody tr th {\n",
       "        vertical-align: top;\n",
       "    }\n",
       "\n",
       "    .dataframe thead th {\n",
       "        text-align: right;\n",
       "    }\n",
       "</style>\n",
       "<table border=\"1\" class=\"dataframe\">\n",
       "  <thead>\n",
       "    <tr style=\"text-align: right;\">\n",
       "      <th></th>\n",
       "      <th>year</th>\n",
       "      <th>make</th>\n",
       "      <th>model</th>\n",
       "      <th>trim</th>\n",
       "      <th>body</th>\n",
       "      <th>transmission</th>\n",
       "      <th>vin</th>\n",
       "      <th>state</th>\n",
       "      <th>condition</th>\n",
       "      <th>odometer</th>\n",
       "      <th>color</th>\n",
       "      <th>interior</th>\n",
       "      <th>seller</th>\n",
       "      <th>mmr</th>\n",
       "      <th>sellingprice</th>\n",
       "      <th>sale_weekday</th>\n",
       "      <th>sale_month</th>\n",
       "      <th>sale_day</th>\n",
       "      <th>sale_year</th>\n",
       "    </tr>\n",
       "  </thead>\n",
       "  <tbody>\n",
       "    <tr>\n",
       "      <th>0</th>\n",
       "      <td>2015</td>\n",
       "      <td>kia</td>\n",
       "      <td>Sorento</td>\n",
       "      <td>LX</td>\n",
       "      <td>suv</td>\n",
       "      <td>automatic</td>\n",
       "      <td>5xyktca69fg566472</td>\n",
       "      <td>ca</td>\n",
       "      <td>5.0</td>\n",
       "      <td>16639.0</td>\n",
       "      <td>white</td>\n",
       "      <td>black</td>\n",
       "      <td>kia motors america  inc</td>\n",
       "      <td>20500.0</td>\n",
       "      <td>21500.0</td>\n",
       "      <td>Tue</td>\n",
       "      <td>Dec</td>\n",
       "      <td>16</td>\n",
       "      <td>2014</td>\n",
       "    </tr>\n",
       "    <tr>\n",
       "      <th>1</th>\n",
       "      <td>2015</td>\n",
       "      <td>kia</td>\n",
       "      <td>Sorento</td>\n",
       "      <td>LX</td>\n",
       "      <td>suv</td>\n",
       "      <td>automatic</td>\n",
       "      <td>5xyktca69fg561319</td>\n",
       "      <td>ca</td>\n",
       "      <td>5.0</td>\n",
       "      <td>9393.0</td>\n",
       "      <td>white</td>\n",
       "      <td>beige</td>\n",
       "      <td>kia motors america  inc</td>\n",
       "      <td>20800.0</td>\n",
       "      <td>21500.0</td>\n",
       "      <td>Tue</td>\n",
       "      <td>Dec</td>\n",
       "      <td>16</td>\n",
       "      <td>2014</td>\n",
       "    </tr>\n",
       "    <tr>\n",
       "      <th>2</th>\n",
       "      <td>2014</td>\n",
       "      <td>bmw</td>\n",
       "      <td>3 Series</td>\n",
       "      <td>328i SULEV</td>\n",
       "      <td>sedan</td>\n",
       "      <td>automatic</td>\n",
       "      <td>wba3c1c51ek116351</td>\n",
       "      <td>ca</td>\n",
       "      <td>45.0</td>\n",
       "      <td>1331.0</td>\n",
       "      <td>gray</td>\n",
       "      <td>black</td>\n",
       "      <td>financial services remarketing (lease)</td>\n",
       "      <td>31900.0</td>\n",
       "      <td>30000.0</td>\n",
       "      <td>Thu</td>\n",
       "      <td>Jan</td>\n",
       "      <td>15</td>\n",
       "      <td>2015</td>\n",
       "    </tr>\n",
       "    <tr>\n",
       "      <th>3</th>\n",
       "      <td>2015</td>\n",
       "      <td>volvo</td>\n",
       "      <td>S60</td>\n",
       "      <td>T5</td>\n",
       "      <td>sedan</td>\n",
       "      <td>automatic</td>\n",
       "      <td>yv1612tb4f1310987</td>\n",
       "      <td>ca</td>\n",
       "      <td>41.0</td>\n",
       "      <td>14282.0</td>\n",
       "      <td>white</td>\n",
       "      <td>black</td>\n",
       "      <td>volvo na rep/world omni</td>\n",
       "      <td>27500.0</td>\n",
       "      <td>27750.0</td>\n",
       "      <td>Thu</td>\n",
       "      <td>Jan</td>\n",
       "      <td>29</td>\n",
       "      <td>2015</td>\n",
       "    </tr>\n",
       "    <tr>\n",
       "      <th>4</th>\n",
       "      <td>2014</td>\n",
       "      <td>bmw</td>\n",
       "      <td>6 Series Gran Coupe</td>\n",
       "      <td>650i</td>\n",
       "      <td>sedan</td>\n",
       "      <td>automatic</td>\n",
       "      <td>wba6b2c57ed129731</td>\n",
       "      <td>ca</td>\n",
       "      <td>43.0</td>\n",
       "      <td>2641.0</td>\n",
       "      <td>gray</td>\n",
       "      <td>black</td>\n",
       "      <td>financial services remarketing (lease)</td>\n",
       "      <td>66000.0</td>\n",
       "      <td>67000.0</td>\n",
       "      <td>Thu</td>\n",
       "      <td>Dec</td>\n",
       "      <td>18</td>\n",
       "      <td>2014</td>\n",
       "    </tr>\n",
       "  </tbody>\n",
       "</table>\n",
       "</div>"
      ],
      "text/plain": [
       "   year   make                model        trim   body transmission  \\\n",
       "0  2015    kia              Sorento          LX    suv    automatic   \n",
       "1  2015    kia              Sorento          LX    suv    automatic   \n",
       "2  2014    bmw             3 Series  328i SULEV  sedan    automatic   \n",
       "3  2015  volvo                  S60          T5  sedan    automatic   \n",
       "4  2014    bmw  6 Series Gran Coupe        650i  sedan    automatic   \n",
       "\n",
       "                 vin state  condition odometer  color interior  \\\n",
       "0  5xyktca69fg566472    ca        5.0  16639.0  white    black   \n",
       "1  5xyktca69fg561319    ca        5.0   9393.0  white    beige   \n",
       "2  wba3c1c51ek116351    ca       45.0   1331.0   gray    black   \n",
       "3  yv1612tb4f1310987    ca       41.0  14282.0  white    black   \n",
       "4  wba6b2c57ed129731    ca       43.0   2641.0   gray    black   \n",
       "\n",
       "                                   seller      mmr sellingprice sale_weekday  \\\n",
       "0                 kia motors america  inc  20500.0      21500.0          Tue   \n",
       "1                 kia motors america  inc  20800.0      21500.0          Tue   \n",
       "2  financial services remarketing (lease)  31900.0      30000.0          Thu   \n",
       "3                 volvo na rep/world omni  27500.0      27750.0          Thu   \n",
       "4  financial services remarketing (lease)  66000.0      67000.0          Thu   \n",
       "\n",
       "  sale_month sale_day sale_year  \n",
       "0        Dec       16      2014  \n",
       "1        Dec       16      2014  \n",
       "2        Jan       15      2015  \n",
       "3        Jan       29      2015  \n",
       "4        Dec       18      2014  "
      ]
     },
     "execution_count": 41,
     "metadata": {},
     "output_type": "execute_result"
    }
   ],
   "source": [
    "df_clean = df_new.copy()\n",
    "df_clean.head()"
   ]
  },
  {
   "cell_type": "code",
   "execution_count": 42,
   "metadata": {},
   "outputs": [
    {
     "data": {
      "text/plain": [
       "(10301, 19)"
      ]
     },
     "execution_count": 42,
     "metadata": {},
     "output_type": "execute_result"
    }
   ],
   "source": [
    "# create a mask to see how many rows have no data for all 3 columns\n",
    "mask_nan = df_clean.loc[df_clean['make'].isnull() & df_clean['model'].isnull() & df_clean['trim'].isnull() ]\n",
    "mask_nan.shape"
   ]
  },
  {
   "cell_type": "markdown",
   "metadata": {},
   "source": [
    "- there are 10301 rows where all 3 `make`, `model`, `trim` are null\n",
    "- but there are several hundreds more null values in `model` and `trim`, let's check those rows"
   ]
  },
  {
   "cell_type": "code",
   "execution_count": 43,
   "metadata": {},
   "outputs": [
    {
     "name": "stdout",
     "output_type": "stream",
     "text": [
      "(0, 19)\n"
     ]
    },
    {
     "data": {
      "text/html": [
       "<div>\n",
       "<style scoped>\n",
       "    .dataframe tbody tr th:only-of-type {\n",
       "        vertical-align: middle;\n",
       "    }\n",
       "\n",
       "    .dataframe tbody tr th {\n",
       "        vertical-align: top;\n",
       "    }\n",
       "\n",
       "    .dataframe thead th {\n",
       "        text-align: right;\n",
       "    }\n",
       "</style>\n",
       "<table border=\"1\" class=\"dataframe\">\n",
       "  <thead>\n",
       "    <tr style=\"text-align: right;\">\n",
       "      <th></th>\n",
       "      <th>year</th>\n",
       "      <th>make</th>\n",
       "      <th>model</th>\n",
       "      <th>trim</th>\n",
       "      <th>body</th>\n",
       "      <th>transmission</th>\n",
       "      <th>vin</th>\n",
       "      <th>state</th>\n",
       "      <th>condition</th>\n",
       "      <th>odometer</th>\n",
       "      <th>color</th>\n",
       "      <th>interior</th>\n",
       "      <th>seller</th>\n",
       "      <th>mmr</th>\n",
       "      <th>sellingprice</th>\n",
       "      <th>sale_weekday</th>\n",
       "      <th>sale_month</th>\n",
       "      <th>sale_day</th>\n",
       "      <th>sale_year</th>\n",
       "    </tr>\n",
       "  </thead>\n",
       "  <tbody>\n",
       "  </tbody>\n",
       "</table>\n",
       "</div>"
      ],
      "text/plain": [
       "Empty DataFrame\n",
       "Columns: [year, make, model, trim, body, transmission, vin, state, condition, odometer, color, interior, seller, mmr, sellingprice, sale_weekday, sale_month, sale_day, sale_year]\n",
       "Index: []"
      ]
     },
     "execution_count": 43,
     "metadata": {},
     "output_type": "execute_result"
    }
   ],
   "source": [
    "# create mask for rows where model and trim are not null\n",
    "mask_make_nan = df_clean.loc[df_clean['make'].isnull() & df_clean['model'].notnull() & df_clean['trim'].notnull() ]\n",
    "print(mask_make_nan.shape)\n",
    "mask_make_nan.head()"
   ]
  },
  {
   "cell_type": "markdown",
   "metadata": {},
   "source": [
    "- No rows where make is missing but model and trim are available\n",
    "\n",
    "Check rows where model is null but the others are not."
   ]
  },
  {
   "cell_type": "code",
   "execution_count": 44,
   "metadata": {},
   "outputs": [
    {
     "name": "stdout",
     "output_type": "stream",
     "text": [
      "(98, 19)\n"
     ]
    },
    {
     "data": {
      "text/html": [
       "<div>\n",
       "<style scoped>\n",
       "    .dataframe tbody tr th:only-of-type {\n",
       "        vertical-align: middle;\n",
       "    }\n",
       "\n",
       "    .dataframe tbody tr th {\n",
       "        vertical-align: top;\n",
       "    }\n",
       "\n",
       "    .dataframe thead th {\n",
       "        text-align: right;\n",
       "    }\n",
       "</style>\n",
       "<table border=\"1\" class=\"dataframe\">\n",
       "  <thead>\n",
       "    <tr style=\"text-align: right;\">\n",
       "      <th></th>\n",
       "      <th>year</th>\n",
       "      <th>make</th>\n",
       "      <th>model</th>\n",
       "      <th>trim</th>\n",
       "      <th>body</th>\n",
       "      <th>transmission</th>\n",
       "      <th>vin</th>\n",
       "      <th>state</th>\n",
       "      <th>condition</th>\n",
       "      <th>odometer</th>\n",
       "      <th>color</th>\n",
       "      <th>interior</th>\n",
       "      <th>seller</th>\n",
       "      <th>mmr</th>\n",
       "      <th>sellingprice</th>\n",
       "      <th>sale_weekday</th>\n",
       "      <th>sale_month</th>\n",
       "      <th>sale_day</th>\n",
       "      <th>sale_year</th>\n",
       "    </tr>\n",
       "  </thead>\n",
       "  <tbody>\n",
       "    <tr>\n",
       "      <th>72</th>\n",
       "      <td>2014</td>\n",
       "      <td>bmw</td>\n",
       "      <td>NaN</td>\n",
       "      <td>750Li</td>\n",
       "      <td>sedan</td>\n",
       "      <td>automatic</td>\n",
       "      <td>wbaye8c59ed134514</td>\n",
       "      <td>ca</td>\n",
       "      <td>43.0</td>\n",
       "      <td>12172.0</td>\n",
       "      <td>black</td>\n",
       "      <td>black</td>\n",
       "      <td>financial services remarketing (lease)</td>\n",
       "      <td>67000.0</td>\n",
       "      <td>66000.0</td>\n",
       "      <td>Thu</td>\n",
       "      <td>Dec</td>\n",
       "      <td>18</td>\n",
       "      <td>2014</td>\n",
       "    </tr>\n",
       "    <tr>\n",
       "      <th>31262</th>\n",
       "      <td>2014</td>\n",
       "      <td>bmw</td>\n",
       "      <td>NaN</td>\n",
       "      <td>750i</td>\n",
       "      <td>sedan</td>\n",
       "      <td>automatic</td>\n",
       "      <td>wbaya8c52ed825069</td>\n",
       "      <td>ga</td>\n",
       "      <td>44.0</td>\n",
       "      <td>4488.0</td>\n",
       "      <td>silver</td>\n",
       "      <td>black</td>\n",
       "      <td>global imports</td>\n",
       "      <td>67000.0</td>\n",
       "      <td>64200.0</td>\n",
       "      <td>Thu</td>\n",
       "      <td>Dec</td>\n",
       "      <td>18</td>\n",
       "      <td>2014</td>\n",
       "    </tr>\n",
       "    <tr>\n",
       "      <th>61951</th>\n",
       "      <td>2014</td>\n",
       "      <td>bmw</td>\n",
       "      <td>NaN</td>\n",
       "      <td>750Li xDrive</td>\n",
       "      <td>sedan</td>\n",
       "      <td>automatic</td>\n",
       "      <td>wbayf8c57ed653381</td>\n",
       "      <td>oh</td>\n",
       "      <td>48.0</td>\n",
       "      <td>387.0</td>\n",
       "      <td>black</td>\n",
       "      <td>black</td>\n",
       "      <td>bmw na manheim new jersey</td>\n",
       "      <td>72000.0</td>\n",
       "      <td>72500.0</td>\n",
       "      <td>Tue</td>\n",
       "      <td>Dec</td>\n",
       "      <td>30</td>\n",
       "      <td>2014</td>\n",
       "    </tr>\n",
       "    <tr>\n",
       "      <th>61955</th>\n",
       "      <td>2014</td>\n",
       "      <td>bmw</td>\n",
       "      <td>NaN</td>\n",
       "      <td>750Li xDrive</td>\n",
       "      <td>sedan</td>\n",
       "      <td>automatic</td>\n",
       "      <td>wbayf8c51ed142328</td>\n",
       "      <td>oh</td>\n",
       "      <td>46.0</td>\n",
       "      <td>414.0</td>\n",
       "      <td>white</td>\n",
       "      <td>NaN</td>\n",
       "      <td>bmw na manheim new jersey</td>\n",
       "      <td>72000.0</td>\n",
       "      <td>68500.0</td>\n",
       "      <td>Tue</td>\n",
       "      <td>Dec</td>\n",
       "      <td>30</td>\n",
       "      <td>2014</td>\n",
       "    </tr>\n",
       "    <tr>\n",
       "      <th>61956</th>\n",
       "      <td>2014</td>\n",
       "      <td>bmw</td>\n",
       "      <td>NaN</td>\n",
       "      <td>750i</td>\n",
       "      <td>sedan</td>\n",
       "      <td>automatic</td>\n",
       "      <td>wbaya8c55ed228269</td>\n",
       "      <td>oh</td>\n",
       "      <td>48.0</td>\n",
       "      <td>4796.0</td>\n",
       "      <td>NaN</td>\n",
       "      <td>NaN</td>\n",
       "      <td>bmw north america raa</td>\n",
       "      <td>66000.0</td>\n",
       "      <td>75000.0</td>\n",
       "      <td>Tue</td>\n",
       "      <td>Dec</td>\n",
       "      <td>30</td>\n",
       "      <td>2014</td>\n",
       "    </tr>\n",
       "  </tbody>\n",
       "</table>\n",
       "</div>"
      ],
      "text/plain": [
       "       year make model          trim   body transmission                vin  \\\n",
       "72     2014  bmw   NaN         750Li  sedan    automatic  wbaye8c59ed134514   \n",
       "31262  2014  bmw   NaN          750i  sedan    automatic  wbaya8c52ed825069   \n",
       "61951  2014  bmw   NaN  750Li xDrive  sedan    automatic  wbayf8c57ed653381   \n",
       "61955  2014  bmw   NaN  750Li xDrive  sedan    automatic  wbayf8c51ed142328   \n",
       "61956  2014  bmw   NaN          750i  sedan    automatic  wbaya8c55ed228269   \n",
       "\n",
       "      state  condition odometer   color interior  \\\n",
       "72       ca       43.0  12172.0   black    black   \n",
       "31262    ga       44.0   4488.0  silver    black   \n",
       "61951    oh       48.0    387.0   black    black   \n",
       "61955    oh       46.0    414.0   white      NaN   \n",
       "61956    oh       48.0   4796.0     NaN      NaN   \n",
       "\n",
       "                                       seller      mmr sellingprice  \\\n",
       "72     financial services remarketing (lease)  67000.0      66000.0   \n",
       "31262                          global imports  67000.0      64200.0   \n",
       "61951               bmw na manheim new jersey  72000.0      72500.0   \n",
       "61955               bmw na manheim new jersey  72000.0      68500.0   \n",
       "61956                   bmw north america raa  66000.0      75000.0   \n",
       "\n",
       "      sale_weekday sale_month sale_day sale_year  \n",
       "72             Thu        Dec       18      2014  \n",
       "31262          Thu        Dec       18      2014  \n",
       "61951          Tue        Dec       30      2014  \n",
       "61955          Tue        Dec       30      2014  \n",
       "61956          Tue        Dec       30      2014  "
      ]
     },
     "execution_count": 44,
     "metadata": {},
     "output_type": "execute_result"
    }
   ],
   "source": [
    "mask_model_nan = df_clean.loc[df_clean['make'].notnull() & df_clean['model'].isnull() & df_clean['trim'].notnull() ]\n",
    "print(mask_model_nan.shape)\n",
    "mask_model_nan.head()"
   ]
  },
  {
   "cell_type": "code",
   "execution_count": 45,
   "metadata": {},
   "outputs": [
    {
     "name": "stdout",
     "output_type": "stream",
     "text": [
      "['bmw' 'audi']\n",
      "['750Li' '750i' '750Li xDrive' '2.0 TFSI Premium quattro' '750i xDrive'\n",
      " '650i xDrive']\n"
     ]
    }
   ],
   "source": [
    "# find unique make from this mask\n",
    "print(mask_model_nan['make'].unique())\n",
    "print(mask_model_nan['trim'].unique())"
   ]
  },
  {
   "cell_type": "code",
   "execution_count": 46,
   "metadata": {},
   "outputs": [
    {
     "data": {
      "text/html": [
       "<div>\n",
       "<style scoped>\n",
       "    .dataframe tbody tr th:only-of-type {\n",
       "        vertical-align: middle;\n",
       "    }\n",
       "\n",
       "    .dataframe tbody tr th {\n",
       "        vertical-align: top;\n",
       "    }\n",
       "\n",
       "    .dataframe thead th {\n",
       "        text-align: right;\n",
       "    }\n",
       "</style>\n",
       "<table border=\"1\" class=\"dataframe\">\n",
       "  <thead>\n",
       "    <tr style=\"text-align: right;\">\n",
       "      <th></th>\n",
       "      <th>year</th>\n",
       "      <th>make</th>\n",
       "      <th>model</th>\n",
       "      <th>trim</th>\n",
       "      <th>body</th>\n",
       "      <th>transmission</th>\n",
       "      <th>vin</th>\n",
       "      <th>state</th>\n",
       "      <th>condition</th>\n",
       "      <th>odometer</th>\n",
       "      <th>color</th>\n",
       "      <th>interior</th>\n",
       "      <th>seller</th>\n",
       "      <th>mmr</th>\n",
       "      <th>sellingprice</th>\n",
       "      <th>sale_weekday</th>\n",
       "      <th>sale_month</th>\n",
       "      <th>sale_day</th>\n",
       "      <th>sale_year</th>\n",
       "    </tr>\n",
       "  </thead>\n",
       "  <tbody>\n",
       "    <tr>\n",
       "      <th>72</th>\n",
       "      <td>2014</td>\n",
       "      <td>bmw</td>\n",
       "      <td>NaN</td>\n",
       "      <td>750Li</td>\n",
       "      <td>sedan</td>\n",
       "      <td>automatic</td>\n",
       "      <td>wbaye8c59ed134514</td>\n",
       "      <td>ca</td>\n",
       "      <td>43.0</td>\n",
       "      <td>12172.0</td>\n",
       "      <td>black</td>\n",
       "      <td>black</td>\n",
       "      <td>financial services remarketing (lease)</td>\n",
       "      <td>67000.0</td>\n",
       "      <td>66000.0</td>\n",
       "      <td>Thu</td>\n",
       "      <td>Dec</td>\n",
       "      <td>18</td>\n",
       "      <td>2014</td>\n",
       "    </tr>\n",
       "    <tr>\n",
       "      <th>31262</th>\n",
       "      <td>2014</td>\n",
       "      <td>bmw</td>\n",
       "      <td>NaN</td>\n",
       "      <td>750i</td>\n",
       "      <td>sedan</td>\n",
       "      <td>automatic</td>\n",
       "      <td>wbaya8c52ed825069</td>\n",
       "      <td>ga</td>\n",
       "      <td>44.0</td>\n",
       "      <td>4488.0</td>\n",
       "      <td>silver</td>\n",
       "      <td>black</td>\n",
       "      <td>global imports</td>\n",
       "      <td>67000.0</td>\n",
       "      <td>64200.0</td>\n",
       "      <td>Thu</td>\n",
       "      <td>Dec</td>\n",
       "      <td>18</td>\n",
       "      <td>2014</td>\n",
       "    </tr>\n",
       "    <tr>\n",
       "      <th>61951</th>\n",
       "      <td>2014</td>\n",
       "      <td>bmw</td>\n",
       "      <td>NaN</td>\n",
       "      <td>750Li xDrive</td>\n",
       "      <td>sedan</td>\n",
       "      <td>automatic</td>\n",
       "      <td>wbayf8c57ed653381</td>\n",
       "      <td>oh</td>\n",
       "      <td>48.0</td>\n",
       "      <td>387.0</td>\n",
       "      <td>black</td>\n",
       "      <td>black</td>\n",
       "      <td>bmw na manheim new jersey</td>\n",
       "      <td>72000.0</td>\n",
       "      <td>72500.0</td>\n",
       "      <td>Tue</td>\n",
       "      <td>Dec</td>\n",
       "      <td>30</td>\n",
       "      <td>2014</td>\n",
       "    </tr>\n",
       "    <tr>\n",
       "      <th>61955</th>\n",
       "      <td>2014</td>\n",
       "      <td>bmw</td>\n",
       "      <td>NaN</td>\n",
       "      <td>750Li xDrive</td>\n",
       "      <td>sedan</td>\n",
       "      <td>automatic</td>\n",
       "      <td>wbayf8c51ed142328</td>\n",
       "      <td>oh</td>\n",
       "      <td>46.0</td>\n",
       "      <td>414.0</td>\n",
       "      <td>white</td>\n",
       "      <td>NaN</td>\n",
       "      <td>bmw na manheim new jersey</td>\n",
       "      <td>72000.0</td>\n",
       "      <td>68500.0</td>\n",
       "      <td>Tue</td>\n",
       "      <td>Dec</td>\n",
       "      <td>30</td>\n",
       "      <td>2014</td>\n",
       "    </tr>\n",
       "    <tr>\n",
       "      <th>61956</th>\n",
       "      <td>2014</td>\n",
       "      <td>bmw</td>\n",
       "      <td>NaN</td>\n",
       "      <td>750i</td>\n",
       "      <td>sedan</td>\n",
       "      <td>automatic</td>\n",
       "      <td>wbaya8c55ed228269</td>\n",
       "      <td>oh</td>\n",
       "      <td>48.0</td>\n",
       "      <td>4796.0</td>\n",
       "      <td>NaN</td>\n",
       "      <td>NaN</td>\n",
       "      <td>bmw north america raa</td>\n",
       "      <td>66000.0</td>\n",
       "      <td>75000.0</td>\n",
       "      <td>Tue</td>\n",
       "      <td>Dec</td>\n",
       "      <td>30</td>\n",
       "      <td>2014</td>\n",
       "    </tr>\n",
       "    <tr>\n",
       "      <th>...</th>\n",
       "      <td>...</td>\n",
       "      <td>...</td>\n",
       "      <td>...</td>\n",
       "      <td>...</td>\n",
       "      <td>...</td>\n",
       "      <td>...</td>\n",
       "      <td>...</td>\n",
       "      <td>...</td>\n",
       "      <td>...</td>\n",
       "      <td>...</td>\n",
       "      <td>...</td>\n",
       "      <td>...</td>\n",
       "      <td>...</td>\n",
       "      <td>...</td>\n",
       "      <td>...</td>\n",
       "      <td>...</td>\n",
       "      <td>...</td>\n",
       "      <td>...</td>\n",
       "      <td>...</td>\n",
       "    </tr>\n",
       "    <tr>\n",
       "      <th>545433</th>\n",
       "      <td>2015</td>\n",
       "      <td>bmw</td>\n",
       "      <td>NaN</td>\n",
       "      <td>750Li xDrive</td>\n",
       "      <td>sedan</td>\n",
       "      <td>automatic</td>\n",
       "      <td>wbayf8c57fd653897</td>\n",
       "      <td>oh</td>\n",
       "      <td>43.0</td>\n",
       "      <td>14133.0</td>\n",
       "      <td>black</td>\n",
       "      <td>tan</td>\n",
       "      <td>bmw north america raa</td>\n",
       "      <td>80000.0</td>\n",
       "      <td>75000.0</td>\n",
       "      <td>Tue</td>\n",
       "      <td>Jun</td>\n",
       "      <td>16</td>\n",
       "      <td>2015</td>\n",
       "    </tr>\n",
       "    <tr>\n",
       "      <th>545442</th>\n",
       "      <td>2015</td>\n",
       "      <td>bmw</td>\n",
       "      <td>NaN</td>\n",
       "      <td>750i xDrive</td>\n",
       "      <td>sedan</td>\n",
       "      <td>automatic</td>\n",
       "      <td>wbayb6c53fd225258</td>\n",
       "      <td>oh</td>\n",
       "      <td>39.0</td>\n",
       "      <td>9090.0</td>\n",
       "      <td>black</td>\n",
       "      <td>tan</td>\n",
       "      <td>bmw north america raa</td>\n",
       "      <td>72000.0</td>\n",
       "      <td>61500.0</td>\n",
       "      <td>Tue</td>\n",
       "      <td>Jun</td>\n",
       "      <td>30</td>\n",
       "      <td>2015</td>\n",
       "    </tr>\n",
       "    <tr>\n",
       "      <th>546744</th>\n",
       "      <td>2014</td>\n",
       "      <td>bmw</td>\n",
       "      <td>NaN</td>\n",
       "      <td>750Li xDrive</td>\n",
       "      <td>sedan</td>\n",
       "      <td>automatic</td>\n",
       "      <td>wbayf8c50ed142059</td>\n",
       "      <td>oh</td>\n",
       "      <td>38.0</td>\n",
       "      <td>7394.0</td>\n",
       "      <td>black</td>\n",
       "      <td>black</td>\n",
       "      <td>bmw north america raa</td>\n",
       "      <td>60000.0</td>\n",
       "      <td>56000.0</td>\n",
       "      <td>Tue</td>\n",
       "      <td>Jun</td>\n",
       "      <td>16</td>\n",
       "      <td>2015</td>\n",
       "    </tr>\n",
       "    <tr>\n",
       "      <th>549010</th>\n",
       "      <td>2014</td>\n",
       "      <td>bmw</td>\n",
       "      <td>NaN</td>\n",
       "      <td>750Li xDrive</td>\n",
       "      <td>sedan</td>\n",
       "      <td>automatic</td>\n",
       "      <td>wbayf8c5xed142506</td>\n",
       "      <td>oh</td>\n",
       "      <td>44.0</td>\n",
       "      <td>943.0</td>\n",
       "      <td>blue</td>\n",
       "      <td>tan</td>\n",
       "      <td>bmw north america greer</td>\n",
       "      <td>64000.0</td>\n",
       "      <td>64500.0</td>\n",
       "      <td>Tue</td>\n",
       "      <td>Jun</td>\n",
       "      <td>16</td>\n",
       "      <td>2015</td>\n",
       "    </tr>\n",
       "    <tr>\n",
       "      <th>549011</th>\n",
       "      <td>2014</td>\n",
       "      <td>bmw</td>\n",
       "      <td>NaN</td>\n",
       "      <td>750Li</td>\n",
       "      <td>sedan</td>\n",
       "      <td>automatic</td>\n",
       "      <td>wbaye8c57ed780702</td>\n",
       "      <td>oh</td>\n",
       "      <td>4.0</td>\n",
       "      <td>12895.0</td>\n",
       "      <td>white</td>\n",
       "      <td>black</td>\n",
       "      <td>bmw north america greer</td>\n",
       "      <td>55200.0</td>\n",
       "      <td>57500.0</td>\n",
       "      <td>Tue</td>\n",
       "      <td>Jun</td>\n",
       "      <td>16</td>\n",
       "      <td>2015</td>\n",
       "    </tr>\n",
       "  </tbody>\n",
       "</table>\n",
       "<p>80 rows × 19 columns</p>\n",
       "</div>"
      ],
      "text/plain": [
       "        year make model          trim   body transmission                vin  \\\n",
       "72      2014  bmw   NaN         750Li  sedan    automatic  wbaye8c59ed134514   \n",
       "31262   2014  bmw   NaN          750i  sedan    automatic  wbaya8c52ed825069   \n",
       "61951   2014  bmw   NaN  750Li xDrive  sedan    automatic  wbayf8c57ed653381   \n",
       "61955   2014  bmw   NaN  750Li xDrive  sedan    automatic  wbayf8c51ed142328   \n",
       "61956   2014  bmw   NaN          750i  sedan    automatic  wbaya8c55ed228269   \n",
       "...      ...  ...   ...           ...    ...          ...                ...   \n",
       "545433  2015  bmw   NaN  750Li xDrive  sedan    automatic  wbayf8c57fd653897   \n",
       "545442  2015  bmw   NaN   750i xDrive  sedan    automatic  wbayb6c53fd225258   \n",
       "546744  2014  bmw   NaN  750Li xDrive  sedan    automatic  wbayf8c50ed142059   \n",
       "549010  2014  bmw   NaN  750Li xDrive  sedan    automatic  wbayf8c5xed142506   \n",
       "549011  2014  bmw   NaN         750Li  sedan    automatic  wbaye8c57ed780702   \n",
       "\n",
       "       state  condition odometer   color interior  \\\n",
       "72        ca       43.0  12172.0   black    black   \n",
       "31262     ga       44.0   4488.0  silver    black   \n",
       "61951     oh       48.0    387.0   black    black   \n",
       "61955     oh       46.0    414.0   white      NaN   \n",
       "61956     oh       48.0   4796.0     NaN      NaN   \n",
       "...      ...        ...      ...     ...      ...   \n",
       "545433    oh       43.0  14133.0   black      tan   \n",
       "545442    oh       39.0   9090.0   black      tan   \n",
       "546744    oh       38.0   7394.0   black    black   \n",
       "549010    oh       44.0    943.0    blue      tan   \n",
       "549011    oh        4.0  12895.0   white    black   \n",
       "\n",
       "                                        seller      mmr sellingprice  \\\n",
       "72      financial services remarketing (lease)  67000.0      66000.0   \n",
       "31262                           global imports  67000.0      64200.0   \n",
       "61951                bmw na manheim new jersey  72000.0      72500.0   \n",
       "61955                bmw na manheim new jersey  72000.0      68500.0   \n",
       "61956                    bmw north america raa  66000.0      75000.0   \n",
       "...                                        ...      ...          ...   \n",
       "545433                   bmw north america raa  80000.0      75000.0   \n",
       "545442                   bmw north america raa  72000.0      61500.0   \n",
       "546744                   bmw north america raa  60000.0      56000.0   \n",
       "549010                 bmw north america greer  64000.0      64500.0   \n",
       "549011                 bmw north america greer  55200.0      57500.0   \n",
       "\n",
       "       sale_weekday sale_month sale_day sale_year  \n",
       "72              Thu        Dec       18      2014  \n",
       "31262           Thu        Dec       18      2014  \n",
       "61951           Tue        Dec       30      2014  \n",
       "61955           Tue        Dec       30      2014  \n",
       "61956           Tue        Dec       30      2014  \n",
       "...             ...        ...      ...       ...  \n",
       "545433          Tue        Jun       16      2015  \n",
       "545442          Tue        Jun       30      2015  \n",
       "546744          Tue        Jun       16      2015  \n",
       "549010          Tue        Jun       16      2015  \n",
       "549011          Tue        Jun       16      2015  \n",
       "\n",
       "[80 rows x 19 columns]"
      ]
     },
     "execution_count": 46,
     "metadata": {},
     "output_type": "execute_result"
    }
   ],
   "source": [
    "# filter rows with these makes and trims\n",
    "mask_model_nan.loc[(df_clean['trim'] == '750Li') | (df_clean['trim'] == '750i') | (df_clean['trim'] == '750Li xDrive') | (df_clean['trim'] == '750i xDrive') & (df_clean['model'].isnull()) ]"
   ]
  },
  {
   "cell_type": "markdown",
   "metadata": {},
   "source": [
    "Models for these trim are found on google\n",
    "\n",
    "- '750Li' = '7 Series'\n",
    "- '750i'  = '7 Series'\n",
    "- '750Li xDrive' = '7 Series'\n",
    "- '2.0 TFSI Premium quattro'= Q3\n",
    "- '750i xDrive'= '7 Series'\n",
    "- '650i xDrive' = '6 Series'"
   ]
  },
  {
   "cell_type": "code",
   "execution_count": 47,
   "metadata": {},
   "outputs": [],
   "source": [
    "# Replace missing model values with correct model found on google\n",
    "df_clean['model'] = np.where((df_clean['trim'] =='750i') & (df_clean['model'].isnull()),'7 Series',df_clean['model'])\n",
    "df_clean['model'] = np.where((df_clean['trim'] =='750Li') & (df_clean['model'].isnull()),'7 Series',df_clean['model'])\n",
    "df_clean['model'] = np.where((df_clean['trim'] =='750Li xDrive') & (df_clean['model'].isnull()),'7 Series',df_clean['model'])\n",
    "df_clean['model'] = np.where((df_clean['trim'] =='750i xDrive') & (df_clean['model'].isnull()),'7 Series',df_clean['model'])\n",
    "df_clean['model'] = np.where((df_clean['trim'] =='650i xDrive') & (df_clean['model'].isnull()),'6 Series',df_clean['model'])\n",
    "df_clean['model'] = np.where((df_clean['trim'] =='2.0 TFSI Premium quattro') & (df_clean['model'].isnull()),'Q3',df_clean['model'])"
   ]
  },
  {
   "cell_type": "markdown",
   "metadata": {},
   "source": [
    "Validate changes\n"
   ]
  },
  {
   "cell_type": "code",
   "execution_count": 48,
   "metadata": {},
   "outputs": [
    {
     "data": {
      "text/plain": [
       "year                             2014\n",
       "make                              bmw\n",
       "model                        7 Series\n",
       "trim                             750i\n",
       "body                            sedan\n",
       "transmission                automatic\n",
       "vin                 wbaya8c55ed228269\n",
       "state                              oh\n",
       "condition                        48.0\n",
       "odometer                       4796.0\n",
       "color                             NaN\n",
       "interior                          NaN\n",
       "seller          bmw north america raa\n",
       "mmr                           66000.0\n",
       "sellingprice                  75000.0\n",
       "sale_weekday                      Tue\n",
       "sale_month                        Dec\n",
       "sale_day                           30\n",
       "sale_year                        2014\n",
       "Name: 61956, dtype: object"
      ]
     },
     "execution_count": 48,
     "metadata": {},
     "output_type": "execute_result"
    }
   ],
   "source": [
    "# Check row where model was nan previously\n",
    "df_clean.loc[61956]"
   ]
  },
  {
   "cell_type": "code",
   "execution_count": 49,
   "metadata": {},
   "outputs": [
    {
     "data": {
      "text/html": [
       "<div>\n",
       "<style scoped>\n",
       "    .dataframe tbody tr th:only-of-type {\n",
       "        vertical-align: middle;\n",
       "    }\n",
       "\n",
       "    .dataframe tbody tr th {\n",
       "        vertical-align: top;\n",
       "    }\n",
       "\n",
       "    .dataframe thead th {\n",
       "        text-align: right;\n",
       "    }\n",
       "</style>\n",
       "<table border=\"1\" class=\"dataframe\">\n",
       "  <thead>\n",
       "    <tr style=\"text-align: right;\">\n",
       "      <th></th>\n",
       "      <th>year</th>\n",
       "      <th>make</th>\n",
       "      <th>model</th>\n",
       "      <th>trim</th>\n",
       "      <th>body</th>\n",
       "      <th>transmission</th>\n",
       "      <th>vin</th>\n",
       "      <th>state</th>\n",
       "      <th>condition</th>\n",
       "      <th>odometer</th>\n",
       "      <th>color</th>\n",
       "      <th>interior</th>\n",
       "      <th>seller</th>\n",
       "      <th>mmr</th>\n",
       "      <th>sellingprice</th>\n",
       "      <th>sale_weekday</th>\n",
       "      <th>sale_month</th>\n",
       "      <th>sale_day</th>\n",
       "      <th>sale_year</th>\n",
       "    </tr>\n",
       "  </thead>\n",
       "  <tbody>\n",
       "  </tbody>\n",
       "</table>\n",
       "</div>"
      ],
      "text/plain": [
       "Empty DataFrame\n",
       "Columns: [year, make, model, trim, body, transmission, vin, state, condition, odometer, color, interior, seller, mmr, sellingprice, sale_weekday, sale_month, sale_day, sale_year]\n",
       "Index: []"
      ]
     },
     "execution_count": 49,
     "metadata": {},
     "output_type": "execute_result"
    }
   ],
   "source": [
    "# check is there's any rows with missing models where trim and make is available\n",
    "df_clean.loc[df_clean['make'].notnull() & df_clean['model'].isnull() & df_clean['trim'].notnull() ]"
   ]
  },
  {
   "cell_type": "code",
   "execution_count": 50,
   "metadata": {},
   "outputs": [
    {
     "name": "stdout",
     "output_type": "stream",
     "text": [
      "Missing values per column:\n"
     ]
    },
    {
     "data": {
      "text/plain": [
       "make     10301\n",
       "model    10301\n",
       "dtype: int64"
      ]
     },
     "execution_count": 50,
     "metadata": {},
     "output_type": "execute_result"
    }
   ],
   "source": [
    "# Display missing values per column in dataframe\n",
    "print('Missing values per column:')\n",
    "df_clean[['make','model']].isna().sum()"
   ]
  },
  {
   "cell_type": "markdown",
   "metadata": {},
   "source": [
    "- this confirm there's a decreased in missing values for model column\n",
    "- this is as much as we can replace. We cannot infer trim with existing model and make because there are too many options."
   ]
  },
  {
   "cell_type": "markdown",
   "metadata": {},
   "source": [
    "### Duplicates\n",
    "\n",
    "The duplicated() function will only return entire rows that have exactly matching values, not just individual matching values found within a column. "
   ]
  },
  {
   "cell_type": "code",
   "execution_count": 51,
   "metadata": {},
   "outputs": [
    {
     "name": "stdout",
     "output_type": "stream",
     "text": [
      "Shape of dataframe: (558837, 19)\n",
      "Shape of dataframe with duplicates dropped: (558837, 19)\n",
      "No. of rows with duplicates : 0\n"
     ]
    }
   ],
   "source": [
    "# Check for duplicates\n",
    "print('Shape of dataframe:', df_clean.shape)\n",
    "print('Shape of dataframe with duplicates dropped:', df_clean.drop_duplicates().shape)\n",
    "\n",
    "df_clean_row = len(df)\n",
    "df_clean_row_no_dupe = len(df.drop_duplicates())\n",
    "df_clean_row_dupe = df_clean_row - df_clean_row_no_dupe\n",
    "\n",
    "print('No. of rows with duplicates :', df_clean_row_dupe)"
   ]
  },
  {
   "cell_type": "markdown",
   "metadata": {},
   "source": [
    "- no duplicates in the df"
   ]
  },
  {
   "cell_type": "markdown",
   "metadata": {},
   "source": [
    "### Outliers"
   ]
  },
  {
   "cell_type": "markdown",
   "metadata": {},
   "source": [
    "#### Check datatype"
   ]
  },
  {
   "cell_type": "code",
   "execution_count": 52,
   "metadata": {},
   "outputs": [
    {
     "name": "stdout",
     "output_type": "stream",
     "text": [
      "<class 'pandas.core.frame.DataFrame'>\n",
      "Index: 558837 entries, 0 to 554710\n",
      "Data columns (total 19 columns):\n",
      " #   Column        Non-Null Count   Dtype  \n",
      "---  ------        --------------   -----  \n",
      " 0   year          558837 non-null  int64  \n",
      " 1   make          548536 non-null  object \n",
      " 2   model         548536 non-null  object \n",
      " 3   trim          548186 non-null  object \n",
      " 4   body          545642 non-null  object \n",
      " 5   transmission  493481 non-null  object \n",
      " 6   vin           558837 non-null  object \n",
      " 7   state         558811 non-null  object \n",
      " 8   condition     547043 non-null  float64\n",
      " 9   odometer      558743 non-null  object \n",
      " 10  color         533402 non-null  object \n",
      " 11  interior      541012 non-null  object \n",
      " 12  seller        558811 non-null  object \n",
      " 13  mmr           558825 non-null  float64\n",
      " 14  sellingprice  558825 non-null  object \n",
      " 15  sale_weekday  558799 non-null  object \n",
      " 16  sale_month    558799 non-null  object \n",
      " 17  sale_day      558799 non-null  object \n",
      " 18  sale_year     558799 non-null  object \n",
      "dtypes: float64(2), int64(1), object(16)\n",
      "memory usage: 101.4+ MB\n"
     ]
    }
   ],
   "source": [
    "df_clean.info()"
   ]
  },
  {
   "cell_type": "markdown",
   "metadata": {},
   "source": [
    "some numerical columns wer converted to object, it should be converted back to float to plot outliers"
   ]
  },
  {
   "cell_type": "markdown",
   "metadata": {},
   "source": [
    "**Convert to Float**"
   ]
  },
  {
   "cell_type": "code",
   "execution_count": 53,
   "metadata": {},
   "outputs": [],
   "source": [
    "### Convert Columns to Float\n",
    "df_clean = df_clean.copy()\n",
    "df_clean = df_clean.astype({'odometer': float,\n",
    "                  'sellingprice': float\n",
    "                  })"
   ]
  },
  {
   "cell_type": "markdown",
   "metadata": {},
   "source": [
    "Validate datatype has changed"
   ]
  },
  {
   "cell_type": "code",
   "execution_count": 54,
   "metadata": {},
   "outputs": [
    {
     "name": "stdout",
     "output_type": "stream",
     "text": [
      "<class 'pandas.core.frame.DataFrame'>\n",
      "Index: 558837 entries, 0 to 554710\n",
      "Data columns (total 19 columns):\n",
      " #   Column        Non-Null Count   Dtype  \n",
      "---  ------        --------------   -----  \n",
      " 0   year          558837 non-null  int64  \n",
      " 1   make          548536 non-null  object \n",
      " 2   model         548536 non-null  object \n",
      " 3   trim          548186 non-null  object \n",
      " 4   body          545642 non-null  object \n",
      " 5   transmission  493481 non-null  object \n",
      " 6   vin           558837 non-null  object \n",
      " 7   state         558811 non-null  object \n",
      " 8   condition     547043 non-null  float64\n",
      " 9   odometer      558743 non-null  float64\n",
      " 10  color         533402 non-null  object \n",
      " 11  interior      541012 non-null  object \n",
      " 12  seller        558811 non-null  object \n",
      " 13  mmr           558825 non-null  float64\n",
      " 14  sellingprice  558825 non-null  float64\n",
      " 15  sale_weekday  558799 non-null  object \n",
      " 16  sale_month    558799 non-null  object \n",
      " 17  sale_day      558799 non-null  object \n",
      " 18  sale_year     558799 non-null  object \n",
      "dtypes: float64(4), int64(1), object(14)\n",
      "memory usage: 101.4+ MB\n"
     ]
    }
   ],
   "source": [
    "df_clean.info()"
   ]
  },
  {
   "cell_type": "markdown",
   "metadata": {},
   "source": [
    "**Box plot for multiple variables**"
   ]
  },
  {
   "cell_type": "code",
   "execution_count": 55,
   "metadata": {},
   "outputs": [
    {
     "name": "stdout",
     "output_type": "stream",
     "text": [
      "numeric variables: ['year', 'condition', 'odometer', 'mmr', 'sellingprice']\n",
      "\n",
      "year\n",
      "LL: 1998.0 | UL: 2022.0\n",
      "Rows of outliers : 4021\n",
      "\n",
      "condition\n",
      "LL: -5.5 | UL: 70.5\n",
      "Rows of outliers : 0\n",
      "\n",
      "odometer\n",
      "LL: -77736.0 | UL: 205216.0\n",
      "Rows of outliers : 10375\n",
      "\n",
      "mmr\n",
      "LL: -9700.0 | UL: 35100.0\n",
      "Rows of outliers : 16315\n",
      "\n",
      "sellingprice\n",
      "LL: -10050.0 | UL: 35150.0\n",
      "Rows of outliers : 16354\n",
      "\n"
     ]
    }
   ],
   "source": [
    "# Separate numerical into different df\n",
    "num_cols = df_clean.select_dtypes(include=['int64','float64']).columns.tolist()\n",
    "print('numeric variables:', num_cols)\n",
    "print('')\n",
    "\n",
    "# Loop to cycle through numerical columns and create IQR for each column\n",
    "for col in num_cols:\n",
    "    print(col) #Print column name\n",
    "    percentile25 = df_clean[col].quantile(0.25) # Compute the 25th percentile value \n",
    "    percentile75 = df_clean[col].quantile(0.75) # Compute the 75th percentile value   \n",
    "    iqr = percentile75 - percentile25 # Compute the interquartile range\n",
    "    \n",
    "    # Define the upper limit and lower limit for non-outlier values in ``\n",
    "    upper_limit = percentile75 + 1.5 * iqr\n",
    "    lower_limit = percentile25 - 1.5 * iqr\n",
    "    print('LL:', lower_limit, '|', 'UL:', upper_limit)\n",
    "\n",
    "    # Identify subset of data containing outliers\n",
    "    outliers = df_clean[(df_clean[col] > upper_limit) | (df_clean[col] < lower_limit)]\n",
    "\n",
    "    # Count how many rows in the data contain outliers \n",
    "    print('Rows of outliers :', len(outliers))\n",
    "    print('')"
   ]
  },
  {
   "cell_type": "markdown",
   "metadata": {},
   "source": [
    "Outliers detected for year, odometer, mmr and sellingprice. \n",
    "- mmr and sellingprice has the most outliers ~16K\n",
    "- odometer has ~10K rows of outliers\n",
    "- lastly year has ~4K rows of outliers"
   ]
  },
  {
   "cell_type": "code",
   "execution_count": 56,
   "metadata": {},
   "outputs": [],
   "source": [
    "df_clean.to_csv(\"data/df_clean.csv\")"
   ]
  },
  {
   "cell_type": "markdown",
   "metadata": {},
   "source": [
    "# Data Analysis"
   ]
  },
  {
   "cell_type": "markdown",
   "metadata": {},
   "source": [
    "### sellingprice"
   ]
  },
  {
   "cell_type": "code",
   "execution_count": 59,
   "metadata": {},
   "outputs": [],
   "source": [
    "from plots import *"
   ]
  },
  {
   "cell_type": "code",
   "execution_count": 57,
   "metadata": {},
   "outputs": [
    {
     "name": "stdout",
     "output_type": "stream",
     "text": [
      "Feature: sellingprice\n",
      "Right Skew: 1.95\n",
      "Median: 12100.0\n"
     ]
    },
    {
     "data": {
      "image/png": "[encoded data removed]",
      "text/plain": [
       "<Figure size 1100x200 with 2 Axes>"
      ]
     },
     "metadata": {},
     "output_type": "display_data"
    }
   ],
   "source": [
    "# apply function\n",
    "bhplt(df_clean,'sellingprice',11,2,0.3,5000)"
   ]
  },
  {
   "cell_type": "markdown",
   "metadata": {},
   "source": [
    "- selling price plot similar to MMR"
   ]
  },
  {
   "cell_type": "markdown",
   "metadata": {},
   "source": [
    "### Year (Manufacturing)"
   ]
  },
  {
   "cell_type": "markdown",
   "metadata": {},
   "source": [
    "Import function to plot histogram and boxplot "
   ]
  },
  {
   "cell_type": "code",
   "execution_count": 123,
   "metadata": {},
   "outputs": [
    {
     "name": "stdout",
     "output_type": "stream",
     "text": [
      "Feature: year\n",
      "Left Skew: -1.18\n",
      "Median: 2012.0\n"
     ]
    },
    {
     "data": {
      "image/png": "[encoded data removed]",
      "text/plain": [
       "<Figure size 1100x200 with 2 Axes>"
      ]
     },
     "metadata": {},
     "output_type": "display_data"
    }
   ],
   "source": [
    "# apply function\n",
    "bhplt(df_clean,'year',11,2,0.3,5)"
   ]
  },
  {
   "cell_type": "markdown",
   "metadata": {},
   "source": [
    "- manufacturing year data skewed to the left with most cars manufactured more recently in 2012, followed by 2013, 2014\n",
    "- 2015: sharp drop in cars manufactured in 2015"
   ]
  },
  {
   "cell_type": "markdown",
   "metadata": {},
   "source": [
    "Let's check if we have full year of data for 2015"
   ]
  },
  {
   "cell_type": "code",
   "execution_count": 124,
   "metadata": {},
   "outputs": [
    {
     "data": {
      "text/html": [
       "<div>\n",
       "<style scoped>\n",
       "    .dataframe tbody tr th:only-of-type {\n",
       "        vertical-align: middle;\n",
       "    }\n",
       "\n",
       "    .dataframe tbody tr th {\n",
       "        vertical-align: top;\n",
       "    }\n",
       "\n",
       "    .dataframe thead th {\n",
       "        text-align: right;\n",
       "    }\n",
       "</style>\n",
       "<table border=\"1\" class=\"dataframe\">\n",
       "  <thead>\n",
       "    <tr style=\"text-align: right;\">\n",
       "      <th></th>\n",
       "      <th>year</th>\n",
       "      <th>make</th>\n",
       "      <th>model</th>\n",
       "      <th>trim</th>\n",
       "      <th>body</th>\n",
       "      <th>transmission</th>\n",
       "      <th>vin</th>\n",
       "      <th>state</th>\n",
       "      <th>condition</th>\n",
       "      <th>odometer</th>\n",
       "      <th>color</th>\n",
       "      <th>interior</th>\n",
       "      <th>seller</th>\n",
       "      <th>mmr</th>\n",
       "      <th>sellingprice</th>\n",
       "      <th>sale_weekday</th>\n",
       "      <th>sale_month</th>\n",
       "      <th>sale_day</th>\n",
       "      <th>sale_year</th>\n",
       "    </tr>\n",
       "  </thead>\n",
       "  <tbody>\n",
       "    <tr>\n",
       "      <th>0</th>\n",
       "      <td>2015</td>\n",
       "      <td>kia</td>\n",
       "      <td>Sorento</td>\n",
       "      <td>LX</td>\n",
       "      <td>suv</td>\n",
       "      <td>automatic</td>\n",
       "      <td>5xyktca69fg566472</td>\n",
       "      <td>ca</td>\n",
       "      <td>5.0</td>\n",
       "      <td>16639.0</td>\n",
       "      <td>white</td>\n",
       "      <td>black</td>\n",
       "      <td>kia motors america  inc</td>\n",
       "      <td>20500.0</td>\n",
       "      <td>21500.0</td>\n",
       "      <td>Tue</td>\n",
       "      <td>Dec</td>\n",
       "      <td>16</td>\n",
       "      <td>2014</td>\n",
       "    </tr>\n",
       "    <tr>\n",
       "      <th>1</th>\n",
       "      <td>2015</td>\n",
       "      <td>kia</td>\n",
       "      <td>Sorento</td>\n",
       "      <td>LX</td>\n",
       "      <td>suv</td>\n",
       "      <td>automatic</td>\n",
       "      <td>5xyktca69fg561319</td>\n",
       "      <td>ca</td>\n",
       "      <td>5.0</td>\n",
       "      <td>9393.0</td>\n",
       "      <td>white</td>\n",
       "      <td>beige</td>\n",
       "      <td>kia motors america  inc</td>\n",
       "      <td>20800.0</td>\n",
       "      <td>21500.0</td>\n",
       "      <td>Tue</td>\n",
       "      <td>Dec</td>\n",
       "      <td>16</td>\n",
       "      <td>2014</td>\n",
       "    </tr>\n",
       "    <tr>\n",
       "      <th>3</th>\n",
       "      <td>2015</td>\n",
       "      <td>volvo</td>\n",
       "      <td>S60</td>\n",
       "      <td>T5</td>\n",
       "      <td>sedan</td>\n",
       "      <td>automatic</td>\n",
       "      <td>yv1612tb4f1310987</td>\n",
       "      <td>ca</td>\n",
       "      <td>41.0</td>\n",
       "      <td>14282.0</td>\n",
       "      <td>white</td>\n",
       "      <td>black</td>\n",
       "      <td>volvo na rep/world omni</td>\n",
       "      <td>27500.0</td>\n",
       "      <td>27750.0</td>\n",
       "      <td>Thu</td>\n",
       "      <td>Jan</td>\n",
       "      <td>29</td>\n",
       "      <td>2015</td>\n",
       "    </tr>\n",
       "    <tr>\n",
       "      <th>5</th>\n",
       "      <td>2015</td>\n",
       "      <td>nissan</td>\n",
       "      <td>Altima</td>\n",
       "      <td>2.5 S</td>\n",
       "      <td>sedan</td>\n",
       "      <td>automatic</td>\n",
       "      <td>1n4al3ap1fn326013</td>\n",
       "      <td>ca</td>\n",
       "      <td>1.0</td>\n",
       "      <td>5554.0</td>\n",
       "      <td>gray</td>\n",
       "      <td>black</td>\n",
       "      <td>enterprise vehicle exchange / tra / rental / t...</td>\n",
       "      <td>15350.0</td>\n",
       "      <td>10900.0</td>\n",
       "      <td>Tue</td>\n",
       "      <td>Dec</td>\n",
       "      <td>30</td>\n",
       "      <td>2014</td>\n",
       "    </tr>\n",
       "    <tr>\n",
       "      <th>11</th>\n",
       "      <td>2015</td>\n",
       "      <td>kia</td>\n",
       "      <td>optima</td>\n",
       "      <td>LX</td>\n",
       "      <td>sedan</td>\n",
       "      <td>automatic</td>\n",
       "      <td>5xxgm4a73fg353538</td>\n",
       "      <td>ca</td>\n",
       "      <td>48.0</td>\n",
       "      <td>2034.0</td>\n",
       "      <td>red</td>\n",
       "      <td>tan</td>\n",
       "      <td>kia motors finance</td>\n",
       "      <td>15150.0</td>\n",
       "      <td>17700.0</td>\n",
       "      <td>Tue</td>\n",
       "      <td>Dec</td>\n",
       "      <td>16</td>\n",
       "      <td>2014</td>\n",
       "    </tr>\n",
       "  </tbody>\n",
       "</table>\n",
       "</div>"
      ],
      "text/plain": [
       "    year    make    model   trim   body transmission                vin state  \\\n",
       "0   2015     kia  Sorento     LX    suv    automatic  5xyktca69fg566472    ca   \n",
       "1   2015     kia  Sorento     LX    suv    automatic  5xyktca69fg561319    ca   \n",
       "3   2015   volvo      S60     T5  sedan    automatic  yv1612tb4f1310987    ca   \n",
       "5   2015  nissan   Altima  2.5 S  sedan    automatic  1n4al3ap1fn326013    ca   \n",
       "11  2015     kia   optima     LX  sedan    automatic  5xxgm4a73fg353538    ca   \n",
       "\n",
       "    condition  odometer  color interior  \\\n",
       "0         5.0   16639.0  white    black   \n",
       "1         5.0    9393.0  white    beige   \n",
       "3        41.0   14282.0  white    black   \n",
       "5         1.0    5554.0   gray    black   \n",
       "11       48.0    2034.0    red      tan   \n",
       "\n",
       "                                               seller      mmr  sellingprice  \\\n",
       "0                             kia motors america  inc  20500.0       21500.0   \n",
       "1                             kia motors america  inc  20800.0       21500.0   \n",
       "3                             volvo na rep/world omni  27500.0       27750.0   \n",
       "5   enterprise vehicle exchange / tra / rental / t...  15350.0       10900.0   \n",
       "11                                 kia motors finance  15150.0       17700.0   \n",
       "\n",
       "   sale_weekday sale_month sale_day sale_year  \n",
       "0           Tue        Dec       16      2014  \n",
       "1           Tue        Dec       16      2014  \n",
       "3           Thu        Jan       29      2015  \n",
       "5           Tue        Dec       30      2014  \n",
       "11          Tue        Dec       16      2014  "
      ]
     },
     "execution_count": 124,
     "metadata": {},
     "output_type": "execute_result"
    }
   ],
   "source": [
    "mask_yr = (df_clean['year'] == 2015 ) \n",
    "df_clean[mask_yr].head()"
   ]
  },
  {
   "cell_type": "markdown",
   "metadata": {},
   "source": [
    "confirmed we have a full year of data for 2015. What could be the reason for sharp drop in manufacuting in 2015?"
   ]
  },
  {
   "cell_type": "markdown",
   "metadata": {},
   "source": [
    "### Year vs Selling price"
   ]
  },
  {
   "cell_type": "code",
   "execution_count": 125,
   "metadata": {},
   "outputs": [
    {
     "data": {
      "image/png": "[encoded data removed]",
      "text/plain": [
       "<Figure size 1000x300 with 1 Axes>"
      ]
     },
     "metadata": {},
     "output_type": "display_data"
    }
   ],
   "source": [
    "bplts(df_clean,'year','sellingprice',10,3,45,'','')"
   ]
  },
  {
   "cell_type": "markdown",
   "metadata": {},
   "source": [
    "- cars manufacturing between 2010-2015 have higher selling price while older cars has less value.\n",
    "- older cars show lower selling price however, `1982` shows decent selling price. is it vintage? "
   ]
  },
  {
   "cell_type": "code",
   "execution_count": 126,
   "metadata": {},
   "outputs": [
    {
     "data": {
      "text/html": [
       "<div>\n",
       "<style scoped>\n",
       "    .dataframe tbody tr th:only-of-type {\n",
       "        vertical-align: middle;\n",
       "    }\n",
       "\n",
       "    .dataframe tbody tr th {\n",
       "        vertical-align: top;\n",
       "    }\n",
       "\n",
       "    .dataframe thead th {\n",
       "        text-align: right;\n",
       "    }\n",
       "</style>\n",
       "<table border=\"1\" class=\"dataframe\">\n",
       "  <thead>\n",
       "    <tr style=\"text-align: right;\">\n",
       "      <th></th>\n",
       "      <th>year</th>\n",
       "      <th>make</th>\n",
       "      <th>model</th>\n",
       "      <th>trim</th>\n",
       "      <th>body</th>\n",
       "      <th>transmission</th>\n",
       "      <th>vin</th>\n",
       "      <th>state</th>\n",
       "      <th>condition</th>\n",
       "      <th>odometer</th>\n",
       "      <th>color</th>\n",
       "      <th>interior</th>\n",
       "      <th>seller</th>\n",
       "      <th>mmr</th>\n",
       "      <th>sellingprice</th>\n",
       "      <th>sale_weekday</th>\n",
       "      <th>sale_month</th>\n",
       "      <th>sale_day</th>\n",
       "      <th>sale_year</th>\n",
       "    </tr>\n",
       "  </thead>\n",
       "  <tbody>\n",
       "    <tr>\n",
       "      <th>207920</th>\n",
       "      <td>1982</td>\n",
       "      <td>NaN</td>\n",
       "      <td>NaN</td>\n",
       "      <td>NaN</td>\n",
       "      <td>NaN</td>\n",
       "      <td>automatic</td>\n",
       "      <td>1g1ay0786c5123682</td>\n",
       "      <td>ca</td>\n",
       "      <td>2.0</td>\n",
       "      <td>85738.0</td>\n",
       "      <td>gold</td>\n",
       "      <td>gray</td>\n",
       "      <td>livermore toyota and livermore scion</td>\n",
       "      <td>6175.0</td>\n",
       "      <td>5000.0</td>\n",
       "      <td>Wed</td>\n",
       "      <td>Jan</td>\n",
       "      <td>28</td>\n",
       "      <td>2015</td>\n",
       "    </tr>\n",
       "    <tr>\n",
       "      <th>530893</th>\n",
       "      <td>1982</td>\n",
       "      <td>NaN</td>\n",
       "      <td>NaN</td>\n",
       "      <td>NaN</td>\n",
       "      <td>NaN</td>\n",
       "      <td>automatic</td>\n",
       "      <td>wdbba45a0cb017970</td>\n",
       "      <td>pa</td>\n",
       "      <td>4.0</td>\n",
       "      <td>18404.0</td>\n",
       "      <td>white</td>\n",
       "      <td>gray</td>\n",
       "      <td>adcock brothers inc</td>\n",
       "      <td>3675.0</td>\n",
       "      <td>20500.0</td>\n",
       "      <td>Thu</td>\n",
       "      <td>Jun</td>\n",
       "      <td>11</td>\n",
       "      <td>2015</td>\n",
       "    </tr>\n",
       "  </tbody>\n",
       "</table>\n",
       "</div>"
      ],
      "text/plain": [
       "        year make model trim body transmission                vin state  \\\n",
       "207920  1982  NaN   NaN  NaN  NaN    automatic  1g1ay0786c5123682    ca   \n",
       "530893  1982  NaN   NaN  NaN  NaN    automatic  wdbba45a0cb017970    pa   \n",
       "\n",
       "        condition  odometer  color interior  \\\n",
       "207920        2.0   85738.0   gold     gray   \n",
       "530893        4.0   18404.0  white     gray   \n",
       "\n",
       "                                      seller     mmr  sellingprice  \\\n",
       "207920  livermore toyota and livermore scion  6175.0        5000.0   \n",
       "530893                   adcock brothers inc  3675.0       20500.0   \n",
       "\n",
       "       sale_weekday sale_month sale_day sale_year  \n",
       "207920          Wed        Jan       28      2015  \n",
       "530893          Thu        Jun       11      2015  "
      ]
     },
     "execution_count": 126,
     "metadata": {},
     "output_type": "execute_result"
    }
   ],
   "source": [
    "df_clean.loc[df_clean['year'] == 1982]"
   ]
  },
  {
   "cell_type": "markdown",
   "metadata": {},
   "source": [
    "- data does not show make/model for cars manufactured in `1982`"
   ]
  },
  {
   "cell_type": "markdown",
   "metadata": {},
   "source": [
    "### Condition"
   ]
  },
  {
   "cell_type": "code",
   "execution_count": 127,
   "metadata": {},
   "outputs": [
    {
     "name": "stdout",
     "output_type": "stream",
     "text": [
      "Feature: condition\n",
      "Left Skew: -0.83\n",
      "Median: 35.0\n"
     ]
    },
    {
     "data": {
      "image/png": "[encoded data removed]",
      "text/plain": [
       "<Figure size 1100x200 with 2 Axes>"
      ]
     },
     "metadata": {},
     "output_type": "display_data"
    }
   ],
   "source": [
    "bhplt(df_clean,'condition',11,2,0.3,5)"
   ]
  },
  {
   "cell_type": "markdown",
   "metadata": {},
   "source": [
    "- conditions range from 1-49, with median at 35.\n",
    "- most cars were assigned a score of 18."
   ]
  },
  {
   "cell_type": "markdown",
   "metadata": {},
   "source": [
    "### Condition vs Selling price"
   ]
  },
  {
   "cell_type": "code",
   "execution_count": 61,
   "metadata": {},
   "outputs": [
    {
     "ename": "UnboundLocalError",
     "evalue": "local variable 'orders' referenced before assignment",
     "output_type": "error",
     "traceback": [
      "\u001b[1;31m---------------------------------------------------------------------------\u001b[0m",
      "\u001b[1;31mUnboundLocalError\u001b[0m                         Traceback (most recent call last)",
      "Cell \u001b[1;32mIn[61], line 1\u001b[0m\n\u001b[1;32m----> 1\u001b[0m \u001b[43mbplts\u001b[49m\u001b[43m(\u001b[49m\u001b[43mdf_clean\u001b[49m\u001b[43m,\u001b[49m\u001b[38;5;124;43m'\u001b[39;49m\u001b[38;5;124;43mcondition\u001b[39;49m\u001b[38;5;124;43m'\u001b[39;49m\u001b[43m,\u001b[49m\u001b[38;5;124;43m'\u001b[39;49m\u001b[38;5;124;43msellingprice\u001b[39;49m\u001b[38;5;124;43m'\u001b[39;49m\u001b[43m,\u001b[49m\u001b[38;5;241;43m10\u001b[39;49m\u001b[43m,\u001b[49m\u001b[38;5;241;43m3\u001b[39;49m\u001b[43m,\u001b[49m\u001b[38;5;241;43m45\u001b[39;49m\u001b[43m,\u001b[49m\u001b[38;5;124;43m'\u001b[39;49m\u001b[38;5;124;43mdesc\u001b[39;49m\u001b[38;5;124;43m'\u001b[39;49m\u001b[43m,\u001b[49m\u001b[38;5;124;43m'\u001b[39;49m\u001b[38;5;124;43m'\u001b[39;49m\u001b[43m)\u001b[49m\n",
      "File \u001b[1;32mc:\\Users\\tunhi\\OneDrive\\Documents\\Github\\vehiclesales\\plots.py:25\u001b[0m, in \u001b[0;36mbplts\u001b[1;34m(df, x, y, w, h, xrot, view, lim)\u001b[0m\n\u001b[0;32m     23\u001b[0m     orders \u001b[38;5;241m==\u001b[39m df[y]\u001b[38;5;241m.\u001b[39mvalue_counts(ascending\u001b[38;5;241m=\u001b[39m\u001b[38;5;28;01mTrue\u001b[39;00m)\u001b[38;5;241m.\u001b[39mindex\n\u001b[0;32m     24\u001b[0m \u001b[38;5;28;01melif\u001b[39;00m  view \u001b[38;5;241m==\u001b[39m \u001b[38;5;124m'\u001b[39m\u001b[38;5;124mdesc\u001b[39m\u001b[38;5;124m'\u001b[39m:\n\u001b[1;32m---> 25\u001b[0m     \u001b[43morders\u001b[49m \u001b[38;5;241m==\u001b[39m df[y]\u001b[38;5;241m.\u001b[39mvalue_counts(ascending\u001b[38;5;241m=\u001b[39m\u001b[38;5;28;01mFalse\u001b[39;00m)\u001b[38;5;241m.\u001b[39mindex\n\u001b[0;32m     26\u001b[0m \u001b[38;5;28;01melse\u001b[39;00m:\n\u001b[0;32m     27\u001b[0m     orders\u001b[38;5;241m=\u001b[39m\u001b[38;5;28;01mNone\u001b[39;00m\n",
      "\u001b[1;31mUnboundLocalError\u001b[0m: local variable 'orders' referenced before assignment"
     ]
    },
    {
     "data": {
      "image/png": "[encoded data removed]",
      "text/plain": [
       "<Figure size 1000x300 with 1 Axes>"
      ]
     },
     "metadata": {},
     "output_type": "display_data"
    }
   ],
   "source": [
    "bplts(df_clean,'condition','sellingprice',10,3,45,'desc','')"
   ]
  },
  {
   "cell_type": "code",
   "execution_count": null,
   "metadata": {},
   "outputs": [],
   "source": [
    "df_clean.loc[df_clean['condition'] <6].sort_values(by='sellingprice',ascending=False).head()"
   ]
  },
  {
   "cell_type": "markdown",
   "metadata": {},
   "source": [
    "- in general, cars with higher condition value have higher selling price\n",
    "\n",
    "- with some exceptions where conditions are 3,4,5. A quick look into these shows the make for these cars are luxury car makers. Makes sense why the car selling price is high despite low condition value"
   ]
  },
  {
   "cell_type": "markdown",
   "metadata": {},
   "source": [
    "### mmr"
   ]
  },
  {
   "cell_type": "code",
   "execution_count": null,
   "metadata": {},
   "outputs": [],
   "source": [
    "# apply function\n",
    "bhplt(df_clean,'mmr',11,2,0.3,5000)"
   ]
  },
  {
   "cell_type": "markdown",
   "metadata": {},
   "source": [
    "### odometer"
   ]
  },
  {
   "cell_type": "code",
   "execution_count": null,
   "metadata": {},
   "outputs": [],
   "source": [
    "# apply function\n",
    "bhplt(df_clean,'odometer',11,2,0.3,50000)"
   ]
  },
  {
   "cell_type": "markdown",
   "metadata": {},
   "source": [
    "### make"
   ]
  },
  {
   "cell_type": "code",
   "execution_count": null,
   "metadata": {},
   "outputs": [],
   "source": [
    "ctplt(df_clean, 'make', 10, 4, 10, 45,'y','%')"
   ]
  },
  {
   "cell_type": "markdown",
   "metadata": {},
   "source": [
    "### Make vs Selling price"
   ]
  },
  {
   "cell_type": "code",
   "execution_count": null,
   "metadata": {},
   "outputs": [],
   "source": [
    "bplts(df_clean,'make','sellingprice',10,3,45)"
   ]
  },
  {
   "cell_type": "markdown",
   "metadata": {},
   "source": [
    "> based on average selling price, rolls royce has the highest selling price followed by ferrari and lamborghini\n",
    "\n",
    "> however, these are luxury makes and not a good representative for comparison across all makes\n",
    "\n",
    "> should categorize makes by position to get better comparison between similar makes"
   ]
  },
  {
   "cell_type": "markdown",
   "metadata": {},
   "source": [
    "#### Make Tier"
   ]
  },
  {
   "cell_type": "code",
   "execution_count": null,
   "metadata": {},
   "outputs": [],
   "source": [
    "df6=df5.copy()"
   ]
  },
  {
   "cell_type": "code",
   "execution_count": null,
   "metadata": {},
   "outputs": [],
   "source": [
    "# create a dictionary of replacements\n",
    "model_positioning = {'kia':'mass market',\n",
    "                    'bmw':'premium',\n",
    "                    'volvo':'premium', \n",
    "                    'nissan':'mass market', \n",
    "                    'chevrolet':'mass market', \n",
    "                    'audi':'premium', \n",
    "                    'ford':'mass market',\n",
    "                    'hyundai':'mass market', \n",
    "                    'buick':'semi-premium', \n",
    "                    'cadillac':'premium', \n",
    "                    'acura':'premium', \n",
    "                    'lexus':'premium', \n",
    "                    'infiniti': 'premium',\n",
    "                    'jeep': 'semi-premium', \n",
    "                    'mercedes': 'premium', \n",
    "                    'mitsubishi': 'mass market', \n",
    "                    'mazda': 'mass market', \n",
    "                    'mini': 'semi-premium', \n",
    "                    'land rover': 'premium',\n",
    "                    'lincoln': 'premium', \n",
    "                    'jaguar': 'premium', \n",
    "                    'volkswagen': 'semi-premium', \n",
    "                    'toyota': 'mass market', \n",
    "                    'subaru': 'semi-premium', \n",
    "                    'scion': 'mass market',       \n",
    "                    'porsche': 'luxury',  \n",
    "                    'dodge': 'mass market', \n",
    "                    'fiat': 'mass market', \n",
    "                    'chrysler': 'mass market', \n",
    "                    'ferrari': 'top of line', \n",
    "                    'honda': 'mass market', \n",
    "                    'gmc': 'mass market', \n",
    "                    'ram': 'mass market', \n",
    "                    'smart': 'semi-premium', \n",
    "                    'bentley': 'top of line', \n",
    "                    'pontiac': 'mass market', \n",
    "                    'saturn': 'mass market', \n",
    "                    'maserati': 'luxury',\n",
    "                    'mercury': 'mass market', \n",
    "                    'hummer': 'mass market', \n",
    "                    'saab': 'other', \n",
    "                    'suzuki': 'mass market', \n",
    "                    'oldsmobile': 'other', \n",
    "                    'isuzu': 'other',              \n",
    "                    'geo': 'other', \n",
    "                    'rolls royce': 'top of line', \n",
    "                    'daewoo': 'other', \n",
    "                    'plymouth': 'mass market', \n",
    "                    'tesla': 'semi-premium', \n",
    "                    'airstream': 'mass market',\n",
    "                    'aston martin': 'top of line', \n",
    "                    'fisker': 'other', \n",
    "                    'lamborghini': 'top of line', \n",
    "                    'lotus':'semi-premium'\n",
    "                     }\n",
    "\n",
    "# replace values using the .map() method\n",
    "df6['make_tier'] = df6['make'].map(model_positioning).fillna(df6['make'])\n",
    "\n",
    "# print the DataFrame\n",
    "df6[['make','make_tier']]"
   ]
  },
  {
   "cell_type": "code",
   "execution_count": null,
   "metadata": {},
   "outputs": [],
   "source": [
    "df_ver = 'current: df6 = added make_tier column, df5=convert continuous columns back to float. current: df4a = replace missing values for model. df4 = convert \"-\" in color and interior to nan. df3 = tranmission rows cleaned and added back to df, df2 =dropped rows where transmission = sedan. df1 = split saledate column, cleaned model names, clean body names'"
   ]
  },
  {
   "cell_type": "markdown",
   "metadata": {},
   "source": [
    "#### `Make Tier` vs Selling price"
   ]
  },
  {
   "cell_type": "code",
   "execution_count": null,
   "metadata": {},
   "outputs": [],
   "source": [
    "# setting the dimensions of the plot\n",
    "fig, ax = plt.subplots(figsize=(5,3))\n",
    "\n",
    "# define order the graph but also only showing top 50%\n",
    "order = df6.groupby([\"make_tier\"])[\"sellingprice\"].mean().sort_values(ascending=False).index\n",
    "sns.barplot(df6, x='make_tier', y='sellingprice', ax=ax, errorbar=None, order=order)\n",
    "plt.title(\"Selling price by make_tier\", fontsize=12)\n",
    "plt.ylabel(\"Selling Price\")\n",
    "plt.xlabel(\"make_tier\")\n",
    "plt.xticks(rotation=45, ha='right')\n",
    "\n",
    "count = df6['make_tier'].value_counts(ascending=False)\n",
    "percentage = df6['make_tier'].value_counts(ascending=False, normalize=True).values * 100\n",
    "lbls = [f'{p[0]} ({p[1]:.0f}%)' for p in zip(count, percentage)]\n",
    "\n",
    "ax.bar_label(container=ax.containers[0], labels=lbls, fontsize=10, rotation=30,label_type='edge' )\n",
    "\n",
    "plt.show()"
   ]
  },
  {
   "cell_type": "markdown",
   "metadata": {},
   "source": [
    "### model"
   ]
  },
  {
   "cell_type": "code",
   "execution_count": null,
   "metadata": {},
   "outputs": [],
   "source": [
    "fig = plt.figure(figsize=(15,4))\n",
    "ax = sns.countplot(x=df5['model'],\n",
    "                   order=df5['model'].value_counts(ascending=False).head(40).index)\n",
    "\n",
    "plt.xticks(\n",
    "    rotation=45, \n",
    "    # horizontalalignment='right',\n",
    "    # fontweight='light',\n",
    "    # fontsize=10  \n",
    ")\n",
    "\n",
    "count =df5['model'].value_counts(ascending=False)\n",
    "percentage = df5['model'].value_counts(ascending=False, normalize=True).values * 100\n",
    "lbls = [f'{p[0]} ({p[1]:.0f}%)' for p in zip(count, percentage)]\n",
    "\n",
    "# ax.bar_label(container=ax.containers[0], labels=lbls, fontsize=10 )\n",
    "\n",
    "None"
   ]
  },
  {
   "cell_type": "markdown",
   "metadata": {},
   "source": [
    "##### Most sold cars by `model` are "
   ]
  },
  {
   "cell_type": "code",
   "execution_count": null,
   "metadata": {},
   "outputs": [],
   "source": [
    "df5['model'].value_counts(normalize=True).head(5)"
   ]
  },
  {
   "cell_type": "markdown",
   "metadata": {},
   "source": [
    "##### Least sold cars by `model` are "
   ]
  },
  {
   "cell_type": "code",
   "execution_count": null,
   "metadata": {},
   "outputs": [],
   "source": [
    "df5['model'].value_counts(normalize=True).tail(5)"
   ]
  },
  {
   "cell_type": "markdown",
   "metadata": {},
   "source": [
    "#### `trim`"
   ]
  },
  {
   "cell_type": "markdown",
   "metadata": {},
   "source": [
    "##### Most sold cars by `trim` are "
   ]
  },
  {
   "cell_type": "code",
   "execution_count": null,
   "metadata": {},
   "outputs": [],
   "source": [
    "fig = plt.figure(figsize=(15,4))\n",
    "ax = sns.countplot(x=df5['trim'],\n",
    "                   order=df5['trim'].value_counts(ascending=False).head(40).index)\n",
    "\n",
    "plt.xticks(\n",
    "    rotation=45, \n",
    "    # horizontalalignment='right',\n",
    "    # fontweight='light',\n",
    "    # fontsize=10  \n",
    ")\n",
    "\n",
    "count =df5['trim'].value_counts(ascending=False)\n",
    "percentage = df5['trim'].value_counts(ascending=False, normalize=True).values * 100\n",
    "lbls = [f'{p[0]} ({p[1]:.0f}%)' for p in zip(count, percentage)]\n",
    "\n",
    "# ax.bar_label(container=ax.containers[0], labels=lbls, fontsize=10 )\n",
    "\n",
    "None"
   ]
  },
  {
   "cell_type": "code",
   "execution_count": null,
   "metadata": {},
   "outputs": [],
   "source": [
    "df5['trim'].value_counts(normalize=True).head(5)"
   ]
  },
  {
   "cell_type": "markdown",
   "metadata": {},
   "source": [
    "##### Least sold cars by `trim` are "
   ]
  },
  {
   "cell_type": "code",
   "execution_count": null,
   "metadata": {},
   "outputs": [],
   "source": [
    "df5['trim'].value_counts(normalize=True).tail(5)"
   ]
  },
  {
   "cell_type": "markdown",
   "metadata": {},
   "source": [
    "#### `body`"
   ]
  },
  {
   "cell_type": "code",
   "execution_count": null,
   "metadata": {},
   "outputs": [],
   "source": [
    "fig = plt.figure(figsize=(15,3))\n",
    "ax = sns.countplot(x=df5['body'],\n",
    "                   order=df5['body'].value_counts(ascending=False).head(5).index)\n",
    "\n",
    "plt.xticks(\n",
    "    rotation=45, \n",
    "    # horizontalalignment='right',\n",
    "    # fontweight='light',\n",
    "    # fontsize=10  \n",
    ")\n",
    "\n",
    "count =df5['body'].value_counts(ascending=False)\n",
    "percentage = df5['body'].value_counts(ascending=False, normalize=True).values * 100\n",
    "lbls = [f'{p[0]} ({p[1]:.0f}%)' for p in zip(count, percentage)]\n",
    "\n",
    "# ax.bar_label(container=ax.containers[0], labels=lbls, fontsize=10 )\n",
    "\n",
    "None"
   ]
  },
  {
   "cell_type": "markdown",
   "metadata": {},
   "source": [
    "##### Most sold cars by `body` are "
   ]
  },
  {
   "cell_type": "code",
   "execution_count": null,
   "metadata": {},
   "outputs": [],
   "source": [
    "df5['body'].value_counts(normalize=True).head(5)"
   ]
  },
  {
   "cell_type": "markdown",
   "metadata": {},
   "source": [
    "> sedan sales makes up `~44%` of the market \n",
    "\n",
    "> suv sales make up `~23%` of the market"
   ]
  },
  {
   "cell_type": "markdown",
   "metadata": {},
   "source": [
    "##### Least sold cars by `body` are "
   ]
  },
  {
   "cell_type": "code",
   "execution_count": null,
   "metadata": {},
   "outputs": [],
   "source": [
    "df5['body'].value_counts(normalize=True).tail(5)"
   ]
  },
  {
   "cell_type": "markdown",
   "metadata": {},
   "source": [
    "#### `transmission`"
   ]
  },
  {
   "cell_type": "code",
   "execution_count": null,
   "metadata": {},
   "outputs": [],
   "source": [
    "fig = plt.figure(figsize=(15,4))\n",
    "ax = sns.countplot(x=df5['transmission'],\n",
    "                   order=df5['transmission'].value_counts(ascending=False).index)\n",
    "\n",
    "plt.xticks(\n",
    "    rotation=45, \n",
    "    # horizontalalignment='right',\n",
    "    # fontweight='light',\n",
    "    # fontsize=10  \n",
    ")\n",
    "\n",
    "count =df5['transmission'].value_counts(ascending=False)\n",
    "percentage = df5['transmission'].value_counts(ascending=False, normalize=True).values * 100\n",
    "lbls = [f'{p[0]} ({p[1]:.0f}%)' for p in zip(count, percentage)]\n",
    "\n",
    "ax.bar_label(container=ax.containers[0], labels=lbls, fontsize=10 )\n",
    "\n",
    "None"
   ]
  },
  {
   "cell_type": "markdown",
   "metadata": {},
   "source": [
    "> 96% of cars sold had auto transmission"
   ]
  },
  {
   "cell_type": "markdown",
   "metadata": {},
   "source": [
    "#### `state`\n"
   ]
  },
  {
   "cell_type": "code",
   "execution_count": null,
   "metadata": {},
   "outputs": [],
   "source": [
    "fig = plt.figure(figsize=(15,4))\n",
    "ax = sns.countplot(x=df5['state'],\n",
    "                   order=df5['state'].value_counts(ascending=False).index)\n",
    "\n",
    "plt.xticks(\n",
    "    rotation=45, \n",
    "    # horizontalalignment='right',\n",
    "    # fontweight='light',\n",
    "    # fontsize=10  \n",
    ")\n",
    "\n",
    "count =df5['state'].value_counts(ascending=False)\n",
    "percentage = df5['state'].value_counts(ascending=False, normalize=True).values * 100\n",
    "lbls = [f'{p[0]} ({p[1]:.0f}%)' for p in zip(count, percentage)]\n",
    "\n",
    "# ax.bar_label(container=ax.containers[0], labels=lbls, fontsize=10 )\n",
    "\n",
    "None"
   ]
  },
  {
   "cell_type": "markdown",
   "metadata": {},
   "source": [
    "##### Most sold cars by `state` are \n"
   ]
  },
  {
   "cell_type": "code",
   "execution_count": null,
   "metadata": {},
   "outputs": [],
   "source": [
    "df5['state'].value_counts(normalize=True).head(5)"
   ]
  },
  {
   "cell_type": "markdown",
   "metadata": {},
   "source": [
    "##### Least sold cars by `state` are "
   ]
  },
  {
   "cell_type": "code",
   "execution_count": null,
   "metadata": {},
   "outputs": [],
   "source": [
    "df5['state'].value_counts(normalize=True).tail(5)"
   ]
  },
  {
   "cell_type": "markdown",
   "metadata": {},
   "source": [
    "#### `color`\n"
   ]
  },
  {
   "cell_type": "code",
   "execution_count": null,
   "metadata": {},
   "outputs": [],
   "source": [
    "fig = plt.figure(figsize=(15,4))\n",
    "ax = sns.countplot(x=df5['color'],\n",
    "                   order=df5['color'].value_counts(ascending=False).index)\n",
    "\n",
    "plt.xticks(\n",
    "    rotation=45, \n",
    "    # horizontalalignment='right',\n",
    "    # fontweight='light',\n",
    "    # fontsize=10  \n",
    ")\n",
    "\n",
    "count =df5['color'].value_counts(ascending=False)\n",
    "percentage = df5['color'].value_counts(ascending=False, normalize=True).values * 100\n",
    "lbls = [f'{p[0]} ({p[1]:.0f}%)' for p in zip(count, percentage)]\n",
    "\n",
    "# ax.bar_label(container=ax.containers[0], labels=lbls, fontsize=10 )\n",
    "\n",
    "None"
   ]
  },
  {
   "cell_type": "markdown",
   "metadata": {},
   "source": [
    "##### Most sold cars by `color` are \n"
   ]
  },
  {
   "cell_type": "code",
   "execution_count": null,
   "metadata": {},
   "outputs": [],
   "source": [
    "df5['color'].value_counts(normalize=True).head(5)"
   ]
  },
  {
   "cell_type": "markdown",
   "metadata": {},
   "source": [
    "> muted colors are more popular in the market with black and white leading at ~`20%`"
   ]
  },
  {
   "cell_type": "markdown",
   "metadata": {},
   "source": [
    "##### Least sold cars by `color` are "
   ]
  },
  {
   "cell_type": "code",
   "execution_count": null,
   "metadata": {},
   "outputs": [],
   "source": [
    "df5['color'].value_counts(normalize=True).tail(5)"
   ]
  },
  {
   "cell_type": "markdown",
   "metadata": {},
   "source": [
    "#### `interior`\n"
   ]
  },
  {
   "cell_type": "code",
   "execution_count": null,
   "metadata": {},
   "outputs": [],
   "source": [
    "fig = plt.figure(figsize=(15,4))\n",
    "ax = sns.countplot(x=df5['interior'],\n",
    "                   order=df5['interior'].value_counts(ascending=False).index)\n",
    "\n",
    "plt.xticks(\n",
    "    rotation=45, \n",
    "    # horizontalalignment='right',\n",
    "    # fontweight='light',\n",
    "    # fontsize=10  \n",
    ")\n",
    "\n",
    "# count =df5['interior'].value_counts(ascending=False)\n",
    "# percentage = df5['interior'].value_counts(ascending=False, normalize=True).values * 100\n",
    "# lbls = [f'{p[0]} ({p[1]:.0f}%)' for p in zip(count, percentage)]\n",
    "\n",
    "# ax.bar_label(container=ax.containers[0], labels=lbls, fontsize=10 )\n",
    "\n",
    "None"
   ]
  },
  {
   "cell_type": "markdown",
   "metadata": {},
   "source": [
    "> black and gray are most popular colors for interiors"
   ]
  },
  {
   "cell_type": "markdown",
   "metadata": {},
   "source": [
    "#### `seller`\n"
   ]
  },
  {
   "cell_type": "markdown",
   "metadata": {},
   "source": [
    "##### Most sold cars by `seller` are \n"
   ]
  },
  {
   "cell_type": "code",
   "execution_count": null,
   "metadata": {},
   "outputs": [],
   "source": [
    "df5['seller'].value_counts(normalize=True).head(5)"
   ]
  },
  {
   "cell_type": "markdown",
   "metadata": {},
   "source": [
    "##### Least sold cars by `seller` are "
   ]
  },
  {
   "cell_type": "code",
   "execution_count": null,
   "metadata": {},
   "outputs": [],
   "source": [
    "df5['seller'].value_counts(normalize=True).tail(5)"
   ]
  },
  {
   "cell_type": "markdown",
   "metadata": {},
   "source": [
    "#### `sale_weekday`\n"
   ]
  },
  {
   "cell_type": "code",
   "execution_count": null,
   "metadata": {},
   "outputs": [],
   "source": [
    "fig = plt.figure(figsize=(15,4))\n",
    "ax = sns.countplot(x=df5['sale_weekday'],\n",
    "                   order=df5['sale_weekday'].value_counts(ascending=False).index)\n",
    "\n",
    "plt.xticks(\n",
    "    rotation=45, \n",
    "    # horizontalalignment='right',\n",
    "    # fontweight='light',\n",
    "    # fontsize=10  \n",
    ")\n",
    "\n",
    "count =df5['sale_weekday'].value_counts(ascending=False)\n",
    "percentage = df5['sale_weekday'].value_counts(ascending=False, normalize=True).values * 100\n",
    "lbls = [f'{p[0]} ({p[1]:.0f}%)' for p in zip(count, percentage)]\n",
    "\n",
    "ax.bar_label(container=ax.containers[0], labels=lbls, fontsize=10 )\n",
    "\n",
    "None"
   ]
  },
  {
   "cell_type": "markdown",
   "metadata": {},
   "source": [
    "> most care sales occured on `Wed` > `Tues` > `Thurs`\n",
    "\n",
    "> Least amount of cars were sold on the weekends."
   ]
  },
  {
   "cell_type": "markdown",
   "metadata": {},
   "source": [
    "#### `sale_month`\n"
   ]
  },
  {
   "cell_type": "code",
   "execution_count": null,
   "metadata": {},
   "outputs": [],
   "source": [
    "fig = plt.figure(figsize=(15,4))\n",
    "ax = sns.countplot(x=df5['sale_month'],\n",
    "                   order=df5['sale_month'].value_counts(ascending=False).index)\n",
    "\n",
    "plt.xticks(\n",
    "    rotation=45, \n",
    "    # horizontalalignment='right',\n",
    "    # fontweight='light',\n",
    "    # fontsize=10  \n",
    ")\n",
    "\n",
    "count =df5['sale_month'].value_counts(ascending=False)\n",
    "percentage = df5['sale_month'].value_counts(ascending=False, normalize=True).values * 100\n",
    "lbls = [f'{p[0]} ({p[1]:.0f}%)' for p in zip(count, percentage)]\n",
    "\n",
    "ax.bar_label(container=ax.containers[0], labels=lbls, fontsize=10 )\n",
    "\n",
    "None"
   ]
  },
  {
   "cell_type": "markdown",
   "metadata": {},
   "source": [
    "> most car sales in `Feb` and least in `Jul`"
   ]
  },
  {
   "cell_type": "markdown",
   "metadata": {},
   "source": [
    "#### `sale_day`\n"
   ]
  },
  {
   "cell_type": "code",
   "execution_count": null,
   "metadata": {},
   "outputs": [],
   "source": [
    "fig = plt.figure(figsize=(15,4))\n",
    "ax = sns.countplot(x=df5['sale_day'],\n",
    "                   order=df5['sale_day'].value_counts(ascending=False).index)\n",
    "\n",
    "plt.xticks(\n",
    "    rotation=45, \n",
    "    # horizontalalignment='right',\n",
    "    # fontweight='light',\n",
    "    # fontsize=10  \n",
    ")\n",
    "\n",
    "count =df5['sale_day'].value_counts(ascending=False)\n",
    "percentage = df5['sale_day'].value_counts(ascending=False, normalize=True).values * 100\n",
    "lbls = [f'{p[0]} ({p[1]:.0f}%)' for p in zip(count, percentage)]\n",
    "\n",
    "# ax.bar_label(container=ax.containers[0], labels=lbls, fontsize=10 )\n",
    "\n",
    "None"
   ]
  },
  {
   "cell_type": "markdown",
   "metadata": {},
   "source": [
    "#### `sale_year`\n"
   ]
  },
  {
   "cell_type": "code",
   "execution_count": null,
   "metadata": {},
   "outputs": [],
   "source": [
    "fig = plt.figure(figsize=(4,4))\n",
    "ax = sns.countplot(x=df5['sale_year'],\n",
    "                   order=df5['sale_year'].value_counts(ascending=False).index)\n",
    "\n",
    "plt.xticks(\n",
    "    rotation=45, \n",
    "    # horizontalalignment='right',\n",
    "    # fontweight='light',\n",
    "    # fontsize=10  \n",
    ")\n",
    "\n",
    "count =df5['sale_year'].value_counts(ascending=False)\n",
    "percentage = df5['sale_year'].value_counts(ascending=False, normalize=True).values * 100\n",
    "lbls = [f'{p[0]} ({p[1]:.0f}%)' for p in zip(count, percentage)]\n",
    "\n",
    "ax.bar_label(container=ax.containers[0], labels=lbls, fontsize=10 )\n",
    "\n",
    "None"
   ]
  },
  {
   "cell_type": "markdown",
   "metadata": {},
   "source": [
    "#### `Model` vs Selling price"
   ]
  },
  {
   "cell_type": "code",
   "execution_count": null,
   "metadata": {},
   "outputs": [],
   "source": [
    "# setting the dimensions of the plot\n",
    "fig, ax = plt.subplots(figsize=(10,3))\n",
    "\n",
    "# define order the graph but also only showing top 25 rows\n",
    "order = df6.groupby(['model'])[\"sellingprice\"].mean().sort_values(ascending=False).head(25).index\n",
    "sns.barplot(df6, x='model', y='sellingprice', ax=ax, errorbar=None, order=order)\n",
    "plt.title(\"Selling price by model\", fontsize=12)\n",
    "plt.ylabel(\"Selling Price\")\n",
    "plt.xlabel(\"model\")\n",
    "plt.xticks(rotation=45, ha='right')\n",
    "plt.show()"
   ]
  },
  {
   "cell_type": "code",
   "execution_count": null,
   "metadata": {},
   "outputs": [],
   "source": [
    "df6.groupby('model')[\"sellingprice\"].mean().sort_values(ascending=False)\n"
   ]
  },
  {
   "cell_type": "markdown",
   "metadata": {},
   "source": [
    "> based on average selling price, 458 Italia model has the highest selling price followed by 360 and 6 series gran coupe.\n",
    "\n",
    "> however, these are higher tier car models and not a good representative for comparison across all models.\n",
    "\n",
    "> should categorize models by make_tier to get better comparison between similar models."
   ]
  },
  {
   "cell_type": "markdown",
   "metadata": {},
   "source": []
  },
  {
   "cell_type": "markdown",
   "metadata": {},
   "source": [
    "#### `Model`/`Make_Tier` vs Selling price"
   ]
  },
  {
   "cell_type": "markdown",
   "metadata": {},
   "source": [
    "Steps\n",
    "\n",
    "1. Create a filterd df for each make tier\n",
    "2. then graph"
   ]
  },
  {
   "cell_type": "markdown",
   "metadata": {},
   "source": [
    "##### Top of Line "
   ]
  },
  {
   "cell_type": "code",
   "execution_count": null,
   "metadata": {},
   "outputs": [],
   "source": [
    "df_top = df6.loc[df6['make_tier'] == 'top of line']\n",
    "df_top.head(2)\n"
   ]
  },
  {
   "cell_type": "code",
   "execution_count": null,
   "metadata": {},
   "outputs": [],
   "source": [
    "# setting the dimensions of the plot\n",
    "fig, ax = plt.subplots(figsize=(10,3))\n",
    "\n",
    "# define order the graph but also only showing top 50%\n",
    "order = df_top.groupby(['model'])[\"sellingprice\"].mean().sort_values(ascending=False).index\n",
    "sns.barplot(df_top, x='model', y='sellingprice', ax=ax, errorbar=None, order=order)\n",
    "ax.bar_label(container=ax.containers[0], fontsize=10, rotation=90, label_type='center' )\n",
    "plt.title(\"Selling price by model for top of line car makers\", fontsize=12)\n",
    "plt.ylabel(\"Selling Price\")\n",
    "plt.xlabel(\"model\")\n",
    "plt.xticks(rotation=45, ha='right')\n",
    "plt.show()"
   ]
  },
  {
   "cell_type": "markdown",
   "metadata": {},
   "source": [
    "> Top selling models for the top of the line car makers are \n",
    "1. 458 Italia - averages 183K\n",
    "2. Flying Spur\n",
    "3. Ghost"
   ]
  },
  {
   "cell_type": "markdown",
   "metadata": {},
   "source": [
    "##### Luxury"
   ]
  },
  {
   "cell_type": "code",
   "execution_count": null,
   "metadata": {},
   "outputs": [],
   "source": [
    "df_lux = df6.loc[df6['make_tier'] == 'luxury']\n",
    "df_lux.head(2)\n"
   ]
  },
  {
   "cell_type": "code",
   "execution_count": null,
   "metadata": {},
   "outputs": [],
   "source": [
    "# setting the dimensions of the plot\n",
    "fig, ax = plt.subplots(figsize=(10,3))\n",
    "\n",
    "# define order the graph but also only showing top 50%\n",
    "order = df_lux.groupby(['model'])[\"sellingprice\"].mean().sort_values(ascending=False).index\n",
    "sns.barplot(df_lux, x='model', y='sellingprice', ax=ax, errorbar=None, order=order)\n",
    "ax.bar_label(container=ax.containers[0], fontsize=10, rotation=90, label_type='center' )\n",
    "plt.title(\"Selling price by model for luxury car makers\", fontsize=12)\n",
    "plt.ylabel(\"Selling Price\")\n",
    "plt.xlabel(\"model\")\n",
    "plt.xticks(rotation=45, ha='right')\n",
    "plt.show()"
   ]
  },
  {
   "cell_type": "markdown",
   "metadata": {},
   "source": [
    "> For luxury car makers, top selling models are\n",
    "1. GranTurismo convertible\n",
    "2. 911\n",
    "3. Macan"
   ]
  },
  {
   "cell_type": "markdown",
   "metadata": {},
   "source": [
    "##### Premium"
   ]
  },
  {
   "cell_type": "code",
   "execution_count": null,
   "metadata": {},
   "outputs": [],
   "source": [
    "df_prem = df6.loc[df6['make_tier'] == 'premium']\n",
    "df_prem.head(2)\n"
   ]
  },
  {
   "cell_type": "code",
   "execution_count": null,
   "metadata": {},
   "outputs": [],
   "source": [
    "df_prem.describe()"
   ]
  },
  {
   "cell_type": "code",
   "execution_count": null,
   "metadata": {},
   "outputs": [],
   "source": [
    "# setting the dimensions of the plot\n",
    "fig, ax = plt.subplots(figsize=(15,3))\n",
    "\n",
    "# define order the graph but also only showing top 50%\n",
    "order = df_prem.groupby(['model'])[\"sellingprice\"].mean().sort_values(ascending=False).head(50).index\n",
    "sns.barplot(df_prem, x='model', y='sellingprice', ax=ax, errorbar=None, order=order)\n",
    "# ax.bar_label(container=ax.containers[0], fontsize=10, rotation=90, label_type='center' )\n",
    "plt.title(\"Selling price by model for premium car makers\", fontsize=12)\n",
    "plt.ylabel(\"Selling Price\")\n",
    "plt.xlabel(\"model\")\n",
    "plt.xticks(rotation=45, ha='right')\n",
    "plt.show()"
   ]
  },
  {
   "cell_type": "markdown",
   "metadata": {},
   "source": [
    "##### Semi-Premium"
   ]
  },
  {
   "cell_type": "code",
   "execution_count": null,
   "metadata": {},
   "outputs": [],
   "source": [
    "df_semi = df6.loc[df6['make_tier'] == 'semi-premium']\n",
    "df_semi.head(2)\n"
   ]
  },
  {
   "cell_type": "code",
   "execution_count": null,
   "metadata": {},
   "outputs": [],
   "source": [
    "df_semi.describe()"
   ]
  },
  {
   "cell_type": "code",
   "execution_count": null,
   "metadata": {},
   "outputs": [],
   "source": [
    "# setting the dimensions of the plot\n",
    "fig, ax = plt.subplots(figsize=(15,3))\n",
    "\n",
    "# define order the graph but also only showing top 50%\n",
    "order = df_semi.groupby(['model'])[\"sellingprice\"].mean().sort_values(ascending=False).head(20).index\n",
    "sns.barplot(df_semi, x='model', y='sellingprice', ax=ax, errorbar=None, order=order)\n",
    "# ax.bar_label(container=ax.containers[0], fontsize=10, rotation=90, label_type='center' )\n",
    "plt.title(\"Selling price by model for premium car makers\", fontsize=12)\n",
    "plt.ylabel(\"Selling Price\")\n",
    "plt.xlabel(\"model\")\n",
    "plt.xticks(rotation=45, ha='right')\n",
    "plt.show()"
   ]
  },
  {
   "cell_type": "markdown",
   "metadata": {},
   "source": [
    "##### Mass market"
   ]
  },
  {
   "cell_type": "code",
   "execution_count": null,
   "metadata": {},
   "outputs": [],
   "source": [
    "df_mass = df6.loc[df6['make_tier'] == 'mass market']\n",
    "df_mass.head(2)\n"
   ]
  },
  {
   "cell_type": "code",
   "execution_count": null,
   "metadata": {},
   "outputs": [],
   "source": [
    "df_mass.describe()"
   ]
  },
  {
   "cell_type": "code",
   "execution_count": null,
   "metadata": {},
   "outputs": [],
   "source": [
    "# setting the dimensions of the plot\n",
    "fig, ax = plt.subplots(figsize=(15,3))\n",
    "\n",
    "# define order the graph but also only showing top 50%\n",
    "order = df_mass.groupby(['model'])[\"sellingprice\"].mean().sort_values(ascending=False).head(20).index\n",
    "sns.barplot(df_mass, x='model', y='sellingprice', ax=ax, errorbar=None, order=order)\n",
    "# ax.bar_label(container=ax.containers[0], fontsize=10, rotation=90, label_type='center' )\n",
    "plt.title(\"Selling price by model for MASS MARKET car makers\", fontsize=12)\n",
    "plt.ylabel(\"Selling Price\")\n",
    "plt.xlabel(\"model\")\n",
    "plt.xticks(rotation=45, ha='right')\n",
    "plt.show()"
   ]
  },
  {
   "cell_type": "markdown",
   "metadata": {},
   "source": [
    "#### Make Tier Statistics"
   ]
  },
  {
   "cell_type": "code",
   "execution_count": null,
   "metadata": {},
   "outputs": [],
   "source": [
    "#calculate the mean selling price by car maker tier\n",
    "top_mean = round(df_top['sellingprice'].mean(),0)\n",
    "lux_mean = round(df_lux['sellingprice'].mean(),0)\n",
    "pre_mean = round(df_prem['sellingprice'].mean(),0)\n",
    "semi_mean = round(df_semi['sellingprice'].mean(),0)\n",
    "mass_mean = round(df_mass['sellingprice'].mean(),0)\n",
    "\n",
    "\n",
    "print('Mean selling price by car maker tier')\n",
    "print('Top of Line: ', top_mean)\n",
    "print('Luxury: ', lux_mean)\n",
    "print('Premium: ', pre_mean)\n",
    "print('Semi-premium: ', semi_mean)\n",
    "print('Mass market: ', mass_mean)\n",
    "\n",
    "print('')\n",
    "\n",
    "top_count =df_top.shape[0]\n",
    "lux_count =df_lux.shape[0]\n",
    "pre_count =df_prem.shape[0]\n",
    "semi_count =df_semi.shape[0]\n",
    "mass_count =df_mass.shape[0]\n",
    "\n",
    "print('Count of cars by car maker tier')\n",
    "print('Top of Line: ', top_count)\n",
    "print('Luxury: ', lux_count)\n",
    "print('Premium: ', pre_count)\n",
    "print('Semi-premium: ', semi_count)\n",
    "print('Mass market: ', mass_count)\n",
    "print('')\n",
    "\n",
    "top_sum = round(df_top['sellingprice'].sum(),0)\n",
    "lux_sum =  round(df_lux['sellingprice'].sum(),0)\n",
    "pre_sum = round(df_prem['sellingprice'].sum(),0)\n",
    "semi_sum = round(df_semi['sellingprice'].sum(),0)\n",
    "mass_sum =  round(df_mass['sellingprice'].sum(),0)\n",
    "\n",
    "print('Sum selling price by car maker tier')\n",
    "print('Top of Line: ', top_sum)\n",
    "print('Luxury: ', lux_sum)\n",
    "print('Premium: ', pre_sum)\n",
    "print('Semi-premium: ', semi_sum)\n",
    "print('Mass market: ',mass_sum)\n",
    "\n"
   ]
  },
  {
   "cell_type": "code",
   "execution_count": null,
   "metadata": {},
   "outputs": [],
   "source": [
    "top_mean/mass_mean"
   ]
  },
  {
   "cell_type": "code",
   "execution_count": null,
   "metadata": {},
   "outputs": [],
   "source": [
    "mass_sum/top_sum"
   ]
  },
  {
   "cell_type": "code",
   "execution_count": null,
   "metadata": {},
   "outputs": [],
   "source": [
    "mass_sum/(top_sum+lux_sum+pre_sum+semi_sum)"
   ]
  },
  {
   "cell_type": "markdown",
   "metadata": {},
   "source": [
    "> On average, top of the line cars sells 6x more than mass market cars\n",
    "\n",
    "> however, there are more mass market cars than top of the line cars; therfore the overall sales genrated from mass market cars is more than 300x that of top of the line cars\n",
    "\n",
    "> sales of mass market cars are still 2x more than all other tiers combined\n"
   ]
  },
  {
   "cell_type": "markdown",
   "metadata": {},
   "source": [
    "#### `Odometer` vs Selling price"
   ]
  },
  {
   "cell_type": "markdown",
   "metadata": {},
   "source": [
    "##### Group odometer into bins"
   ]
  },
  {
   "cell_type": "code",
   "execution_count": null,
   "metadata": {},
   "outputs": [],
   "source": [
    "interval_range = pd.interval_range(start=0, freq=10000, end=200000)\n",
    "df6['odometer_bins'] = pd.cut(df6['odometer'], bins=interval_range, labels=[1,2,3])\n",
    "df6[['odometer','odometer_bins']]"
   ]
  },
  {
   "cell_type": "code",
   "execution_count": null,
   "metadata": {},
   "outputs": [],
   "source": [
    "# setting the dimensions of the plot\n",
    "fig, ax = plt.subplots(figsize=(15, 5))\n",
    "\n",
    "ax = sns.barplot(df6, x=\"odometer_bins\", y='sellingprice', ax=ax, errorbar=None)\n",
    "ax.bar_label(container=ax.containers[0], fontsize=10, rotation=90, label_type='center' )\n",
    "plt.title(\"Selling price by odometer\", fontsize=12);\n",
    "plt.ylabel(\"Selling Price\")\n",
    "plt.xlabel(\"odometer\")\n",
    "plt.xticks(rotation=45, ha='right')\n",
    "plt.show()\n",
    "\n"
   ]
  },
  {
   "cell_type": "markdown",
   "metadata": {},
   "source": [
    "> average selling price is highest when vehicle's odometer is less than 10000"
   ]
  },
  {
   "cell_type": "markdown",
   "metadata": {},
   "source": [
    "#### Day vs selling price"
   ]
  },
  {
   "cell_type": "code",
   "execution_count": null,
   "metadata": {},
   "outputs": [],
   "source": [
    "# setting the dimensions of the plot\n",
    "fig, ax = plt.subplots(figsize=(15, 5))\n",
    "order = df6.groupby(['sale_day'])[\"sellingprice\"].mean().sort_values(ascending=False).index\n",
    "ax = sns.barplot(df6, x=\"sale_day\", y='sellingprice', ax=ax, errorbar=None)\n",
    "ax.bar_label(container=ax.containers[0], fontsize=10, rotation=90, label_type='center' )\n",
    "plt.title(\"Selling price by day of the month\", fontsize=12);\n",
    "plt.ylabel(\"Selling Price\")\n",
    "plt.xlabel(\"day of the month\")\n",
    "plt.xticks(rotation=45, ha='right')\n",
    "plt.show()\n",
    "\n"
   ]
  },
  {
   "cell_type": "markdown",
   "metadata": {},
   "source": [
    "> no major standout when filtering average selling price by day of the month"
   ]
  },
  {
   "cell_type": "markdown",
   "metadata": {},
   "source": [
    "#### Month vs selling price"
   ]
  },
  {
   "cell_type": "code",
   "execution_count": null,
   "metadata": {},
   "outputs": [],
   "source": [
    "# setting the dimensions of the plot\n",
    "fig, ax = plt.subplots(figsize=(15, 5))\n",
    "order = df6.groupby(['sale_month'])[\"sellingprice\"].mean().sort_values(ascending=False).index\n",
    "ax = sns.barplot(df6, x=\"sale_month\", y='sellingprice', ax=ax, errorbar=None, order=order)\n",
    "ax.bar_label(container=ax.containers[0], fontsize=10, rotation=90, label_type='center' )\n",
    "plt.title(\"Selling price by  month\", fontsize=12);\n",
    "plt.ylabel(\"Selling Price\")\n",
    "plt.xlabel(\"day of the month\")\n",
    "plt.xticks(rotation=45, ha='right')\n",
    "plt.show()\n",
    "\n"
   ]
  },
  {
   "cell_type": "markdown",
   "metadata": {},
   "source": [
    "> Jul is the month with highest average selling price yet it was the month with least number of sales"
   ]
  },
  {
   "cell_type": "markdown",
   "metadata": {},
   "source": [
    "#### State vs selling price"
   ]
  },
  {
   "cell_type": "code",
   "execution_count": null,
   "metadata": {},
   "outputs": [],
   "source": [
    "# setting the dimensions of the plot\n",
    "fig, ax = plt.subplots(figsize=(15, 5))\n",
    "order = df6.groupby(['state'])[\"sellingprice\"].mean().sort_values(ascending=False).index\n",
    "ax = sns.barplot(df6, x=\"state\", y='sellingprice', ax=ax, errorbar=None, order =order)\n",
    "ax.bar_label(container=ax.containers[0], fontsize=10, rotation=90, label_type='center' )\n",
    "plt.title(\"Selling price by state\", fontsize=12);\n",
    "plt.ylabel(\"Selling Price\")\n",
    "plt.xlabel(\"state\")\n",
    "plt.xticks(rotation=45, ha='right')\n",
    "plt.show()\n",
    "\n"
   ]
  },
  {
   "cell_type": "markdown",
   "metadata": {},
   "source": [
    "> Ontario has the highest average selling price followed by tennesee and pennsylvania"
   ]
  }
 ],
 "metadata": {
  "kernelspec": {
   "display_name": "base",
   "language": "python",
   "name": "python3"
  },
  "language_info": {
   "codemirror_mode": {
    "name": "ipython",
    "version": 3
   },
   "file_extension": ".py",
   "mimetype": "text/x-python",
   "name": "python",
   "nbconvert_exporter": "python",
   "pygments_lexer": "ipython3",
   "version": "3.10.14"
  }
 },
 "nbformat": 4,
 "nbformat_minor": 2
}
